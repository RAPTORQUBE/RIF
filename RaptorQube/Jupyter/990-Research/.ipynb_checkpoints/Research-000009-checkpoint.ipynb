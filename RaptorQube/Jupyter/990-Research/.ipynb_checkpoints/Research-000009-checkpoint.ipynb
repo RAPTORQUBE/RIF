{
 "cells": [
  {
   "cell_type": "code",
   "execution_count": 1,
   "metadata": {},
   "outputs": [
    {
     "name": "stderr",
     "output_type": "stream",
     "text": [
      "[2019-06-16 07:24:54,008] INFO - prefect.FlowRunner | Beginning Flow run for 'empty'\n",
      "[2019-06-16 07:24:54,016] INFO - prefect.FlowRunner | Starting flow run.\n",
      "[2019-06-16 07:24:54,020] INFO - prefect.FlowRunner | Flow run SUCCESS: all reference tasks succeeded\n"
     ]
    },
    {
     "data": {
      "text/plain": [
       "<Success: \"All reference tasks succeeded.\">"
      ]
     },
     "execution_count": 1,
     "metadata": {},
     "output_type": "execute_result"
    }
   ],
   "source": [
    "from prefect import Flow; \n",
    "f = Flow('empty'); \n",
    "f.run()"
   ]
  },
  {
   "cell_type": "code",
   "execution_count": 6,
   "metadata": {},
   "outputs": [
    {
     "name": "stderr",
     "output_type": "stream",
     "text": [
      "[2019-06-16 07:34:12,591] INFO - prefect.FlowRunner | Beginning Flow run for 'parameter-example'\n",
      "[2019-06-16 07:34:12,595] INFO - prefect.FlowRunner | Starting flow run.\n",
      "[2019-06-16 07:34:12,603] INFO - prefect.TaskRunner | Task 'p': Starting task run...\n",
      "[2019-06-16 07:34:12,607] INFO - prefect.TaskRunner | Task 'p': finished task run for task with final state: 'Success'\n",
      "[2019-06-16 07:34:12,607] INFO - prefect.TaskRunner | Task 'return_param': Starting task run...\n",
      "[2019-06-16 07:34:12,611] INFO - prefect.TaskRunner | Task 'return_param': finished task run for task with final state: 'Success'\n",
      "[2019-06-16 07:34:12,615] INFO - prefect.FlowRunner | Flow run SUCCESS: all reference tasks succeeded\n",
      "[2019-06-16 07:34:12,615] INFO - prefect.FlowRunner | Beginning Flow run for 'parameter-example'\n",
      "[2019-06-16 07:34:12,619] INFO - prefect.FlowRunner | Starting flow run.\n",
      "[2019-06-16 07:34:12,627] INFO - prefect.TaskRunner | Task 'p': Starting task run...\n",
      "[2019-06-16 07:34:12,631] INFO - prefect.TaskRunner | Task 'p': finished task run for task with final state: 'Success'\n",
      "[2019-06-16 07:34:12,631] INFO - prefect.TaskRunner | Task 'return_param': Starting task run...\n",
      "[2019-06-16 07:34:12,635] INFO - prefect.TaskRunner | Task 'return_param': finished task run for task with final state: 'Success'\n",
      "[2019-06-16 07:34:12,639] INFO - prefect.FlowRunner | Flow run SUCCESS: all reference tasks succeeded\n"
     ]
    },
    {
     "name": "stdout",
     "output_type": "stream",
     "text": [
      "Got  42\n",
      "Got  99\n"
     ]
    },
    {
     "data": {
      "text/plain": [
       "<Success: \"All reference tasks succeeded.\">"
      ]
     },
     "execution_count": 6,
     "metadata": {},
     "output_type": "execute_result"
    }
   ],
   "source": [
    "from prefect import task, Parameter, Flow\n",
    "\n",
    "\n",
    "@task\n",
    "def return_param(p):\n",
    "    print('Got %3d' % p)\n",
    "    return p\n",
    "\n",
    "\n",
    "with Flow(\"parameter-example\") as flow:\n",
    "    p = Parameter(\"p\", default=42)\n",
    "    result = return_param(p)\n",
    "\n",
    "\n",
    "flow.run() # uses the value 42\n",
    "flow.run(p=99) # uses the value 99"
   ]
  },
  {
   "cell_type": "code",
   "execution_count": 7,
   "metadata": {},
   "outputs": [
    {
     "name": "stderr",
     "output_type": "stream",
     "text": [
      "[2019-06-16 07:34:29,200] INFO - prefect.FlowRunner | Beginning Flow run for 'simple-map'\n",
      "[2019-06-16 07:34:29,204] INFO - prefect.FlowRunner | Starting flow run.\n",
      "[2019-06-16 07:34:29,216] INFO - prefect.TaskRunner | Task 'create_list': Starting task run...\n",
      "[2019-06-16 07:34:29,220] INFO - prefect.TaskRunner | Task 'create_list': finished task run for task with final state: 'Success'\n",
      "[2019-06-16 07:34:29,220] INFO - prefect.TaskRunner | Task 'add_one': Starting task run...\n",
      "[2019-06-16 07:34:29,224] INFO - prefect.TaskRunner | Task 'add_one[2]': Starting task run...\n",
      "[2019-06-16 07:34:29,228] INFO - prefect.TaskRunner | Task 'add_one[2]': finished task run for task with final state: 'Success'\n",
      "[2019-06-16 07:34:29,232] INFO - prefect.TaskRunner | Task 'add_one[0]': Starting task run...\n",
      "[2019-06-16 07:34:29,232] INFO - prefect.TaskRunner | Task 'add_one[0]': finished task run for task with final state: 'Success'\n",
      "[2019-06-16 07:34:29,236] INFO - prefect.TaskRunner | Task 'add_one[3]': Starting task run...\n",
      "[2019-06-16 07:34:29,240] INFO - prefect.TaskRunner | Task 'add_one[3]': finished task run for task with final state: 'Success'\n",
      "[2019-06-16 07:34:29,240] INFO - prefect.TaskRunner | Task 'add_one[1]': Starting task run...\n",
      "[2019-06-16 07:34:29,244] INFO - prefect.TaskRunner | Task 'add_one[1]': finished task run for task with final state: 'Success'\n",
      "[2019-06-16 07:34:29,248] INFO - prefect.TaskRunner | Task 'add_one': finished task run for task with final state: 'Mapped'\n",
      "[2019-06-16 07:34:29,248] INFO - prefect.TaskRunner | Task 'add_one': Starting task run...\n",
      "[2019-06-16 07:34:29,252] INFO - prefect.TaskRunner | Task 'add_one[1]': Starting task run...\n",
      "[2019-06-16 07:34:29,256] INFO - prefect.TaskRunner | Task 'add_one[1]': finished task run for task with final state: 'Success'\n",
      "[2019-06-16 07:34:29,260] INFO - prefect.TaskRunner | Task 'add_one[2]': Starting task run...\n",
      "[2019-06-16 07:34:29,264] INFO - prefect.TaskRunner | Task 'add_one[2]': finished task run for task with final state: 'Success'\n",
      "[2019-06-16 07:34:29,264] INFO - prefect.TaskRunner | Task 'add_one[3]': Starting task run...\n",
      "[2019-06-16 07:34:29,268] INFO - prefect.TaskRunner | Task 'add_one[3]': finished task run for task with final state: 'Success'\n",
      "[2019-06-16 07:34:29,272] INFO - prefect.TaskRunner | Task 'add_one[0]': Starting task run...\n",
      "[2019-06-16 07:34:29,272] INFO - prefect.TaskRunner | Task 'add_one[0]': finished task run for task with final state: 'Success'\n",
      "[2019-06-16 07:34:29,276] INFO - prefect.TaskRunner | Task 'add_one': finished task run for task with final state: 'Mapped'\n",
      "[2019-06-16 07:34:29,276] INFO - prefect.TaskRunner | Task 'get_sum': Starting task run...\n",
      "[2019-06-16 07:34:29,280] INFO - prefect.TaskRunner | Task 'get_sum': finished task run for task with final state: 'Success'\n",
      "[2019-06-16 07:34:29,284] INFO - prefect.FlowRunner | Flow run SUCCESS: all reference tasks succeeded\n"
     ]
    },
    {
     "data": {
      "text/plain": [
       "<Success: \"All reference tasks succeeded.\">"
      ]
     },
     "execution_count": 7,
     "metadata": {},
     "output_type": "execute_result"
    }
   ],
   "source": [
    "from prefect import task, Flow\n",
    "\n",
    "\n",
    "@task\n",
    "def create_list():    \n",
    "    return [1, 1, 2, 3]    \n",
    "                    \n",
    "@task                \n",
    "def add_one(x):     \n",
    "    return x + 1    \n",
    "\n",
    "@task\n",
    "def get_sum(x):\n",
    "    return sum(x)\n",
    "                    \n",
    "with Flow(\"simple-map\") as f:    \n",
    "    plus_one = add_one.map(create_list)\n",
    "    plus_two = add_one.map(plus_one)\n",
    "    result = get_sum(plus_two)\n",
    "                    \n",
    "f.run()        "
   ]
  },
  {
   "cell_type": "code",
   "execution_count": 14,
   "metadata": {},
   "outputs": [
    {
     "data": {
      "text/plain": [
       "<Task: say_hello>"
      ]
     },
     "execution_count": 14,
     "metadata": {},
     "output_type": "execute_result"
    }
   ],
   "source": [
    "from prefect import task\n",
    "\n",
    "@task\n",
    "def say_hello(person: str) -> None:\n",
    "    print(\"Hello, {}!\".format(person))\n",
    "\n",
    "say_hello"
   ]
  },
  {
   "cell_type": "code",
   "execution_count": 15,
   "metadata": {},
   "outputs": [
    {
     "data": {
      "text/plain": [
       "<Task: add>"
      ]
     },
     "execution_count": 15,
     "metadata": {},
     "output_type": "execute_result"
    }
   ],
   "source": [
    "@task\n",
    "def add(x, y=1):\n",
    "    return x + y\n",
    "\n",
    "add"
   ]
  },
  {
   "cell_type": "code",
   "execution_count": 17,
   "metadata": {},
   "outputs": [
    {
     "data": {
      "text/plain": [
       "<Task: AddTask>"
      ]
     },
     "execution_count": 17,
     "metadata": {},
     "output_type": "execute_result"
    }
   ],
   "source": [
    "from prefect import Task\n",
    "\n",
    "class AddTask(Task):\n",
    "\n",
    "    def __init__(self, default: int, *args, **kwargs):\n",
    "        super().__init__(*args, **kwargs)\n",
    "        self.default = default\n",
    "\n",
    "    def run(self, x: int, y: int=None) -> int:\n",
    "        if y is None:\n",
    "            y = self.default\n",
    "        return x + y\n",
    "\n",
    "# initialize the task instance\n",
    "add = AddTask(default=1)\n",
    "\n",
    "add"
   ]
  },
  {
   "cell_type": "code",
   "execution_count": 18,
   "metadata": {},
   "outputs": [],
   "source": [
    "from prefect import Flow\n",
    "\n",
    "with Flow(\"My first flow!\") as flow:\n",
    "    first_result = add(1, y=2)\n",
    "    second_result = add(x=first_result, y=100)"
   ]
  },
  {
   "cell_type": "code",
   "execution_count": 19,
   "metadata": {},
   "outputs": [
    {
     "name": "stderr",
     "output_type": "stream",
     "text": [
      "[2019-06-16 07:45:38,620] INFO - prefect.FlowRunner | Beginning Flow run for 'My first flow!'\n",
      "[2019-06-16 07:45:38,624] INFO - prefect.FlowRunner | Starting flow run.\n",
      "[2019-06-16 07:45:38,636] INFO - prefect.TaskRunner | Task '2': Starting task run...\n",
      "[2019-06-16 07:45:38,640] INFO - prefect.TaskRunner | Task '2': finished task run for task with final state: 'Success'\n",
      "[2019-06-16 07:45:38,644] INFO - prefect.TaskRunner | Task '1': Starting task run...\n",
      "[2019-06-16 07:45:38,648] INFO - prefect.TaskRunner | Task '1': finished task run for task with final state: 'Success'\n",
      "[2019-06-16 07:45:38,648] INFO - prefect.TaskRunner | Task 'AddTask': Starting task run...\n",
      "[2019-06-16 07:45:38,652] INFO - prefect.TaskRunner | Task 'AddTask': finished task run for task with final state: 'Success'\n",
      "[2019-06-16 07:45:38,656] INFO - prefect.TaskRunner | Task '100': Starting task run...\n",
      "[2019-06-16 07:45:38,660] INFO - prefect.TaskRunner | Task '100': finished task run for task with final state: 'Success'\n",
      "[2019-06-16 07:45:38,660] INFO - prefect.TaskRunner | Task 'AddTask': Starting task run...\n",
      "[2019-06-16 07:45:38,664] INFO - prefect.TaskRunner | Task 'AddTask': finished task run for task with final state: 'Success'\n",
      "[2019-06-16 07:45:38,668] INFO - prefect.FlowRunner | Flow run SUCCESS: all reference tasks succeeded\n"
     ]
    }
   ],
   "source": [
    "state = flow.run()\n",
    "\n",
    "assert state.is_successful()\n",
    "\n",
    "first_task_state = state.result[first_result]\n",
    "assert first_task_state.is_successful()\n",
    "assert first_task_state.result == 3\n",
    "\n",
    "second_task_state = state.result[second_result]\n",
    "assert second_task_state.is_successful()\n",
    "assert second_task_state.result == 103"
   ]
  },
  {
   "cell_type": "code",
   "execution_count": 20,
   "metadata": {},
   "outputs": [],
   "source": [
    "from prefect import Parameter\n",
    "\n",
    "with Flow(\"Say hi!\") as flow:\n",
    "    name = Parameter(\"name\")\n",
    "    say_hello(name)"
   ]
  },
  {
   "cell_type": "code",
   "execution_count": 21,
   "metadata": {},
   "outputs": [
    {
     "name": "stderr",
     "output_type": "stream",
     "text": [
      "[2019-06-16 07:48:52,855] INFO - prefect.FlowRunner | Beginning Flow run for 'Say hi!'\n",
      "[2019-06-16 07:48:52,859] INFO - prefect.FlowRunner | Starting flow run.\n",
      "[2019-06-16 07:48:52,871] INFO - prefect.TaskRunner | Task 'name': Starting task run...\n",
      "[2019-06-16 07:48:52,875] INFO - prefect.TaskRunner | Task 'name': finished task run for task with final state: 'Success'\n",
      "[2019-06-16 07:48:52,875] INFO - prefect.TaskRunner | Task 'say_hello': Starting task run...\n",
      "[2019-06-16 07:48:52,879] INFO - prefect.TaskRunner | Task 'say_hello': finished task run for task with final state: 'Success'\n",
      "[2019-06-16 07:48:52,883] INFO - prefect.FlowRunner | Flow run SUCCESS: all reference tasks succeeded\n"
     ]
    },
    {
     "name": "stdout",
     "output_type": "stream",
     "text": [
      "Hello, Marvin!\n"
     ]
    },
    {
     "data": {
      "text/plain": [
       "<Success: \"All reference tasks succeeded.\">"
      ]
     },
     "execution_count": 21,
     "metadata": {},
     "output_type": "execute_result"
    }
   ],
   "source": [
    "flow.run(name=\"Marvin\")"
   ]
  },
  {
   "cell_type": "code",
   "execution_count": 22,
   "metadata": {},
   "outputs": [
    {
     "data": {
      "text/plain": [
       "<Task: say_hello>"
      ]
     },
     "execution_count": 22,
     "metadata": {},
     "output_type": "execute_result"
    }
   ],
   "source": [
    "flow = Flow(\"My imperative flow!\")\n",
    "\n",
    "# define some new tasks\n",
    "name = Parameter(\"name\")\n",
    "second_add = add.copy()\n",
    "\n",
    "# add our tasks to the flow\n",
    "flow.add_task(add)\n",
    "flow.add_task(second_add)\n",
    "flow.add_task(say_hello)\n",
    "\n",
    "# create non-data dependencies so that `say_hello` waits for `second_add` to finish.\n",
    "say_hello.set_upstream(second_add, flow=flow)\n",
    "\n",
    "# create data bindings\n",
    "add.bind(x=1, y=2, flow=flow)\n",
    "second_add.bind(x=add, y=100, flow=flow)\n",
    "say_hello.bind(person=name, flow=flow)"
   ]
  },
  {
   "cell_type": "code",
   "execution_count": 23,
   "metadata": {},
   "outputs": [
    {
     "name": "stderr",
     "output_type": "stream",
     "text": [
      "[2019-06-16 07:50:57,371] INFO - prefect.FlowRunner | Beginning Flow run for 'My imperative flow!'\n",
      "[2019-06-16 07:50:57,371] INFO - prefect.FlowRunner | Starting flow run.\n",
      "[2019-06-16 07:50:57,387] INFO - prefect.TaskRunner | Task '2': Starting task run...\n",
      "[2019-06-16 07:50:57,391] INFO - prefect.TaskRunner | Task '2': finished task run for task with final state: 'Success'\n",
      "[2019-06-16 07:50:57,395] INFO - prefect.TaskRunner | Task '1': Starting task run...\n",
      "[2019-06-16 07:50:57,399] INFO - prefect.TaskRunner | Task '1': finished task run for task with final state: 'Success'\n",
      "[2019-06-16 07:50:57,399] INFO - prefect.TaskRunner | Task 'AddTask': Starting task run...\n",
      "[2019-06-16 07:50:57,407] INFO - prefect.TaskRunner | Task 'AddTask': finished task run for task with final state: 'Success'\n",
      "[2019-06-16 07:50:57,407] INFO - prefect.TaskRunner | Task '100': Starting task run...\n",
      "[2019-06-16 07:50:57,411] INFO - prefect.TaskRunner | Task '100': finished task run for task with final state: 'Success'\n",
      "[2019-06-16 07:50:57,411] INFO - prefect.TaskRunner | Task 'AddTask': Starting task run...\n",
      "[2019-06-16 07:50:57,415] INFO - prefect.TaskRunner | Task 'AddTask': finished task run for task with final state: 'Success'\n",
      "[2019-06-16 07:50:57,419] INFO - prefect.TaskRunner | Task 'name': Starting task run...\n",
      "[2019-06-16 07:50:57,423] INFO - prefect.TaskRunner | Task 'name': finished task run for task with final state: 'Success'\n",
      "[2019-06-16 07:50:57,423] INFO - prefect.TaskRunner | Task 'say_hello': Starting task run...\n",
      "[2019-06-16 07:50:57,431] INFO - prefect.TaskRunner | Task 'say_hello': finished task run for task with final state: 'Success'\n",
      "[2019-06-16 07:50:57,431] INFO - prefect.FlowRunner | Flow run SUCCESS: all reference tasks succeeded\n"
     ]
    },
    {
     "name": "stdout",
     "output_type": "stream",
     "text": [
      "Hello, Marvin!\n"
     ]
    },
    {
     "data": {
      "text/plain": [
       "<Success: \"All reference tasks succeeded.\">"
      ]
     },
     "execution_count": 23,
     "metadata": {},
     "output_type": "execute_result"
    }
   ],
   "source": [
    "flow.run(name=\"Marvin\")"
   ]
  },
  {
   "cell_type": "code",
   "execution_count": null,
   "metadata": {},
   "outputs": [],
   "source": []
  }
 ],
 "metadata": {
  "kernelspec": {
   "display_name": "Python 3",
   "language": "python",
   "name": "python3"
  },
  "language_info": {
   "codemirror_mode": {
    "name": "ipython",
    "version": 3
   },
   "file_extension": ".py",
   "mimetype": "text/x-python",
   "name": "python",
   "nbconvert_exporter": "python",
   "pygments_lexer": "ipython3",
   "version": "3.7.3"
  }
 },
 "nbformat": 4,
 "nbformat_minor": 2
}
