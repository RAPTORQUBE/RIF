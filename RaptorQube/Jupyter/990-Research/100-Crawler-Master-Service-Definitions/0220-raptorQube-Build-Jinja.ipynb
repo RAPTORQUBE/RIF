{
 "cells": [
  {
   "cell_type": "markdown",
   "metadata": {},
   "source": [
    "![raptorQube](./images/raptorqube.jpg)"
   ]
  },
  {
   "cell_type": "markdown",
   "metadata": {},
   "source": [
    "## Rapid Information Factory with Industrialized Machine Learning Examples\n",
    "\n",
    "Andreas Francois Vermeulen\n",
    "2019\n",
    "\n",
    "### This is an example add-on to a set of research books and needs to be accepted as part of that copyright."
   ]
  },
  {
   "cell_type": "markdown",
   "metadata": {},
   "source": [
    "![raptorQube](./images/raptorqube2.jpg)"
   ]
  },
  {
   "cell_type": "code",
   "execution_count": 1,
   "metadata": {},
   "outputs": [],
   "source": [
    "import datetime\n",
    "nowStart = datetime.datetime.now()"
   ]
  },
  {
   "cell_type": "code",
   "execution_count": 2,
   "metadata": {},
   "outputs": [],
   "source": [
    "from jinja2 import Template\n",
    "import os\n",
    "import pandas as pd"
   ]
  },
  {
   "cell_type": "code",
   "execution_count": 3,
   "metadata": {},
   "outputs": [],
   "source": [
    "defnamedir='./000-RIF/200-Operational-Management-Layer/100-Crawler-Definitions/100-Crawler-Master-Service-Definitions/'"
   ]
  },
  {
   "cell_type": "code",
   "execution_count": 4,
   "metadata": {},
   "outputs": [
    {
     "name": "stdout",
     "output_type": "stream",
     "text": [
      "./000-RIF/200-Operational-Management-Layer/100-Crawler-Definitions/100-Crawler-Master-Service-Definitions/Crawler-Master-Service-Definitions.txt\n"
     ]
    }
   ],
   "source": [
    "parametersname='Crawler-Master-Service-Definitions.txt'\n",
    "parametersfullname=os.path.join(defnamedir, parametersname)\n",
    "print(parametersfullname)"
   ]
  },
  {
   "cell_type": "code",
   "execution_count": 5,
   "metadata": {},
   "outputs": [],
   "source": [
    "f0=open(parametersfullname, \"r\")\n",
    "if f0.mode == 'r':\n",
    "    parameters = f0.read().splitlines()\n",
    "f0.close()"
   ]
  },
  {
   "cell_type": "code",
   "execution_count": 6,
   "metadata": {},
   "outputs": [
    {
     "data": {
      "text/plain": [
       "[\"{'firstname': 'Andre','lastname': 'Vermeulen'}\",\n",
       " \"{'firstname': 'Denise','lastname': 'Clark'}\",\n",
       " \"{'firstname': 'Laurence','lastname': 'Clark'}\"]"
      ]
     },
     "execution_count": 6,
     "metadata": {},
     "output_type": "execute_result"
    }
   ],
   "source": [
    "parameters"
   ]
  },
  {
   "cell_type": "code",
   "execution_count": 7,
   "metadata": {},
   "outputs": [
    {
     "name": "stdout",
     "output_type": "stream",
     "text": [
      "./000-RIF/200-Operational-Management-Layer/100-Crawler-Definitions/100-Crawler-Master-Service-Definitions/Crawler-Master-Service-Definitions.jinja\n"
     ]
    }
   ],
   "source": [
    "jinjaname='Crawler-Master-Service-Definitions.jinja'\n",
    "jinjafullname=os.path.join(defnamedir, jinjaname)\n",
    "print(jinjafullname)"
   ]
  },
  {
   "cell_type": "code",
   "execution_count": 8,
   "metadata": {},
   "outputs": [],
   "source": [
    "f1=open(jinjafullname, \"r\")\n",
    "if f1.mode == 'r':\n",
    "    jinjacontents = f1.read()\n",
    "f1.close()"
   ]
  },
  {
   "cell_type": "code",
   "execution_count": 9,
   "metadata": {},
   "outputs": [
    {
     "name": "stdout",
     "output_type": "stream",
     "text": [
      "print('Hello {{firstname}} {{lastname}}!')\n"
     ]
    }
   ],
   "source": [
    "print(jinjacontents)"
   ]
  },
  {
   "cell_type": "code",
   "execution_count": 10,
   "metadata": {},
   "outputs": [],
   "source": [
    "template = Template(jinjacontents)"
   ]
  },
  {
   "cell_type": "code",
   "execution_count": 11,
   "metadata": {},
   "outputs": [
    {
     "name": "stdout",
     "output_type": "stream",
     "text": [
      "print('Hello Andre Vermeulen!')\n",
      "print('Hello Denise Clark!')\n",
      "print('Hello Laurence Clark!')\n"
     ]
    }
   ],
   "source": [
    "for i in range(len(parameters)):\n",
    "    pyname='Crawler-Master-Service-Definitions-%06d.py' % i\n",
    "    pyfullname=os.path.join(defnamedir, pyname)\n",
    "    f2=open(pyfullname, \"w\")\n",
    "    \n",
    "    renderdict=eval(parameters[i])\n",
    "    pyscript=template.render(renderdict)\n",
    "    print(pyscript)\n",
    "    \n",
    "    if f2.mode == 'w':\n",
    "        f2.write(pyscript)\n",
    "    f2.close()"
   ]
  },
  {
   "cell_type": "code",
   "execution_count": 12,
   "metadata": {},
   "outputs": [
    {
     "name": "stdout",
     "output_type": "stream",
     "text": [
      "./000-RIF/200-Operational-Management-Layer/100-Crawler-Definitions/100-Crawler-Master-Service-Definitions/Crawler-Master-Service-Definitions-000000.py\n",
      "./000-RIF/200-Operational-Management-Layer/100-Crawler-Definitions/100-Crawler-Master-Service-Definitions/Crawler-Master-Service-Definitions-000001.py\n",
      "./000-RIF/200-Operational-Management-Layer/100-Crawler-Definitions/100-Crawler-Master-Service-Definitions/Crawler-Master-Service-Definitions-000002.py\n"
     ]
    }
   ],
   "source": [
    "for root, dirs, files in os.walk(defnamedir, topdown=True):\n",
    "    for name in files:\n",
    "        filename, file_extension = os.path.splitext(name)\n",
    "        if file_extension == '.py':\n",
    "            print(os.path.join(root, name))"
   ]
  },
  {
   "cell_type": "markdown",
   "metadata": {},
   "source": [
    "# Run Time"
   ]
  },
  {
   "cell_type": "code",
   "execution_count": 13,
   "metadata": {},
   "outputs": [
    {
     "name": "stdout",
     "output_type": "stream",
     "text": [
      "Start: 2019-06-02 12:25:19\n",
      "Stop:  2019-06-02 12:25:20\n",
      "Time:  0:00:00.781059\n"
     ]
    }
   ],
   "source": [
    "nowStop = datetime.datetime.now()\n",
    "runTime=nowStop-nowStart\n",
    "print('Start:', nowStart.strftime('%Y-%m-%d %H:%M:%S'))\n",
    "print('Stop: ', nowStop.strftime('%Y-%m-%d %H:%M:%S'))\n",
    "print('Time: ', runTime)"
   ]
  },
  {
   "cell_type": "code",
   "execution_count": null,
   "metadata": {},
   "outputs": [],
   "source": []
  }
 ],
 "metadata": {
  "kernelspec": {
   "display_name": "Python 3",
   "language": "python",
   "name": "python3"
  },
  "language_info": {
   "codemirror_mode": {
    "name": "ipython",
    "version": 3
   },
   "file_extension": ".py",
   "mimetype": "text/x-python",
   "name": "python",
   "nbconvert_exporter": "python",
   "pygments_lexer": "ipython3",
   "version": "3.7.3"
  }
 },
 "nbformat": 4,
 "nbformat_minor": 2
}
