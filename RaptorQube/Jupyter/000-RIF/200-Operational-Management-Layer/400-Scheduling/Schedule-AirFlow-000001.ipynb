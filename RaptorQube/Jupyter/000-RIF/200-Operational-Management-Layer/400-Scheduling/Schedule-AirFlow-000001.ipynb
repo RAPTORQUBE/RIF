{
 "cells": [
  {
   "cell_type": "code",
   "execution_count": 5,
   "metadata": {},
   "outputs": [],
   "source": [
    "import os\n",
    "from datetime import datetime, timedelta"
   ]
  },
  {
   "cell_type": "code",
   "execution_count": 6,
   "metadata": {},
   "outputs": [
    {
     "ename": "ModuleNotFoundError",
     "evalue": "No module named 'airflow'",
     "output_type": "error",
     "traceback": [
      "\u001b[1;31m---------------------------------------------------------------------------\u001b[0m",
      "\u001b[1;31mModuleNotFoundError\u001b[0m                       Traceback (most recent call last)",
      "\u001b[1;32m<ipython-input-6-693894eafe94>\u001b[0m in \u001b[0;36m<module>\u001b[1;34m\u001b[0m\n\u001b[1;32m----> 1\u001b[1;33m \u001b[1;32mfrom\u001b[0m \u001b[0mairflow\u001b[0m \u001b[1;32mimport\u001b[0m \u001b[0mDAG\u001b[0m\u001b[1;33m\u001b[0m\u001b[1;33m\u001b[0m\u001b[0m\n\u001b[0m\u001b[0;32m      2\u001b[0m \u001b[1;32mfrom\u001b[0m \u001b[0mairflow\u001b[0m\u001b[1;33m.\u001b[0m\u001b[0moperators\u001b[0m\u001b[1;33m.\u001b[0m\u001b[0mbash_operator\u001b[0m \u001b[1;32mimport\u001b[0m \u001b[0mBashOperator\u001b[0m\u001b[1;33m\u001b[0m\u001b[1;33m\u001b[0m\u001b[0m\n\u001b[0;32m      3\u001b[0m \u001b[1;32mfrom\u001b[0m \u001b[0mairflow\u001b[0m\u001b[1;33m.\u001b[0m\u001b[0moperators\u001b[0m\u001b[1;33m.\u001b[0m\u001b[0mpython_operator\u001b[0m \u001b[1;32mimport\u001b[0m \u001b[0mPythonOperator\u001b[0m\u001b[1;33m\u001b[0m\u001b[1;33m\u001b[0m\u001b[0m\n",
      "\u001b[1;31mModuleNotFoundError\u001b[0m: No module named 'airflow'"
     ]
    }
   ],
   "source": [
    "from airflow import DAG\n",
    "from airflow.operators.bash_operator import BashOperator\n",
    "from airflow.operators.python_operator import PythonOperator"
   ]
  },
  {
   "cell_type": "code",
   "execution_count": 2,
   "metadata": {},
   "outputs": [
    {
     "name": "stdout",
     "output_type": "stream",
     "text": [
      "C:\\Users\\sirve\\OneDrive\\My Documents\\RaptorQube\\Jupyter\\800-Test-Data\\100-CSV\\ukpostcodes.csv\n"
     ]
    }
   ],
   "source": [
    "filename1= os.path.abspath('../../../800-Test-Data/100-CSV/ukpostcodes.csv')\n",
    "print(filename1)"
   ]
  },
  {
   "cell_type": "code",
   "execution_count": 3,
   "metadata": {},
   "outputs": [
    {
     "name": "stdout",
     "output_type": "stream",
     "text": [
      "C:\\Users\\sirve\\OneDrive\\My Documents\\RaptorQube\\Jupyter\\800-Test-Data\\100-CSV\\ukpostcodes2.csv\n"
     ]
    }
   ],
   "source": [
    "filename2= os.path.abspath('../../../800-Test-Data/100-CSV/ukpostcodes2.csv')\n",
    "print(filename2)"
   ]
  },
  {
   "cell_type": "code",
   "execution_count": 4,
   "metadata": {},
   "outputs": [],
   "source": [
    "OUTPUT_ONE_PATH = filename1\n",
    "OUTPUT_TWO_PATH = filename2"
   ]
  },
  {
   "cell_type": "code",
   "execution_count": null,
   "metadata": {},
   "outputs": [],
   "source": [
    "def decorate_file(input_path, output_path):\n",
    "    with open(input_path, \"r\") as in_file:\n",
    "        line = in_file.read()\n",
    "\n",
    "    with open(output_path, \"w\") as out_file:\n",
    "        out_file.write(\"My \"+line)"
   ]
  },
  {
   "cell_type": "code",
   "execution_count": null,
   "metadata": {},
   "outputs": [],
   "source": [
    "default_args = {\n",
    "    \"owner\": \"lorenzo\",\n",
    "    \"depends_on_past\": False,\n",
    "    \"start_date\": datetime(2018, 9, 12),\n",
    "    \"email\": [\"l.peppoloni@gmail.com\"],\n",
    "    \"email_on_failure\": False,\n",
    "    \"email_on_retry\": False,\n",
    "    \"retries\": 0,\n",
    "}\n",
    "\n",
    "\n",
    "dag = DAG(\n",
    "    \"simple_dag\",\n",
    "    default_args=default_args,\n",
    "    schedule_interval=\"0 12 * * *\",\n",
    "    )\n",
    "\n",
    "t1 = BashOperator(\n",
    "    task_id=\"print_file\",\n",
    "    bash_command='echo \"pipeline\" > {}'.format(OUTPUT_ONE_PATH),\n",
    "    dag=dag)\n",
    "\n",
    "t2 = PythonOperator(\n",
    "    task_id=\"decorate_file\",\n",
    "    python_callable=decorate_file,\n",
    "    op_kwargs={\"input_path\": OUTPUT_ONE_PATH, \"output_path\": OUTPUT_TWO_PATH},\n",
    "    dag=dag)\n",
    "\n",
    "t1 >> t2"
   ]
  }
 ],
 "metadata": {
  "kernelspec": {
   "display_name": "Python 3",
   "language": "python",
   "name": "python3"
  },
  "language_info": {
   "codemirror_mode": {
    "name": "ipython",
    "version": 3
   },
   "file_extension": ".py",
   "mimetype": "text/x-python",
   "name": "python",
   "nbconvert_exporter": "python",
   "pygments_lexer": "ipython3",
   "version": "3.7.3"
  }
 },
 "nbformat": 4,
 "nbformat_minor": 2
}
