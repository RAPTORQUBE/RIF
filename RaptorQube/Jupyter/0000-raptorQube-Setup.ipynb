{
 "cells": [
  {
   "cell_type": "markdown",
   "metadata": {},
   "source": [
    "![raptorQube](./images/raptorqube.jpg)"
   ]
  },
  {
   "cell_type": "markdown",
   "metadata": {},
   "source": [
    "# Andreas Francois Vermeulen"
   ]
  },
  {
   "cell_type": "markdown",
   "metadata": {},
   "source": [
    "![Vermeulen](./images/vermeulen.png)"
   ]
  },
  {
   "cell_type": "markdown",
   "metadata": {},
   "source": [
    "### Supervisors: Dr Juliana Kuster Filipe Bowles / Dr Vladimir Janjic - University of St Andrews"
   ]
  },
  {
   "cell_type": "markdown",
   "metadata": {},
   "source": [
    "![St Andrews](./images/standrews.jpg)"
   ]
  },
  {
   "cell_type": "code",
   "execution_count": 1,
   "metadata": {},
   "outputs": [],
   "source": [
    "import datetime\n",
    "nowStart = datetime.datetime.now()\n",
    "import os"
   ]
  },
  {
   "cell_type": "markdown",
   "metadata": {},
   "source": [
    "## Creates the basic Rapid Information Factory and Six Zone Data lake"
   ]
  },
  {
   "cell_type": "markdown",
   "metadata": {},
   "source": [
    "![RIF plus Data Lake](./images/RIF-Core.JPG)"
   ]
  },
  {
   "cell_type": "code",
   "execution_count": 2,
   "metadata": {},
   "outputs": [],
   "source": [
    "import os\n",
    "import time\n",
    "import shutil"
   ]
  },
  {
   "cell_type": "markdown",
   "metadata": {},
   "source": [
    "# Create Rapid Information Factory"
   ]
  },
  {
   "cell_type": "code",
   "execution_count": 3,
   "metadata": {},
   "outputs": [],
   "source": [
    "pathRIFname='./000-RIF/'"
   ]
  },
  {
   "cell_type": "code",
   "execution_count": 4,
   "metadata": {},
   "outputs": [],
   "source": [
    "if os.path.exists(pathRIFname):\n",
    "    shutil.rmtree(pathRIFname)\n",
    "    time.sleep(5)\n",
    "#os.makedirs(pathRIFname)"
   ]
  },
  {
   "cell_type": "markdown",
   "metadata": {},
   "source": [
    "# Create Functional Layer"
   ]
  },
  {
   "cell_type": "markdown",
   "metadata": {},
   "source": [
    "![RIF Functional Layer](./images/RIF-FL.JPG)"
   ]
  },
  {
   "cell_type": "code",
   "execution_count": 5,
   "metadata": {},
   "outputs": [],
   "source": [
    "dirLayerpath='100-Functional-Layer'\n",
    "dirname = os.path.join(pathRIFname, dirLayerpath)\n",
    "if not os.path.exists(dirname):\n",
    "    os.makedirs(dirname)"
   ]
  },
  {
   "cell_type": "markdown",
   "metadata": {},
   "source": [
    "# Create Functional Layer - Retrieve Step"
   ]
  },
  {
   "cell_type": "markdown",
   "metadata": {},
   "source": [
    "![RIF Functional Layer - Retrieve Step](./images/RIF-FL-RET.JPG)"
   ]
  },
  {
   "cell_type": "code",
   "execution_count": 6,
   "metadata": {},
   "outputs": [],
   "source": [
    "dirpath='100-Retrieve'\n",
    "dirname = os.path.join(pathRIFname, dirLayerpath, dirpath)\n",
    "if not os.path.exists(dirname):\n",
    "    os.makedirs(dirname)"
   ]
  },
  {
   "cell_type": "markdown",
   "metadata": {},
   "source": [
    "# Create Functional Layer - Assess Step"
   ]
  },
  {
   "cell_type": "markdown",
   "metadata": {},
   "source": [
    "![RIF Functional Layer - Assess Step](./images/RIF-FL-ASS.JPG)"
   ]
  },
  {
   "cell_type": "code",
   "execution_count": 7,
   "metadata": {},
   "outputs": [],
   "source": [
    "dirpath='200-Assess'\n",
    "dirname = os.path.join(pathRIFname, dirLayerpath, dirpath)\n",
    "if not os.path.exists(dirname):\n",
    "    os.makedirs(dirname)"
   ]
  },
  {
   "cell_type": "markdown",
   "metadata": {},
   "source": [
    "# Create Functional Layer - Process Step"
   ]
  },
  {
   "cell_type": "markdown",
   "metadata": {},
   "source": [
    "![RIF Functional Layer - Process Step](./images/RIF-FL-PRC.JPG)"
   ]
  },
  {
   "cell_type": "code",
   "execution_count": 8,
   "metadata": {},
   "outputs": [],
   "source": [
    "dirpath='300-Process'\n",
    "dirname = os.path.join(pathRIFname, dirLayerpath, dirpath)\n",
    "if not os.path.exists(dirname):\n",
    "    os.makedirs(dirname)"
   ]
  },
  {
   "cell_type": "markdown",
   "metadata": {},
   "source": [
    "# Create Functional Layer - Transform Step"
   ]
  },
  {
   "cell_type": "markdown",
   "metadata": {},
   "source": [
    "![RIF Functional Layer - Transform Step](./images/RIF-FL-TRF.JPG)"
   ]
  },
  {
   "cell_type": "code",
   "execution_count": 9,
   "metadata": {},
   "outputs": [],
   "source": [
    "dirpath='400-Transform'\n",
    "dirname = os.path.join(pathRIFname, dirLayerpath, dirpath)\n",
    "if not os.path.exists(dirname):\n",
    "    os.makedirs(dirname)"
   ]
  },
  {
   "cell_type": "markdown",
   "metadata": {},
   "source": [
    "# Create Functional Layer - Organize Step"
   ]
  },
  {
   "cell_type": "markdown",
   "metadata": {},
   "source": [
    "![RIF Functional Layer - Organise](./images/RIF-FL-ORG.JPG)"
   ]
  },
  {
   "cell_type": "code",
   "execution_count": 10,
   "metadata": {},
   "outputs": [],
   "source": [
    "dirpath='500-Organize'\n",
    "dirname = os.path.join(pathRIFname, dirLayerpath, dirpath)\n",
    "if not os.path.exists(dirname):\n",
    "    os.makedirs(dirname)"
   ]
  },
  {
   "cell_type": "markdown",
   "metadata": {},
   "source": [
    "# Create Functional Layer - Raport Step"
   ]
  },
  {
   "cell_type": "markdown",
   "metadata": {},
   "source": [
    "![RIF Functional Layer](./images/RIF-FL-RPT.JPG)"
   ]
  },
  {
   "cell_type": "code",
   "execution_count": 11,
   "metadata": {},
   "outputs": [],
   "source": [
    "dirpath='600-Raport'\n",
    "dirname = os.path.join(pathRIFname, dirLayerpath, dirpath)\n",
    "if not os.path.exists(dirname):\n",
    "    os.makedirs(dirname)"
   ]
  },
  {
   "cell_type": "markdown",
   "metadata": {},
   "source": [
    "# Create Operational Management Layer"
   ]
  },
  {
   "cell_type": "markdown",
   "metadata": {},
   "source": [
    "![RIF OML Layer](./images/RIF-OML.JPG)"
   ]
  },
  {
   "cell_type": "code",
   "execution_count": 12,
   "metadata": {},
   "outputs": [],
   "source": [
    "dirLayerpath='200-Operational-Management-Layer'\n",
    "dirname = os.path.join(pathRIFname, dirLayerpath)\n",
    "if not os.path.exists(dirname):\n",
    "    os.makedirs(dirname)"
   ]
  },
  {
   "cell_type": "markdown",
   "metadata": {},
   "source": [
    "# Audit, Balance and Control Layer"
   ]
  },
  {
   "cell_type": "markdown",
   "metadata": {},
   "source": [
    "![RIF ABC Layer](./images/RIF-ABC.JPG)"
   ]
  },
  {
   "cell_type": "code",
   "execution_count": 13,
   "metadata": {},
   "outputs": [],
   "source": [
    "dirLayerpath='300-Audit-Balance-Control-Layer'\n",
    "dirname = os.path.join(pathRIFname, dirLayerpath)\n",
    "if not os.path.exists(dirname):\n",
    "    os.makedirs(dirname)"
   ]
  },
  {
   "cell_type": "code",
   "execution_count": 14,
   "metadata": {},
   "outputs": [],
   "source": [
    "dirsubLayerpath='100-Audit'\n",
    "dirname = os.path.join(pathRIFname, dirLayerpath, dirsubLayerpath)\n",
    "if not os.path.exists(dirname):\n",
    "    os.makedirs(dirname)"
   ]
  },
  {
   "cell_type": "code",
   "execution_count": 15,
   "metadata": {},
   "outputs": [],
   "source": [
    "dirsubLayerpath='200-Balance'\n",
    "dirname = os.path.join(pathRIFname, dirLayerpath, dirsubLayerpath)\n",
    "if not os.path.exists(dirname):\n",
    "    os.makedirs(dirname)"
   ]
  },
  {
   "cell_type": "code",
   "execution_count": 16,
   "metadata": {},
   "outputs": [],
   "source": [
    "dirsubLayerpath='300-Control'\n",
    "dirname = os.path.join(pathRIFname, dirLayerpath, dirsubLayerpath)\n",
    "if not os.path.exists(dirname):\n",
    "    os.makedirs(dirname)"
   ]
  },
  {
   "cell_type": "markdown",
   "metadata": {},
   "source": [
    "# Utility Layer"
   ]
  },
  {
   "cell_type": "markdown",
   "metadata": {},
   "source": [
    "![RIF Utility Layer](./images/RIF-UL.JPG)"
   ]
  },
  {
   "cell_type": "code",
   "execution_count": 17,
   "metadata": {},
   "outputs": [],
   "source": [
    "dirLayerpath='400-Utility-Layer'\n",
    "dirname = os.path.join(pathRIFname, dirLayerpath)\n",
    "if not os.path.exists(dirname):\n",
    "    os.makedirs(dirname)"
   ]
  },
  {
   "cell_type": "markdown",
   "metadata": {},
   "source": [
    "## Utility Layer - Maintenance Utilities"
   ]
  },
  {
   "cell_type": "code",
   "execution_count": 18,
   "metadata": {},
   "outputs": [],
   "source": [
    "dirpath='100-Maintenance-Utilities'\n",
    "dirname = os.path.join(pathRIFname, dirLayerpath, dirpath)\n",
    "if not os.path.exists(dirname):\n",
    "    os.makedirs(dirname)"
   ]
  },
  {
   "cell_type": "markdown",
   "metadata": {},
   "source": [
    "## Utility Layer - Data Utilities"
   ]
  },
  {
   "cell_type": "code",
   "execution_count": 19,
   "metadata": {},
   "outputs": [],
   "source": [
    "dirpath='200-Data-Utilities'\n",
    "dirname = os.path.join(pathRIFname, dirLayerpath, dirpath)\n",
    "if not os.path.exists(dirname):\n",
    "    os.makedirs(dirname)"
   ]
  },
  {
   "cell_type": "markdown",
   "metadata": {},
   "source": [
    "## Utility Layer - Processing Utilities"
   ]
  },
  {
   "cell_type": "code",
   "execution_count": 20,
   "metadata": {},
   "outputs": [],
   "source": [
    "dirpath='300-Processing Utilities'\n",
    "dirname = os.path.join(pathRIFname, dirLayerpath, dirpath)\n",
    "if not os.path.exists(dirname):\n",
    "    os.makedirs(dirname)"
   ]
  },
  {
   "cell_type": "markdown",
   "metadata": {},
   "source": [
    "# Business Layer"
   ]
  },
  {
   "cell_type": "markdown",
   "metadata": {},
   "source": [
    "![RIF Business Layer](./images/RIF-BL.JPG)"
   ]
  },
  {
   "cell_type": "code",
   "execution_count": 21,
   "metadata": {},
   "outputs": [],
   "source": [
    "dirLayerpath='500-Business-Layer'\n",
    "dirname = os.path.join(pathRIFname, dirLayerpath)\n",
    "if not os.path.exists(dirname):\n",
    "    os.makedirs(dirname)"
   ]
  },
  {
   "cell_type": "markdown",
   "metadata": {},
   "source": [
    "## Business Layer - Functional Requirements"
   ]
  },
  {
   "cell_type": "code",
   "execution_count": 22,
   "metadata": {},
   "outputs": [],
   "source": [
    "dirpath='100-Functional-Requirements'\n",
    "dirname = os.path.join(pathRIFname, dirLayerpath, dirpath)\n",
    "if not os.path.exists(dirname):\n",
    "    os.makedirs(dirname)"
   ]
  },
  {
   "cell_type": "markdown",
   "metadata": {},
   "source": [
    "## Business Layer - Non-functional Requirements"
   ]
  },
  {
   "cell_type": "code",
   "execution_count": 23,
   "metadata": {},
   "outputs": [],
   "source": [
    "dirpath='200-Non-functional-Requirements'\n",
    "dirname = os.path.join(pathRIFname, dirLayerpath, dirpath)\n",
    "if not os.path.exists(dirname):\n",
    "    os.makedirs(dirname)"
   ]
  },
  {
   "cell_type": "markdown",
   "metadata": {},
   "source": [
    "## Business Layer - Data Profiles"
   ]
  },
  {
   "cell_type": "code",
   "execution_count": 24,
   "metadata": {},
   "outputs": [],
   "source": [
    "dirpath='300-Data-Profiles'\n",
    "dirname = os.path.join(pathRIFname, dirLayerpath, dirpath)\n",
    "if not os.path.exists(dirname):\n",
    "    os.makedirs(dirname)"
   ]
  },
  {
   "cell_type": "markdown",
   "metadata": {},
   "source": [
    "## Business Layer - Sun Models"
   ]
  },
  {
   "cell_type": "code",
   "execution_count": 25,
   "metadata": {},
   "outputs": [],
   "source": [
    "dirpath='400-Sun-Models'\n",
    "dirname = os.path.join(pathRIFname, dirLayerpath, dirpath)\n",
    "if not os.path.exists(dirname):\n",
    "    os.makedirs(dirname)"
   ]
  },
  {
   "cell_type": "markdown",
   "metadata": {},
   "source": [
    "# Create Six Zone Data Lake"
   ]
  },
  {
   "cell_type": "markdown",
   "metadata": {},
   "source": [
    "![Data Lake](./images/DataLake.JPG)"
   ]
  },
  {
   "cell_type": "code",
   "execution_count": 26,
   "metadata": {},
   "outputs": [],
   "source": [
    "pathDLname='./100-DL/'"
   ]
  },
  {
   "cell_type": "markdown",
   "metadata": {},
   "source": [
    "# Create Workspace Zone"
   ]
  },
  {
   "cell_type": "markdown",
   "metadata": {},
   "source": [
    "![Data Lake Workspace Zone](./images/DL-WSZ.JPG)"
   ]
  },
  {
   "cell_type": "code",
   "execution_count": 27,
   "metadata": {},
   "outputs": [],
   "source": [
    "dirpath='000-Workspace-Zone'\n",
    "dirname = os.path.join(pathDLname, dirpath)\n",
    "if not os.path.exists(dirname):\n",
    "    os.makedirs(dirname)"
   ]
  },
  {
   "cell_type": "markdown",
   "metadata": {},
   "source": [
    "# Create Raw Zone"
   ]
  },
  {
   "cell_type": "markdown",
   "metadata": {},
   "source": [
    "![Data Lake Raw Zone](./images/DL-RZ.JPG)"
   ]
  },
  {
   "cell_type": "code",
   "execution_count": 28,
   "metadata": {},
   "outputs": [],
   "source": [
    "dirpath='100-Raw-Zone'\n",
    "dirname = os.path.join(pathDLname, dirpath)\n",
    "if not os.path.exists(dirname):\n",
    "    os.makedirs(dirname)"
   ]
  },
  {
   "cell_type": "markdown",
   "metadata": {},
   "source": [
    "# Create Structured Zone"
   ]
  },
  {
   "cell_type": "markdown",
   "metadata": {},
   "source": [
    "![Data Lake Structured Zone](./images/DL-SZ.JPG)"
   ]
  },
  {
   "cell_type": "code",
   "execution_count": 29,
   "metadata": {},
   "outputs": [],
   "source": [
    "dirpath='200-Structured-Zone'\n",
    "dirname = os.path.join(pathDLname, dirpath)\n",
    "if not os.path.exists(dirname):\n",
    "    os.makedirs(dirname)"
   ]
  },
  {
   "cell_type": "markdown",
   "metadata": {},
   "source": [
    "# Create Curated Zone"
   ]
  },
  {
   "cell_type": "markdown",
   "metadata": {},
   "source": [
    "![Data Lake Curated Zone](./images/DL-CUZ.JPG)"
   ]
  },
  {
   "cell_type": "code",
   "execution_count": 30,
   "metadata": {},
   "outputs": [
    {
     "name": "stdout",
     "output_type": "stream",
     "text": [
      "./100-DL/300-Curated-Zone\n"
     ]
    }
   ],
   "source": [
    "dirpath='300-Curated-Zone'\n",
    "dirname = os.path.join(pathDLname, dirpath)\n",
    "if not os.path.exists(dirname):\n",
    "    os.makedirs(dirname)\n",
    "print(dirname)"
   ]
  },
  {
   "cell_type": "markdown",
   "metadata": {},
   "source": [
    "# Create Curated Zone - TPOLE Structure"
   ]
  },
  {
   "cell_type": "markdown",
   "metadata": {},
   "source": [
    "![Data Lake Curated Zone](./images/TPOLE.JPG)"
   ]
  },
  {
   "cell_type": "code",
   "execution_count": 31,
   "metadata": {},
   "outputs": [],
   "source": [
    "DV=['Hub','Satellite','Link']\n",
    "TPOLE=['Time','Person','Object','Location','Event']"
   ]
  },
  {
   "cell_type": "code",
   "execution_count": 32,
   "metadata": {},
   "outputs": [],
   "source": [
    "for dvpath in DV:    \n",
    "    if dvpath == 'Link':        \n",
    "        for hubpath1 in TPOLE:\n",
    "            for hubpath2 in TPOLE:\n",
    "                hubpath = hubpath1 + '-' + hubpath2\n",
    "                dirname = os.path.join(pathDLname, dirpath, dvpath, hubpath)\n",
    "                if not os.path.exists(dirname):\n",
    "                    os.makedirs(dirname)\n",
    "                    print(dirname)\n",
    "    else:\n",
    "        for hubpath in TPOLE:\n",
    "            dirname = os.path.join(pathDLname, dirpath, dvpath, hubpath)\n",
    "            if not os.path.exists(dirname):\n",
    "                os.makedirs(dirname)\n",
    "                print(dirname)"
   ]
  },
  {
   "cell_type": "markdown",
   "metadata": {},
   "source": [
    "# Create Consumer Zone"
   ]
  },
  {
   "cell_type": "markdown",
   "metadata": {},
   "source": [
    "![Data Lake Consumer Zone](./images/DL-COZ.JPG)"
   ]
  },
  {
   "cell_type": "code",
   "execution_count": 33,
   "metadata": {},
   "outputs": [],
   "source": [
    "dirpath='400-Consumer-Zone'\n",
    "dirname = os.path.join(pathDLname, dirpath)\n",
    "if not os.path.exists(dirname):\n",
    "    os.makedirs(dirname)"
   ]
  },
  {
   "cell_type": "markdown",
   "metadata": {},
   "source": [
    "# Create Analytics Zone"
   ]
  },
  {
   "cell_type": "markdown",
   "metadata": {},
   "source": [
    "![Data Lake Analytics Zone](./images/DL-AZ.JPG)"
   ]
  },
  {
   "cell_type": "code",
   "execution_count": 34,
   "metadata": {},
   "outputs": [],
   "source": [
    "dirpath='500-Analytics-Zone'\n",
    "dirname = os.path.join(pathDLname, dirpath)\n",
    "if not os.path.exists(dirname):\n",
    "    os.makedirs(dirname)"
   ]
  },
  {
   "cell_type": "markdown",
   "metadata": {},
   "source": [
    "# Clear Checkpoints"
   ]
  },
  {
   "cell_type": "markdown",
   "metadata": {},
   "source": [
    "![Trash Bin](./images/TrashBin.JPG)"
   ]
  },
  {
   "cell_type": "code",
   "execution_count": 35,
   "metadata": {},
   "outputs": [],
   "source": [
    "pathRIFname='../../Results/Chapter 09/000-RIF/'\n",
    "for root, dirs, files in os.walk(pathRIFname, topdown=True):\n",
    "    for name in dirs:\n",
    "        fullDir=os.path.join(root, name)\n",
    "        #print(fullDir)\n",
    "        if name=='.ipynb_checkpoints':\n",
    "            print('Remove:', fullDir)\n",
    "            if os.path.exists(fullDir):\n",
    "                shutil.rmtree(fullDir)\n",
    "            time.sleep(0.1)"
   ]
  },
  {
   "cell_type": "markdown",
   "metadata": {},
   "source": [
    "# Show Rapid Information Factory (RIF)"
   ]
  },
  {
   "cell_type": "markdown",
   "metadata": {},
   "source": [
    "![RIF](./images/RAPTOR.JPG)"
   ]
  },
  {
   "cell_type": "markdown",
   "metadata": {},
   "source": [
    "### Add ReadMe.txt files"
   ]
  },
  {
   "cell_type": "code",
   "execution_count": 36,
   "metadata": {},
   "outputs": [
    {
     "name": "stdout",
     "output_type": "stream",
     "text": [
      "./000-RIF/100-Functional-Layer\n",
      "./000-RIF/200-Operational-Management-Layer\n",
      "./000-RIF/300-Audit-Balance-Control-Layer\n",
      "./000-RIF/400-Utility-Layer\n",
      "./000-RIF/500-Business-Layer\n",
      "./000-RIF/100-Functional-Layer\\100-Retrieve\n",
      "./000-RIF/100-Functional-Layer\\200-Assess\n",
      "./000-RIF/100-Functional-Layer\\300-Process\n",
      "./000-RIF/100-Functional-Layer\\400-Transform\n",
      "./000-RIF/100-Functional-Layer\\500-Organize\n",
      "./000-RIF/100-Functional-Layer\\600-Raport\n",
      "./000-RIF/300-Audit-Balance-Control-Layer\\100-Audit\n",
      "./000-RIF/300-Audit-Balance-Control-Layer\\200-Balance\n",
      "./000-RIF/300-Audit-Balance-Control-Layer\\300-Control\n",
      "./000-RIF/400-Utility-Layer\\100-Maintenance-Utilities\n",
      "./000-RIF/400-Utility-Layer\\200-Data-Utilities\n",
      "./000-RIF/400-Utility-Layer\\300-Processing Utilities\n",
      "./000-RIF/500-Business-Layer\\100-Functional-Requirements\n",
      "./000-RIF/500-Business-Layer\\200-Non-functional-Requirements\n",
      "./000-RIF/500-Business-Layer\\300-Data-Profiles\n",
      "./000-RIF/500-Business-Layer\\400-Sun-Models\n"
     ]
    }
   ],
   "source": [
    "pathRIFname='./000-RIF/'\n",
    "for root, dirs, files in os.walk(pathRIFname, topdown=True):\n",
    "    for name in dirs:\n",
    "        print(os.path.join(root, name))\n",
    "        filename = os.path.join(root, name, 'ReadMe.txt')\n",
    "        file = open(filename,'w')\n",
    "        file.write('#'*80)\n",
    "        file.write('\\n')\n",
    "        file.write(name)\n",
    "        file.write('\\n')\n",
    "        file.write('#'*80)"
   ]
  },
  {
   "cell_type": "markdown",
   "metadata": {},
   "source": [
    "## Show RIF directories"
   ]
  },
  {
   "cell_type": "code",
   "execution_count": 37,
   "metadata": {},
   "outputs": [
    {
     "name": "stdout",
     "output_type": "stream",
     "text": [
      "./000-RIF/100-Functional-Layer\n",
      "./000-RIF/200-Operational-Management-Layer\n",
      "./000-RIF/300-Audit-Balance-Control-Layer\n",
      "./000-RIF/400-Utility-Layer\n",
      "./000-RIF/500-Business-Layer\n",
      "./000-RIF/100-Functional-Layer\\100-Retrieve\n",
      "./000-RIF/100-Functional-Layer\\200-Assess\n",
      "./000-RIF/100-Functional-Layer\\300-Process\n",
      "./000-RIF/100-Functional-Layer\\400-Transform\n",
      "./000-RIF/100-Functional-Layer\\500-Organize\n",
      "./000-RIF/100-Functional-Layer\\600-Raport\n",
      "./000-RIF/300-Audit-Balance-Control-Layer\\100-Audit\n",
      "./000-RIF/300-Audit-Balance-Control-Layer\\200-Balance\n",
      "./000-RIF/300-Audit-Balance-Control-Layer\\300-Control\n",
      "./000-RIF/400-Utility-Layer\\100-Maintenance-Utilities\n",
      "./000-RIF/400-Utility-Layer\\200-Data-Utilities\n",
      "./000-RIF/400-Utility-Layer\\300-Processing Utilities\n",
      "./000-RIF/500-Business-Layer\\100-Functional-Requirements\n",
      "./000-RIF/500-Business-Layer\\200-Non-functional-Requirements\n",
      "./000-RIF/500-Business-Layer\\300-Data-Profiles\n",
      "./000-RIF/500-Business-Layer\\400-Sun-Models\n"
     ]
    }
   ],
   "source": [
    "pathRIFname='./000-RIF/'\n",
    "for root, dirs, files in os.walk(pathRIFname, topdown=True):\n",
    "    for name in dirs:\n",
    "        print(os.path.join(root, name))"
   ]
  },
  {
   "cell_type": "markdown",
   "metadata": {},
   "source": [
    "## Show RIF files"
   ]
  },
  {
   "cell_type": "code",
   "execution_count": 38,
   "metadata": {},
   "outputs": [
    {
     "name": "stdout",
     "output_type": "stream",
     "text": [
      "./000-RIF/100-Functional-Layer\\ReadMe.txt\n",
      "./000-RIF/100-Functional-Layer\\100-Retrieve\\ReadMe.txt\n",
      "./000-RIF/100-Functional-Layer\\200-Assess\\ReadMe.txt\n",
      "./000-RIF/100-Functional-Layer\\300-Process\\ReadMe.txt\n",
      "./000-RIF/100-Functional-Layer\\400-Transform\\ReadMe.txt\n",
      "./000-RIF/100-Functional-Layer\\500-Organize\\ReadMe.txt\n",
      "./000-RIF/100-Functional-Layer\\600-Raport\\ReadMe.txt\n",
      "./000-RIF/200-Operational-Management-Layer\\ReadMe.txt\n",
      "./000-RIF/300-Audit-Balance-Control-Layer\\ReadMe.txt\n",
      "./000-RIF/300-Audit-Balance-Control-Layer\\100-Audit\\ReadMe.txt\n",
      "./000-RIF/300-Audit-Balance-Control-Layer\\200-Balance\\ReadMe.txt\n",
      "./000-RIF/300-Audit-Balance-Control-Layer\\300-Control\\ReadMe.txt\n",
      "./000-RIF/400-Utility-Layer\\ReadMe.txt\n",
      "./000-RIF/400-Utility-Layer\\100-Maintenance-Utilities\\ReadMe.txt\n",
      "./000-RIF/400-Utility-Layer\\200-Data-Utilities\\ReadMe.txt\n",
      "./000-RIF/400-Utility-Layer\\300-Processing Utilities\\ReadMe.txt\n",
      "./000-RIF/500-Business-Layer\\ReadMe.txt\n",
      "./000-RIF/500-Business-Layer\\100-Functional-Requirements\\ReadMe.txt\n",
      "./000-RIF/500-Business-Layer\\200-Non-functional-Requirements\\ReadMe.txt\n",
      "./000-RIF/500-Business-Layer\\300-Data-Profiles\\ReadMe.txt\n",
      "./000-RIF/500-Business-Layer\\400-Sun-Models\\ReadMe.txt\n"
     ]
    }
   ],
   "source": [
    "for root, dirs, files in os.walk(pathRIFname, topdown=True):\n",
    "    for name in files:\n",
    "        print(os.path.join(root, name))"
   ]
  },
  {
   "cell_type": "markdown",
   "metadata": {},
   "source": [
    "# Show Data Lake"
   ]
  },
  {
   "cell_type": "markdown",
   "metadata": {},
   "source": [
    "![RIF](./images/DataLake.JPG)"
   ]
  },
  {
   "cell_type": "markdown",
   "metadata": {},
   "source": [
    "### Add ReadMe.txt files"
   ]
  },
  {
   "cell_type": "code",
   "execution_count": 46,
   "metadata": {},
   "outputs": [
    {
     "name": "stdout",
     "output_type": "stream",
     "text": [
      "./100-DL/000-Workspace-Zone\n",
      "./100-DL/100-Raw-Zone\n",
      "./100-DL/200-Structured-Zone\n",
      "./100-DL/300-Curated-Zone\n",
      "./100-DL/400-Consumer-Zone\n",
      "./100-DL/500-Analytics-Zone\n",
      "./100-DL/100-Raw-Zone\\0100-External\n",
      "./100-DL/100-Raw-Zone\\0200-Internal\n",
      "./100-DL/100-Raw-Zone\\0100-External\\100-Golden-Source\n",
      "./100-DL/100-Raw-Zone\\0100-External\\900-Other\n",
      "./100-DL/100-Raw-Zone\\0100-External\\100-Golden-Source\\000005-Data-Source-F\n",
      "./100-DL/100-Raw-Zone\\0100-External\\900-Other\\000019-Data-Source-T\n",
      "./100-DL/100-Raw-Zone\\0200-Internal\\000100-CSV\n",
      "./100-DL/300-Curated-Zone\\Hub\n",
      "./100-DL/300-Curated-Zone\\Link\n",
      "./100-DL/300-Curated-Zone\\Satellite\n",
      "./100-DL/300-Curated-Zone\\Hub\\Event\n",
      "./100-DL/300-Curated-Zone\\Hub\\Location\n",
      "./100-DL/300-Curated-Zone\\Hub\\Object\n",
      "./100-DL/300-Curated-Zone\\Hub\\Person\n",
      "./100-DL/300-Curated-Zone\\Hub\\Time\n",
      "./100-DL/300-Curated-Zone\\Link\\Event-Event\n",
      "./100-DL/300-Curated-Zone\\Link\\Event-Location\n",
      "./100-DL/300-Curated-Zone\\Link\\Event-Object\n",
      "./100-DL/300-Curated-Zone\\Link\\Event-Person\n",
      "./100-DL/300-Curated-Zone\\Link\\Event-Time\n",
      "./100-DL/300-Curated-Zone\\Link\\Location-Event\n",
      "./100-DL/300-Curated-Zone\\Link\\Location-Location\n",
      "./100-DL/300-Curated-Zone\\Link\\Location-Object\n",
      "./100-DL/300-Curated-Zone\\Link\\Location-Person\n",
      "./100-DL/300-Curated-Zone\\Link\\Location-Time\n",
      "./100-DL/300-Curated-Zone\\Link\\Object-Event\n",
      "./100-DL/300-Curated-Zone\\Link\\Object-Location\n",
      "./100-DL/300-Curated-Zone\\Link\\Object-Object\n",
      "./100-DL/300-Curated-Zone\\Link\\Object-Person\n",
      "./100-DL/300-Curated-Zone\\Link\\Object-Time\n",
      "./100-DL/300-Curated-Zone\\Link\\Person-Event\n",
      "./100-DL/300-Curated-Zone\\Link\\Person-Location\n",
      "./100-DL/300-Curated-Zone\\Link\\Person-Object\n",
      "./100-DL/300-Curated-Zone\\Link\\Person-Person\n",
      "./100-DL/300-Curated-Zone\\Link\\Person-Time\n",
      "./100-DL/300-Curated-Zone\\Link\\Time-Event\n",
      "./100-DL/300-Curated-Zone\\Link\\Time-Location\n",
      "./100-DL/300-Curated-Zone\\Link\\Time-Object\n",
      "./100-DL/300-Curated-Zone\\Link\\Time-Person\n",
      "./100-DL/300-Curated-Zone\\Link\\Time-Time\n",
      "./100-DL/300-Curated-Zone\\Satellite\\Event\n",
      "./100-DL/300-Curated-Zone\\Satellite\\Location\n",
      "./100-DL/300-Curated-Zone\\Satellite\\Object\n",
      "./100-DL/300-Curated-Zone\\Satellite\\Person\n",
      "./100-DL/300-Curated-Zone\\Satellite\\Time\n"
     ]
    }
   ],
   "source": [
    "pathDLname='./100-DL/'\n",
    "for root, dirs, files in os.walk(pathDLname, topdown=True):\n",
    "    for name in dirs:\n",
    "        print(os.path.join(root, name))\n",
    "        filename = os.path.join(root, name, 'ReadMe.txt')\n",
    "        file = open(filename,'w')\n",
    "        file.write('#'*80)\n",
    "        file.write('\\n')\n",
    "        file.write(name)\n",
    "        file.write('\\n')\n",
    "        file.write('#'*80)"
   ]
  },
  {
   "cell_type": "markdown",
   "metadata": {},
   "source": [
    "## Show Data Lake directories"
   ]
  },
  {
   "cell_type": "code",
   "execution_count": 47,
   "metadata": {},
   "outputs": [
    {
     "name": "stdout",
     "output_type": "stream",
     "text": [
      "./100-DL/000-Workspace-Zone\n",
      "./100-DL/100-Raw-Zone\n",
      "./100-DL/200-Structured-Zone\n",
      "./100-DL/300-Curated-Zone\n",
      "./100-DL/400-Consumer-Zone\n",
      "./100-DL/500-Analytics-Zone\n",
      "./100-DL/100-Raw-Zone\\0100-External\n",
      "./100-DL/100-Raw-Zone\\0200-Internal\n",
      "./100-DL/100-Raw-Zone\\0100-External\\100-Golden-Source\n",
      "./100-DL/100-Raw-Zone\\0100-External\\900-Other\n",
      "./100-DL/100-Raw-Zone\\0100-External\\100-Golden-Source\\000005-Data-Source-F\n",
      "./100-DL/100-Raw-Zone\\0100-External\\900-Other\\000019-Data-Source-T\n",
      "./100-DL/100-Raw-Zone\\0200-Internal\\000100-CSV\n",
      "./100-DL/300-Curated-Zone\\Hub\n",
      "./100-DL/300-Curated-Zone\\Link\n",
      "./100-DL/300-Curated-Zone\\Satellite\n",
      "./100-DL/300-Curated-Zone\\Hub\\Event\n",
      "./100-DL/300-Curated-Zone\\Hub\\Location\n",
      "./100-DL/300-Curated-Zone\\Hub\\Object\n",
      "./100-DL/300-Curated-Zone\\Hub\\Person\n",
      "./100-DL/300-Curated-Zone\\Hub\\Time\n",
      "./100-DL/300-Curated-Zone\\Link\\Event-Event\n",
      "./100-DL/300-Curated-Zone\\Link\\Event-Location\n",
      "./100-DL/300-Curated-Zone\\Link\\Event-Object\n",
      "./100-DL/300-Curated-Zone\\Link\\Event-Person\n",
      "./100-DL/300-Curated-Zone\\Link\\Event-Time\n",
      "./100-DL/300-Curated-Zone\\Link\\Location-Event\n",
      "./100-DL/300-Curated-Zone\\Link\\Location-Location\n",
      "./100-DL/300-Curated-Zone\\Link\\Location-Object\n",
      "./100-DL/300-Curated-Zone\\Link\\Location-Person\n",
      "./100-DL/300-Curated-Zone\\Link\\Location-Time\n",
      "./100-DL/300-Curated-Zone\\Link\\Object-Event\n",
      "./100-DL/300-Curated-Zone\\Link\\Object-Location\n",
      "./100-DL/300-Curated-Zone\\Link\\Object-Object\n",
      "./100-DL/300-Curated-Zone\\Link\\Object-Person\n",
      "./100-DL/300-Curated-Zone\\Link\\Object-Time\n",
      "./100-DL/300-Curated-Zone\\Link\\Person-Event\n",
      "./100-DL/300-Curated-Zone\\Link\\Person-Location\n",
      "./100-DL/300-Curated-Zone\\Link\\Person-Object\n",
      "./100-DL/300-Curated-Zone\\Link\\Person-Person\n",
      "./100-DL/300-Curated-Zone\\Link\\Person-Time\n",
      "./100-DL/300-Curated-Zone\\Link\\Time-Event\n",
      "./100-DL/300-Curated-Zone\\Link\\Time-Location\n",
      "./100-DL/300-Curated-Zone\\Link\\Time-Object\n",
      "./100-DL/300-Curated-Zone\\Link\\Time-Person\n",
      "./100-DL/300-Curated-Zone\\Link\\Time-Time\n",
      "./100-DL/300-Curated-Zone\\Satellite\\Event\n",
      "./100-DL/300-Curated-Zone\\Satellite\\Location\n",
      "./100-DL/300-Curated-Zone\\Satellite\\Object\n",
      "./100-DL/300-Curated-Zone\\Satellite\\Person\n",
      "./100-DL/300-Curated-Zone\\Satellite\\Time\n"
     ]
    }
   ],
   "source": [
    "pathDLname='./100-DL/'\n",
    "for root, dirs, files in os.walk(pathDLname, topdown=True):\n",
    "    for name in dirs:\n",
    "        print(os.path.join(root, name))"
   ]
  },
  {
   "cell_type": "markdown",
   "metadata": {},
   "source": [
    "## Show Data Lake files"
   ]
  },
  {
   "cell_type": "code",
   "execution_count": 48,
   "metadata": {},
   "outputs": [
    {
     "name": "stdout",
     "output_type": "stream",
     "text": [
      "./100-DL/000-Workspace-Zone\\ReadMe.txt\n",
      "./100-DL/100-Raw-Zone\\ReadMe.txt\n",
      "./100-DL/100-Raw-Zone\\0100-External\\ReadMe.txt\n",
      "./100-DL/100-Raw-Zone\\0100-External\\100-Golden-Source\\ReadMe.txt\n",
      "./100-DL/100-Raw-Zone\\0100-External\\100-Golden-Source\\000005-Data-Source-F\\First-Name-Boy-000001.csv\n",
      "./100-DL/100-Raw-Zone\\0100-External\\100-Golden-Source\\000005-Data-Source-F\\First-Name-Girl-000001.csv\n",
      "./100-DL/100-Raw-Zone\\0100-External\\100-Golden-Source\\000005-Data-Source-F\\ReadMe.txt\n",
      "./100-DL/100-Raw-Zone\\0100-External\\900-Other\\ReadMe.txt\n",
      "./100-DL/100-Raw-Zone\\0100-External\\900-Other\\000019-Data-Source-T\\ReadMe.txt\n",
      "./100-DL/100-Raw-Zone\\0100-External\\900-Other\\000019-Data-Source-T\\Test_Data.csv\n",
      "./100-DL/100-Raw-Zone\\0200-Internal\\ReadMe.txt\n",
      "./100-DL/100-Raw-Zone\\0200-Internal\\000100-CSV\\First-Name-Boy-000001.csv\n",
      "./100-DL/100-Raw-Zone\\0200-Internal\\000100-CSV\\ReadMe.txt\n",
      "./100-DL/200-Structured-Zone\\ReadMe.txt\n",
      "./100-DL/300-Curated-Zone\\ReadMe.txt\n",
      "./100-DL/300-Curated-Zone\\Hub\\ReadMe.txt\n",
      "./100-DL/300-Curated-Zone\\Hub\\Event\\ReadMe.txt\n",
      "./100-DL/300-Curated-Zone\\Hub\\Location\\ReadMe.txt\n",
      "./100-DL/300-Curated-Zone\\Hub\\Object\\ReadMe.txt\n",
      "./100-DL/300-Curated-Zone\\Hub\\Person\\ReadMe.txt\n",
      "./100-DL/300-Curated-Zone\\Hub\\Time\\ReadMe.txt\n",
      "./100-DL/300-Curated-Zone\\Link\\ReadMe.txt\n",
      "./100-DL/300-Curated-Zone\\Link\\Event-Event\\ReadMe.txt\n",
      "./100-DL/300-Curated-Zone\\Link\\Event-Location\\ReadMe.txt\n",
      "./100-DL/300-Curated-Zone\\Link\\Event-Object\\ReadMe.txt\n",
      "./100-DL/300-Curated-Zone\\Link\\Event-Person\\ReadMe.txt\n",
      "./100-DL/300-Curated-Zone\\Link\\Event-Time\\ReadMe.txt\n",
      "./100-DL/300-Curated-Zone\\Link\\Location-Event\\ReadMe.txt\n",
      "./100-DL/300-Curated-Zone\\Link\\Location-Location\\ReadMe.txt\n",
      "./100-DL/300-Curated-Zone\\Link\\Location-Object\\ReadMe.txt\n",
      "./100-DL/300-Curated-Zone\\Link\\Location-Person\\ReadMe.txt\n",
      "./100-DL/300-Curated-Zone\\Link\\Location-Time\\ReadMe.txt\n",
      "./100-DL/300-Curated-Zone\\Link\\Object-Event\\ReadMe.txt\n",
      "./100-DL/300-Curated-Zone\\Link\\Object-Location\\ReadMe.txt\n",
      "./100-DL/300-Curated-Zone\\Link\\Object-Object\\ReadMe.txt\n",
      "./100-DL/300-Curated-Zone\\Link\\Object-Person\\ReadMe.txt\n",
      "./100-DL/300-Curated-Zone\\Link\\Object-Time\\ReadMe.txt\n",
      "./100-DL/300-Curated-Zone\\Link\\Person-Event\\ReadMe.txt\n",
      "./100-DL/300-Curated-Zone\\Link\\Person-Location\\ReadMe.txt\n",
      "./100-DL/300-Curated-Zone\\Link\\Person-Object\\ReadMe.txt\n",
      "./100-DL/300-Curated-Zone\\Link\\Person-Person\\ReadMe.txt\n",
      "./100-DL/300-Curated-Zone\\Link\\Person-Time\\ReadMe.txt\n",
      "./100-DL/300-Curated-Zone\\Link\\Time-Event\\ReadMe.txt\n",
      "./100-DL/300-Curated-Zone\\Link\\Time-Location\\ReadMe.txt\n",
      "./100-DL/300-Curated-Zone\\Link\\Time-Object\\ReadMe.txt\n",
      "./100-DL/300-Curated-Zone\\Link\\Time-Person\\ReadMe.txt\n",
      "./100-DL/300-Curated-Zone\\Link\\Time-Time\\ReadMe.txt\n",
      "./100-DL/300-Curated-Zone\\Satellite\\ReadMe.txt\n",
      "./100-DL/300-Curated-Zone\\Satellite\\Event\\ReadMe.txt\n",
      "./100-DL/300-Curated-Zone\\Satellite\\Location\\ReadMe.txt\n",
      "./100-DL/300-Curated-Zone\\Satellite\\Object\\ReadMe.txt\n",
      "./100-DL/300-Curated-Zone\\Satellite\\Person\\ReadMe.txt\n",
      "./100-DL/300-Curated-Zone\\Satellite\\Time\\ReadMe.txt\n",
      "./100-DL/400-Consumer-Zone\\ReadMe.txt\n",
      "./100-DL/500-Analytics-Zone\\ReadMe.txt\n"
     ]
    }
   ],
   "source": [
    "for root, dirs, files in os.walk(pathDLname, topdown=True):\n",
    "    for name in files:\n",
    "        print(os.path.join(root, name))"
   ]
  },
  {
   "cell_type": "markdown",
   "metadata": {},
   "source": [
    "# Run Time"
   ]
  },
  {
   "cell_type": "code",
   "execution_count": 42,
   "metadata": {},
   "outputs": [
    {
     "name": "stdout",
     "output_type": "stream",
     "text": [
      "Start: 2019-06-26 23:11:02\n",
      "Stop:  2019-06-26 23:11:08\n",
      "Time:  0:00:06.095447\n"
     ]
    }
   ],
   "source": [
    "nowStop = datetime.datetime.now()\n",
    "runTime=nowStop-nowStart\n",
    "print('Start:', nowStart.strftime('%Y-%m-%d %H:%M:%S'))\n",
    "print('Stop: ', nowStop.strftime('%Y-%m-%d %H:%M:%S'))\n",
    "print('Time: ', runTime)"
   ]
  },
  {
   "cell_type": "code",
   "execution_count": null,
   "metadata": {},
   "outputs": [],
   "source": []
  }
 ],
 "metadata": {
  "kernelspec": {
   "display_name": "Python 3",
   "language": "python",
   "name": "python3"
  },
  "language_info": {
   "codemirror_mode": {
    "name": "ipython",
    "version": 3
   },
   "file_extension": ".py",
   "mimetype": "text/x-python",
   "name": "python",
   "nbconvert_exporter": "python",
   "pygments_lexer": "ipython3",
   "version": "3.7.3"
  }
 },
 "nbformat": 4,
 "nbformat_minor": 2
}
