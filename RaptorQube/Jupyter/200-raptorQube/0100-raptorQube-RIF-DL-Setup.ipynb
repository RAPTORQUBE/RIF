{
 "cells": [
  {
   "cell_type": "markdown",
   "metadata": {},
   "source": [
    "![raptorQube](../images/raptorqube.jpg)"
   ]
  },
  {
   "cell_type": "markdown",
   "metadata": {},
   "source": [
    "## Rapid Information Factory with Industrialized Machine Learning Examples\n",
    "\n",
    "Andreas Francois Vermeulen\n",
    "2019\n",
    "\n",
    "### This is an example add-on to a set of research books and needs to be accepted as part of that copyright."
   ]
  },
  {
   "cell_type": "markdown",
   "metadata": {},
   "source": [
    "![raptorQube](../images/raptorqube2.jpg)"
   ]
  },
  {
   "cell_type": "code",
   "execution_count": null,
   "metadata": {},
   "outputs": [],
   "source": [
    "import datetime\n",
    "nowStart = datetime.datetime.now()"
   ]
  },
  {
   "cell_type": "code",
   "execution_count": null,
   "metadata": {},
   "outputs": [],
   "source": [
    "%%javascript\n",
    "IPython.OutputArea.auto_scroll_threshold = 9999;"
   ]
  },
  {
   "cell_type": "markdown",
   "metadata": {},
   "source": [
    "# 0100-raptorQube-RIF-DL-Setup"
   ]
  },
  {
   "cell_type": "markdown",
   "metadata": {},
   "source": [
    "## Creates the basic Rapid Information Factory and Six Zone Data lake"
   ]
  },
  {
   "cell_type": "markdown",
   "metadata": {},
   "source": [
    "![RIF plus Data Lake](../images/RIF-Core.JPG)"
   ]
  },
  {
   "cell_type": "code",
   "execution_count": null,
   "metadata": {},
   "outputs": [],
   "source": [
    "import os\n",
    "import string as st\n",
    "import shutil\n",
    "import time"
   ]
  },
  {
   "cell_type": "markdown",
   "metadata": {},
   "source": [
    "# Create Rapid Information Factory"
   ]
  },
  {
   "cell_type": "code",
   "execution_count": null,
   "metadata": {},
   "outputs": [],
   "source": [
    "pathRIFname='../000-RIF/'"
   ]
  },
  {
   "cell_type": "code",
   "execution_count": null,
   "metadata": {},
   "outputs": [],
   "source": [
    "if os.path.exists(pathRIFname):\n",
    "    print('Removing existing Rapid Information Factory')\n",
    "    shutil.rmtree(pathRIFname)\n",
    "    time.sleep(1)\n",
    "    \n",
    "if not os.path.exists(pathRIFname):\n",
    "    print('Creating new Rapid Information Factory')\n",
    "    print(pathRIFname)\n",
    "    os.makedirs(pathRIFname)"
   ]
  },
  {
   "cell_type": "markdown",
   "metadata": {},
   "source": [
    "# Create Functional Layer"
   ]
  },
  {
   "cell_type": "markdown",
   "metadata": {},
   "source": [
    "![RIF Functional Layer](../images/RIF-FL.JPG)"
   ]
  },
  {
   "cell_type": "code",
   "execution_count": null,
   "metadata": {},
   "outputs": [],
   "source": [
    "dirLayerpath='100-Functional-Layer'\n",
    "dirname = os.path.join(pathRIFname, dirLayerpath)\n",
    "if not os.path.exists(dirname):\n",
    "    print(dirname)\n",
    "    os.makedirs(dirname)"
   ]
  },
  {
   "cell_type": "markdown",
   "metadata": {},
   "source": [
    "# Create Functional Layer - Retrieve Step"
   ]
  },
  {
   "cell_type": "markdown",
   "metadata": {},
   "source": [
    "![RIF Functional Layer - Retrieve Step](../images/RIF-FL-RET.JPG)"
   ]
  },
  {
   "cell_type": "code",
   "execution_count": null,
   "metadata": {},
   "outputs": [],
   "source": [
    "dirpath='100-Retrieve'\n",
    "dirname = os.path.join(pathRIFname, dirLayerpath, dirpath)\n",
    "if not os.path.exists(dirname):\n",
    "    print(dirname)\n",
    "    os.makedirs(dirname)"
   ]
  },
  {
   "cell_type": "markdown",
   "metadata": {},
   "source": [
    "# Create Functional Layer - Assess Step"
   ]
  },
  {
   "cell_type": "markdown",
   "metadata": {},
   "source": [
    "![RIF Functional Layer - Assess Step](../images/RIF-FL-ASS.JPG)"
   ]
  },
  {
   "cell_type": "code",
   "execution_count": null,
   "metadata": {},
   "outputs": [],
   "source": [
    "dirpath='200-Assess'\n",
    "dirname = os.path.join(pathRIFname, dirLayerpath, dirpath)\n",
    "if not os.path.exists(dirname):\n",
    "    print(dirname)\n",
    "    os.makedirs(dirname)"
   ]
  },
  {
   "cell_type": "markdown",
   "metadata": {},
   "source": [
    "# Create Functional Layer - Process Step"
   ]
  },
  {
   "cell_type": "markdown",
   "metadata": {},
   "source": [
    "![RIF Functional Layer - Process Step](../images/RIF-FL-PRC.JPG)"
   ]
  },
  {
   "cell_type": "code",
   "execution_count": null,
   "metadata": {},
   "outputs": [],
   "source": [
    "dirpath='300-Process'\n",
    "dirname = os.path.join(pathRIFname, dirLayerpath, dirpath)\n",
    "if not os.path.exists(dirname):\n",
    "    print(dirname)\n",
    "    os.makedirs(dirname)"
   ]
  },
  {
   "cell_type": "markdown",
   "metadata": {},
   "source": [
    "# Create Functional Layer - Transform Step"
   ]
  },
  {
   "cell_type": "markdown",
   "metadata": {},
   "source": [
    "![RIF Functional Layer - Transform Step](../images/RIF-FL-TRF.JPG)"
   ]
  },
  {
   "cell_type": "code",
   "execution_count": null,
   "metadata": {},
   "outputs": [],
   "source": [
    "dirpath='400-Transform'\n",
    "dirname = os.path.join(pathRIFname, dirLayerpath, dirpath)\n",
    "if not os.path.exists(dirname):\n",
    "    print(dirname)\n",
    "    os.makedirs(dirname)"
   ]
  },
  {
   "cell_type": "markdown",
   "metadata": {},
   "source": [
    "# Create Functional Layer - Organize Step"
   ]
  },
  {
   "cell_type": "markdown",
   "metadata": {},
   "source": [
    "![RIF Functional Layer - Organise](../images/RIF-FL-ORG.JPG)"
   ]
  },
  {
   "cell_type": "code",
   "execution_count": null,
   "metadata": {},
   "outputs": [],
   "source": [
    "dirpath='500-Organize'\n",
    "dirname = os.path.join(pathRIFname, dirLayerpath, dirpath)\n",
    "if not os.path.exists(dirname):\n",
    "    print(dirname)\n",
    "    os.makedirs(dirname)"
   ]
  },
  {
   "cell_type": "markdown",
   "metadata": {},
   "source": [
    "# Create Functional Layer - Raport Step"
   ]
  },
  {
   "cell_type": "markdown",
   "metadata": {},
   "source": [
    "![RIF Functional Layer](../images/RIF-FL-RPT.JPG)"
   ]
  },
  {
   "cell_type": "code",
   "execution_count": null,
   "metadata": {},
   "outputs": [],
   "source": [
    "dirpath='600-Raport'\n",
    "dirname = os.path.join(pathRIFname, dirLayerpath, dirpath)\n",
    "if not os.path.exists(dirname):\n",
    "    print(dirname)\n",
    "    os.makedirs(dirname)"
   ]
  },
  {
   "cell_type": "markdown",
   "metadata": {},
   "source": [
    "# Create Operational Management Layer"
   ]
  },
  {
   "cell_type": "markdown",
   "metadata": {},
   "source": [
    "![RIF OML Layer](../images/RIF-OML.JPG)"
   ]
  },
  {
   "cell_type": "code",
   "execution_count": null,
   "metadata": {},
   "outputs": [],
   "source": [
    "dirLayerpath='200-Operational-Management-Layer'\n",
    "dirname = os.path.join(pathRIFname, dirLayerpath)\n",
    "if not os.path.exists(dirname):\n",
    "    print(dirname)\n",
    "    os.makedirs(dirname)"
   ]
  },
  {
   "cell_type": "code",
   "execution_count": null,
   "metadata": {},
   "outputs": [],
   "source": [
    "dirLayerpath2='100-Crawler-Definitions'\n",
    "dirname = os.path.join(pathRIFname, dirLayerpath, dirLayerpath2)\n",
    "if not os.path.exists(dirname):\n",
    "    print(dirname)\n",
    "    os.makedirs(dirname)"
   ]
  },
  {
   "cell_type": "markdown",
   "metadata": {},
   "source": [
    "### Basic RAPTOR/QUBE Crawler Design"
   ]
  },
  {
   "cell_type": "markdown",
   "metadata": {},
   "source": [
    "![Rapid Crawler - Basic](../images/BasicCrawlerSmall.png)"
   ]
  },
  {
   "cell_type": "code",
   "execution_count": null,
   "metadata": {},
   "outputs": [],
   "source": [
    "dirLayerpath3='100-Crawler-Master-Service-Definitions'\n",
    "dirname = os.path.join(pathRIFname, dirLayerpath, dirLayerpath2, dirLayerpath3)\n",
    "if not os.path.exists(dirname):\n",
    "    print(dirname)\n",
    "    os.makedirs(dirname)"
   ]
  },
  {
   "cell_type": "code",
   "execution_count": null,
   "metadata": {},
   "outputs": [],
   "source": [
    "dirLayerpath3='200-Crawler-Workcell-Service-Definitions'\n",
    "dirname = os.path.join(pathRIFname, dirLayerpath, dirLayerpath2, dirLayerpath3)\n",
    "if not os.path.exists(dirname):\n",
    "    print(dirname)\n",
    "    os.makedirs(dirname)"
   ]
  },
  {
   "cell_type": "code",
   "execution_count": null,
   "metadata": {},
   "outputs": [],
   "source": [
    "dirLayerpath3='300-Crawler-Input-Definitions'\n",
    "dirname = os.path.join(pathRIFname, dirLayerpath, dirLayerpath2, dirLayerpath3)\n",
    "if not os.path.exists(dirname):\n",
    "    print(dirname)\n",
    "    os.makedirs(dirname)"
   ]
  },
  {
   "cell_type": "code",
   "execution_count": null,
   "metadata": {},
   "outputs": [],
   "source": [
    "dirLayerpath3='400-Crawler-Output-Definitions'\n",
    "dirname = os.path.join(pathRIFname, dirLayerpath, dirLayerpath2, dirLayerpath3)\n",
    "if not os.path.exists(dirname):\n",
    "    print(dirname)\n",
    "    os.makedirs(dirname)"
   ]
  },
  {
   "cell_type": "code",
   "execution_count": null,
   "metadata": {},
   "outputs": [],
   "source": [
    "dirLayerpath3='500-Crawler-Process-Definitions'\n",
    "dirname = os.path.join(pathRIFname, dirLayerpath, dirLayerpath2, dirLayerpath3)\n",
    "if not os.path.exists(dirname):\n",
    "    print(dirname)\n",
    "    os.makedirs(dirname)"
   ]
  },
  {
   "cell_type": "code",
   "execution_count": null,
   "metadata": {},
   "outputs": [],
   "source": [
    "dirLayerpath2='200-Crawler-Management'\n",
    "dirname = os.path.join(pathRIFname, dirLayerpath, dirLayerpath2)\n",
    "if not os.path.exists(dirname):\n",
    "    print(dirname)\n",
    "    os.makedirs(dirname)"
   ]
  },
  {
   "cell_type": "code",
   "execution_count": null,
   "metadata": {},
   "outputs": [],
   "source": [
    "dirpaths=['100-Retrieve-Population',\n",
    "          '200-Asses-Population',\n",
    "          '300-Process-Population',\n",
    "          '400-Transform-Population',\n",
    "          '500-Organise-Population',\n",
    "          '600-Report-Population'\n",
    "         ]\n",
    "\n",
    "for dirpath in dirpaths:\n",
    "    dirname = os.path.join(pathRIFname, dirLayerpath, dirLayerpath2, dirpath)\n",
    "    if not os.path.exists(dirname):\n",
    "        print(dirname)\n",
    "        os.makedirs(dirname)"
   ]
  },
  {
   "cell_type": "code",
   "execution_count": null,
   "metadata": {},
   "outputs": [],
   "source": [
    "dirLayerpath2='300-Parameters'\n",
    "dirname = os.path.join(pathRIFname, dirLayerpath, dirLayerpath2)\n",
    "if not os.path.exists(dirname):\n",
    "    print(dirname)\n",
    "    os.makedirs(dirname)"
   ]
  },
  {
   "cell_type": "code",
   "execution_count": null,
   "metadata": {},
   "outputs": [],
   "source": [
    "dirpaths=['100-Retrieve-Parameters',\n",
    "          '200-Asses-Parameters',\n",
    "          '300-Process-Parameters',\n",
    "          '400-Transform-Parameters',\n",
    "          '500-Organise-Parameters',\n",
    "          '600-Report-Parameters',\n",
    "          '900-Other-Parameters'\n",
    "         ]\n",
    "\n",
    "for dirpath in dirpaths:\n",
    "    dirname = os.path.join(pathRIFname, dirLayerpath, dirLayerpath2, dirpath)\n",
    "    if not os.path.exists(dirname):\n",
    "        print(dirname)\n",
    "        os.makedirs(dirname)"
   ]
  },
  {
   "cell_type": "code",
   "execution_count": null,
   "metadata": {},
   "outputs": [],
   "source": [
    "dirpath='400-Scheduling'\n",
    "dirname = os.path.join(pathRIFname, dirLayerpath, dirpath)\n",
    "if not os.path.exists(dirname):\n",
    "    print(dirname)\n",
    "    os.makedirs(dirname)"
   ]
  },
  {
   "cell_type": "code",
   "execution_count": null,
   "metadata": {},
   "outputs": [],
   "source": [
    "dirpath='500-Monitoring'\n",
    "dirname = os.path.join(pathRIFname, dirLayerpath, dirpath)\n",
    "if not os.path.exists(dirname):\n",
    "    print(dirname)\n",
    "    os.makedirs(dirname)"
   ]
  },
  {
   "cell_type": "code",
   "execution_count": null,
   "metadata": {},
   "outputs": [],
   "source": [
    "dirpath='600-Communication'\n",
    "dirname = os.path.join(pathRIFname, dirLayerpath, dirpath)\n",
    "if not os.path.exists(dirname):\n",
    "    print(dirname)\n",
    "    os.makedirs(dirname)"
   ]
  },
  {
   "cell_type": "code",
   "execution_count": null,
   "metadata": {},
   "outputs": [],
   "source": [
    "dirpath='700-Alerting'\n",
    "dirname = os.path.join(pathRIFname, dirLayerpath, dirpath)\n",
    "if not os.path.exists(dirname):\n",
    "    print(dirname)\n",
    "    os.makedirs(dirname)"
   ]
  },
  {
   "cell_type": "code",
   "execution_count": null,
   "metadata": {},
   "outputs": [],
   "source": [
    "dirpath='800-Codes-Management'\n",
    "dirname = os.path.join(pathRIFname, dirLayerpath, dirpath)\n",
    "if not os.path.exists(dirname):\n",
    "    print(dirname)\n",
    "    os.makedirs(dirname)"
   ]
  },
  {
   "cell_type": "markdown",
   "metadata": {},
   "source": [
    "# Audit, Balance and Control Layer"
   ]
  },
  {
   "cell_type": "markdown",
   "metadata": {},
   "source": [
    "![RIF ABC Layer](../images/RIF-ABC.JPG)"
   ]
  },
  {
   "cell_type": "code",
   "execution_count": null,
   "metadata": {},
   "outputs": [],
   "source": [
    "dirLayerpath='300-Audit-Balance-Control-Layer'\n",
    "dirname = os.path.join(pathRIFname, dirLayerpath)\n",
    "if not os.path.exists(dirname):\n",
    "    print(dirname)\n",
    "    os.makedirs(dirname)"
   ]
  },
  {
   "cell_type": "code",
   "execution_count": null,
   "metadata": {},
   "outputs": [],
   "source": [
    "dirsubLayerpath='100-Audit'\n",
    "dirname = os.path.join(pathRIFname, dirLayerpath, dirsubLayerpath)\n",
    "if not os.path.exists(dirname):\n",
    "    print(dirname)\n",
    "    os.makedirs(dirname)"
   ]
  },
  {
   "cell_type": "code",
   "execution_count": null,
   "metadata": {},
   "outputs": [],
   "source": [
    "dirpaths=['100-Retrieve-Audit',\n",
    "          '200-Asses-Audit',\n",
    "          '300-Process-Audit',\n",
    "          '400-Transform-Audit',\n",
    "          '500-Organise-Audit',\n",
    "          '600-Report-Audit',\n",
    "          '900-Other-Audit'\n",
    "         ]\n",
    "\n",
    "for dirpath in dirpaths:\n",
    "    dirname = os.path.join(pathRIFname, dirLayerpath, dirsubLayerpath, dirpath)\n",
    "    if not os.path.exists(dirname):\n",
    "        print(dirname)\n",
    "        os.makedirs(dirname)"
   ]
  },
  {
   "cell_type": "code",
   "execution_count": null,
   "metadata": {},
   "outputs": [],
   "source": [
    "dirsubLayerpath='200-Balance'\n",
    "dirname = os.path.join(pathRIFname, dirLayerpath, dirsubLayerpath)\n",
    "if not os.path.exists(dirname):\n",
    "    print(dirname)\n",
    "    os.makedirs(dirname)"
   ]
  },
  {
   "cell_type": "code",
   "execution_count": null,
   "metadata": {},
   "outputs": [],
   "source": [
    "dirpaths=['100-Retrieve-Balance',\n",
    "          '200-Asses-Balance',\n",
    "          '300-Process-Balance',\n",
    "          '400-Transform-Balance',\n",
    "          '500-Organise-Balance',\n",
    "          '600-Report-Balance',\n",
    "          '900-Other-Balance'\n",
    "         ]\n",
    "\n",
    "for dirpath in dirpaths:\n",
    "    dirname = os.path.join(pathRIFname, dirLayerpath, dirsubLayerpath, dirpath)\n",
    "    if not os.path.exists(dirname):\n",
    "        print(dirname)\n",
    "        os.makedirs(dirname)"
   ]
  },
  {
   "cell_type": "code",
   "execution_count": null,
   "metadata": {},
   "outputs": [],
   "source": [
    "dirsubLayerpath='300-Control'\n",
    "dirname = os.path.join(pathRIFname, dirLayerpath, dirsubLayerpath)\n",
    "if not os.path.exists(dirname):\n",
    "    print(dirname)\n",
    "    os.makedirs(dirname)"
   ]
  },
  {
   "cell_type": "code",
   "execution_count": null,
   "metadata": {},
   "outputs": [],
   "source": [
    "dirpaths=['100-Retrieve-AuditControl',\n",
    "          '200-Asses-Control',\n",
    "          '300-Process-Control',\n",
    "          '400-Transform-Control',\n",
    "          '500-Organise-Control',\n",
    "          '600-Report-Control',\n",
    "          '900-Other-Control'\n",
    "         ]\n",
    "\n",
    "for dirpath in dirpaths:\n",
    "    dirname = os.path.join(pathRIFname, dirLayerpath, dirsubLayerpath, dirpath)\n",
    "    if not os.path.exists(dirname):\n",
    "        print(dirname)\n",
    "        os.makedirs(dirname)"
   ]
  },
  {
   "cell_type": "markdown",
   "metadata": {},
   "source": [
    "# Utility Layer"
   ]
  },
  {
   "cell_type": "markdown",
   "metadata": {},
   "source": [
    "![RIF Utility Layer](../images/RIF-UL.JPG)"
   ]
  },
  {
   "cell_type": "code",
   "execution_count": null,
   "metadata": {},
   "outputs": [],
   "source": [
    "dirLayerpath='400-Utility-Layer'\n",
    "dirname = os.path.join(pathRIFname, dirLayerpath)\n",
    "if not os.path.exists(dirname):\n",
    "    print(dirname)\n",
    "    os.makedirs(dirname)"
   ]
  },
  {
   "cell_type": "markdown",
   "metadata": {},
   "source": [
    "## Utility Layer - Maintenance Utilities"
   ]
  },
  {
   "cell_type": "code",
   "execution_count": null,
   "metadata": {},
   "outputs": [],
   "source": [
    "dirpath='100-Maintenance-Utilities'\n",
    "dirname = os.path.join(pathRIFname, dirLayerpath, dirpath)\n",
    "if not os.path.exists(dirname):\n",
    "    print(dirname)\n",
    "    os.makedirs(dirname)"
   ]
  },
  {
   "cell_type": "markdown",
   "metadata": {},
   "source": [
    "## Utility Layer - Data Utilities"
   ]
  },
  {
   "cell_type": "code",
   "execution_count": null,
   "metadata": {},
   "outputs": [],
   "source": [
    "dirpath='200-Data-Utilities'\n",
    "dirname = os.path.join(pathRIFname, dirLayerpath, dirpath)\n",
    "if not os.path.exists(dirname):\n",
    "    print(dirname)\n",
    "    os.makedirs(dirname)"
   ]
  },
  {
   "cell_type": "markdown",
   "metadata": {},
   "source": [
    "## Utility Layer - Processing Utilities"
   ]
  },
  {
   "cell_type": "code",
   "execution_count": null,
   "metadata": {},
   "outputs": [],
   "source": [
    "dirpath='300-Processing Utilities'\n",
    "dirname = os.path.join(pathRIFname, dirLayerpath, dirpath)\n",
    "if not os.path.exists(dirname):\n",
    "    print(dirname)\n",
    "    os.makedirs(dirname)"
   ]
  },
  {
   "cell_type": "markdown",
   "metadata": {},
   "source": [
    "# Business Layer"
   ]
  },
  {
   "cell_type": "markdown",
   "metadata": {},
   "source": [
    "![RIF Business Layer](../images/RIF-BL.JPG)"
   ]
  },
  {
   "cell_type": "code",
   "execution_count": null,
   "metadata": {},
   "outputs": [],
   "source": [
    "dirLayerpath='500-Business-Layer'\n",
    "dirname = os.path.join(pathRIFname, dirLayerpath)\n",
    "if not os.path.exists(dirname):\n",
    "    print(dirname)\n",
    "    os.makedirs(dirname)"
   ]
  },
  {
   "cell_type": "markdown",
   "metadata": {},
   "source": [
    "## Business Layer - Functional Requirements"
   ]
  },
  {
   "cell_type": "code",
   "execution_count": null,
   "metadata": {},
   "outputs": [],
   "source": [
    "dirpath='100-Functional-Requirements'\n",
    "dirname = os.path.join(pathRIFname, dirLayerpath, dirpath)\n",
    "if not os.path.exists(dirname):\n",
    "    print(dirname)\n",
    "    os.makedirs(dirname)"
   ]
  },
  {
   "cell_type": "markdown",
   "metadata": {},
   "source": [
    "## Business Layer - Non-functional Requirements"
   ]
  },
  {
   "cell_type": "code",
   "execution_count": null,
   "metadata": {},
   "outputs": [],
   "source": [
    "dirpath='200-Non-functional-Requirements'\n",
    "dirname = os.path.join(pathRIFname, dirLayerpath, dirpath)\n",
    "if not os.path.exists(dirname):\n",
    "    print(dirname)\n",
    "    os.makedirs(dirname)"
   ]
  },
  {
   "cell_type": "markdown",
   "metadata": {},
   "source": [
    "## Business Layer - Data Profiles"
   ]
  },
  {
   "cell_type": "code",
   "execution_count": null,
   "metadata": {},
   "outputs": [],
   "source": [
    "dirpath='300-Data-Profiles'\n",
    "dirname = os.path.join(pathRIFname, dirLayerpath, dirpath)\n",
    "if not os.path.exists(dirname):\n",
    "    print(dirname)\n",
    "    os.makedirs(dirname)"
   ]
  },
  {
   "cell_type": "markdown",
   "metadata": {},
   "source": [
    "## Business Layer - Sun Models"
   ]
  },
  {
   "cell_type": "code",
   "execution_count": null,
   "metadata": {},
   "outputs": [],
   "source": [
    "dirpath='400-Sun-Models'\n",
    "dirname = os.path.join(pathRIFname, dirLayerpath, dirpath)\n",
    "if not os.path.exists(dirname):\n",
    "    print(dirname)\n",
    "    os.makedirs(dirname)"
   ]
  },
  {
   "cell_type": "markdown",
   "metadata": {},
   "source": [
    "## Business Layer - UML Models"
   ]
  },
  {
   "cell_type": "code",
   "execution_count": null,
   "metadata": {},
   "outputs": [],
   "source": [
    "dirpath='500-UML-Models'\n",
    "dirname = os.path.join(pathRIFname, dirLayerpath, dirpath)\n",
    "if not os.path.exists(dirname):\n",
    "    print(dirname)\n",
    "    os.makedirs(dirname)"
   ]
  },
  {
   "cell_type": "markdown",
   "metadata": {},
   "source": [
    "# Create Six Zone Data Lake"
   ]
  },
  {
   "cell_type": "markdown",
   "metadata": {},
   "source": [
    "![Data Lake](../images/DataLake.JPG)"
   ]
  },
  {
   "cell_type": "code",
   "execution_count": null,
   "metadata": {},
   "outputs": [],
   "source": [
    "pathDLname='../100-DL/'"
   ]
  },
  {
   "cell_type": "code",
   "execution_count": null,
   "metadata": {},
   "outputs": [],
   "source": [
    "if os.path.exists(pathDLname):\n",
    "    shutil.rmtree(pathDLname)\n",
    "    time.sleep(0.5)\n",
    "    \n",
    "if not os.path.exists(pathDLname):\n",
    "    os.makedirs(pathDLname)"
   ]
  },
  {
   "cell_type": "markdown",
   "metadata": {},
   "source": [
    "# Create Workspace Zone"
   ]
  },
  {
   "cell_type": "markdown",
   "metadata": {},
   "source": [
    "![Data Lake Workspace Zone](../images/DL-WSZ.JPG)"
   ]
  },
  {
   "cell_type": "code",
   "execution_count": null,
   "metadata": {},
   "outputs": [],
   "source": [
    "dirpath='000-Workspace-Zone'\n",
    "dirname = os.path.join(pathDLname, dirpath)\n",
    "if not os.path.exists(dirname):\n",
    "    print(dirname)\n",
    "    os.makedirs(dirname)"
   ]
  },
  {
   "cell_type": "code",
   "execution_count": null,
   "metadata": {},
   "outputs": [],
   "source": [
    "dirpaths=['100-Retrieve-Workspace-Zone',\n",
    "          '200-Asses-Workspace-Zone',\n",
    "          '300-Process-Workspace-Zone',\n",
    "          '400-Transform-Workspace-Zone',\n",
    "          '500-Organise-Workspace-Zone',\n",
    "          '600-Report-Workspace-Zone',\n",
    "          '900-Other-Workspace-Zone'\n",
    "         ]\n",
    "\n",
    "for dirpath2 in dirpaths:\n",
    "    dirname = os.path.join(pathDLname, dirpath, dirpath2)\n",
    "    if not os.path.exists(dirname):\n",
    "        print(dirname)\n",
    "        os.makedirs(dirname)"
   ]
  },
  {
   "cell_type": "markdown",
   "metadata": {},
   "source": [
    "# Create Raw Zone"
   ]
  },
  {
   "cell_type": "markdown",
   "metadata": {},
   "source": [
    "![Data Lake Raw Zone](../images/DL-RZ.JPG)"
   ]
  },
  {
   "cell_type": "code",
   "execution_count": null,
   "metadata": {},
   "outputs": [],
   "source": [
    "dirLayerpath='100-Raw-Zone'\n",
    "dirname = os.path.join(pathDLname, dirLayerpath)\n",
    "if not os.path.exists(dirname):\n",
    "    print(dirname)\n",
    "    os.makedirs(dirname)"
   ]
  },
  {
   "cell_type": "code",
   "execution_count": null,
   "metadata": {},
   "outputs": [],
   "source": [
    "dirLayerpath2='0100-External'\n",
    "\n",
    "labels=st.ascii_uppercase\n",
    "\n",
    "dirpaths=['100-Golden-Source',\n",
    "          '200-Partner-Data',\n",
    "          '300-Open-Data',\n",
    "          '500-Kafka-Subscriber-Data',\n",
    "          '900-Other'\n",
    "         ]\n",
    "\n",
    "for dirpath in dirpaths:\n",
    "    for i in range(20):\n",
    "        datasource= '%06d-Data-Source-%s' % (i, labels[i])\n",
    "        dirname = os.path.join(pathDLname, dirLayerpath, dirLayerpath2, dirpath, datasource)\n",
    "        if not os.path.exists(dirname):\n",
    "            print(dirname)\n",
    "            os.makedirs(dirname)"
   ]
  },
  {
   "cell_type": "code",
   "execution_count": null,
   "metadata": {},
   "outputs": [],
   "source": [
    "dirLayerpath2='0200-Internal'\n",
    "\n",
    "dirpaths=['000100-CSV',\n",
    "          '000200-TEXT',\n",
    "          '000300-JSON',\n",
    "          '000400-XML',\n",
    "          '000500-PICS',\n",
    "          '000600-Delta',\n",
    "          '000900-Human-in-the-Loop'\n",
    "         ]\n",
    "\n",
    "for dirpath in dirpaths:\n",
    "    dirname = os.path.join(pathDLname, dirLayerpath, dirLayerpath2, dirpath)\n",
    "    print(dirname)\n",
    "    if not os.path.exists(dirname):\n",
    "        os.makedirs(dirname)"
   ]
  },
  {
   "cell_type": "code",
   "execution_count": null,
   "metadata": {},
   "outputs": [],
   "source": [
    "dirLayerpath2='0300-Archive'\n",
    "\n",
    "for dirpath in dirpaths:\n",
    "    dirname = os.path.join(pathDLname, dirLayerpath, dirLayerpath2, dirpath)\n",
    "    if not os.path.exists(dirname):\n",
    "        print(dirname)\n",
    "        os.makedirs(dirname)"
   ]
  },
  {
   "cell_type": "markdown",
   "metadata": {},
   "source": [
    "# Create Structured Zone"
   ]
  },
  {
   "cell_type": "markdown",
   "metadata": {},
   "source": [
    "![Data Lake Structured Zone](../images/DL-SZ.JPG)"
   ]
  },
  {
   "cell_type": "code",
   "execution_count": null,
   "metadata": {},
   "outputs": [],
   "source": [
    "dirpath='200-Structured-Zone'\n",
    "dirname = os.path.join(pathDLname, dirpath)\n",
    "if not os.path.exists(dirname):\n",
    "    print(dirname)\n",
    "    os.makedirs(dirname)"
   ]
  },
  {
   "cell_type": "markdown",
   "metadata": {},
   "source": [
    "# Create Curated Zone"
   ]
  },
  {
   "cell_type": "markdown",
   "metadata": {},
   "source": [
    "![Data Lake Curated Zone](../images/DL-CUZ.JPG)"
   ]
  },
  {
   "cell_type": "code",
   "execution_count": null,
   "metadata": {},
   "outputs": [],
   "source": [
    "dirpath='300-Curated-Zone'\n",
    "dirname = os.path.join(pathDLname, dirpath)\n",
    "if not os.path.exists(dirname):\n",
    "    print(dirname)\n",
    "    os.makedirs(dirname)"
   ]
  },
  {
   "cell_type": "code",
   "execution_count": null,
   "metadata": {},
   "outputs": [],
   "source": [
    "labels=st.ascii_uppercase\n",
    "\n",
    "dirpath2='0100-Publisher'\n",
    "\n",
    "dirpaths=['100-Read',\n",
    "          '200-Write',\n",
    "          '800-Work-Space',\n",
    "          '900-Human-in-the-Loop'\n",
    "         ]\n",
    "\n",
    "for i in range(20):\n",
    "        datasource= '%06d-Consumer-%s' % (i, labels[i])\n",
    "        for dirpath3 in dirpaths:\n",
    "            dirname = os.path.join(pathDLname, dirpath, dirpath2, datasource, dirpath3)\n",
    "            if not os.path.exists(dirname):\n",
    "                print(dirname)\n",
    "                os.makedirs(dirname)"
   ]
  },
  {
   "cell_type": "markdown",
   "metadata": {},
   "source": [
    "# Create Curated Zone - TPOLE Structure"
   ]
  },
  {
   "cell_type": "markdown",
   "metadata": {},
   "source": [
    "![Data Lake Curated Zone](../images/TPOLE.JPG)"
   ]
  },
  {
   "cell_type": "code",
   "execution_count": null,
   "metadata": {},
   "outputs": [],
   "source": [
    "DV=['Hub','Satellite','Link']\n",
    "TPOLE=['Time','Person','Object','Location','Event']\n",
    "\n",
    "dirpath2='0200-Data-Vault'"
   ]
  },
  {
   "cell_type": "code",
   "execution_count": null,
   "metadata": {},
   "outputs": [],
   "source": [
    "for dvpath in DV:    \n",
    "    if dvpath == 'Link':        \n",
    "        for hubpath1 in TPOLE:\n",
    "            for hubpath2 in TPOLE:\n",
    "                hubpath = hubpath1 + '-' + hubpath2\n",
    "                dirname = os.path.join(pathDLname, dirpath, dirpath2, dvpath, hubpath)\n",
    "                if not os.path.exists(dirname):\n",
    "                    os.makedirs(dirname)\n",
    "                    print(dirname)\n",
    "    else:\n",
    "        for hubpath in TPOLE:\n",
    "            dirname = os.path.join(pathDLname, dirpath, dirpath2, dvpath, hubpath)\n",
    "            if not os.path.exists(dirname):\n",
    "                os.makedirs(dirname)\n",
    "                print(dirname)"
   ]
  },
  {
   "cell_type": "code",
   "execution_count": null,
   "metadata": {},
   "outputs": [],
   "source": [
    "dirpath2='0300-Data-Warehouse'\n",
    "DW=['Dimension','Fact']\n",
    "\n",
    "for dmpath in DW:\n",
    "    dirname = os.path.join(pathDLname, dirpath, dirpath2, dmpath)\n",
    "    if not os.path.exists(dirname):\n",
    "        os.makedirs(dirname)\n",
    "        print(dirname)"
   ]
  },
  {
   "cell_type": "markdown",
   "metadata": {},
   "source": [
    "# Create Consumer Zone"
   ]
  },
  {
   "cell_type": "markdown",
   "metadata": {},
   "source": [
    "![Data Lake Consumer Zone](../images/DL-COZ.JPG)"
   ]
  },
  {
   "cell_type": "code",
   "execution_count": null,
   "metadata": {},
   "outputs": [],
   "source": [
    "dirpath='400-Consumer-Zone'\n",
    "dirname = os.path.join(pathDLname, dirpath)\n",
    "if not os.path.exists(dirname):\n",
    "    print(dirname)\n",
    "    os.makedirs(dirname)"
   ]
  },
  {
   "cell_type": "code",
   "execution_count": null,
   "metadata": {},
   "outputs": [],
   "source": [
    "labels=st.ascii_uppercase\n",
    "\n",
    "dirpaths2 = ['0100-Current',\n",
    "             '0200-Active-Version/V20190512/0001',\n",
    "             '0300-Achive-Version/V20180512/0099'\n",
    "            ]\n",
    "\n",
    "dirpaths3=['100-Read',\n",
    "           '200-Write'\n",
    "          ]\n",
    "\n",
    "for i in range(10):\n",
    "        for dirpath2 in dirpaths2:\n",
    "            datasource= '%06d-Consumer-%s' % (i, labels[i])\n",
    "            for dirpath3 in dirpaths3:\n",
    "                dirname = os.path.relpath(os.path.join(pathDLname, dirpath, dirpath2, datasource, dirpath3))\n",
    "                if not os.path.exists(dirname):\n",
    "                    print(dirname)\n",
    "                    os.makedirs(dirname)"
   ]
  },
  {
   "cell_type": "markdown",
   "metadata": {},
   "source": [
    "# Create Analytics Zone"
   ]
  },
  {
   "cell_type": "markdown",
   "metadata": {},
   "source": [
    "![Data Lake Analytics Zone](../images/DL-AZ.JPG)"
   ]
  },
  {
   "cell_type": "code",
   "execution_count": null,
   "metadata": {},
   "outputs": [],
   "source": [
    "dirpath='500-Analytics-Zone'\n",
    "dirname = os.path.join(pathDLname, dirpath)\n",
    "if not os.path.exists(dirname):\n",
    "    print(dirname)\n",
    "    os.makedirs(dirname)"
   ]
  },
  {
   "cell_type": "markdown",
   "metadata": {},
   "source": [
    "# Clear Checkpoints"
   ]
  },
  {
   "cell_type": "markdown",
   "metadata": {},
   "source": [
    "![Trash Bin](../images/TrashBin.JPG)"
   ]
  },
  {
   "cell_type": "code",
   "execution_count": null,
   "metadata": {},
   "outputs": [],
   "source": [
    "pathRIFname='../000-RIF/'\n",
    "for root, dirs, files in os.walk(pathRIFname, topdown=True):\n",
    "    for name in dirs:\n",
    "        fullDir=os.path.join(root, name)\n",
    "        #print(fullDir)\n",
    "        if name=='.ipynb_checkpoints':\n",
    "            print('Remove:', fullDir)\n",
    "            if os.path.exists(fullDir):\n",
    "                shutil.rmtree(fullDir)\n",
    "            time.sleep(0.1)"
   ]
  },
  {
   "cell_type": "markdown",
   "metadata": {},
   "source": [
    "# Show Rapid Information Factory (RIF)"
   ]
  },
  {
   "cell_type": "markdown",
   "metadata": {},
   "source": [
    "![RIF](../images/RAPTOR.JPG)"
   ]
  },
  {
   "cell_type": "markdown",
   "metadata": {},
   "source": [
    "## Show RIF directories"
   ]
  },
  {
   "cell_type": "code",
   "execution_count": null,
   "metadata": {},
   "outputs": [],
   "source": [
    "pathRIFname='../000-RIF/'\n",
    "for root, dirs, files in os.walk(pathRIFname, topdown=True):\n",
    "    for name in dirs:\n",
    "        print(os.path.join(root, name))"
   ]
  },
  {
   "cell_type": "markdown",
   "metadata": {},
   "source": [
    "## Show RIF files"
   ]
  },
  {
   "cell_type": "code",
   "execution_count": null,
   "metadata": {},
   "outputs": [],
   "source": [
    "for root, dirs, files in os.walk(pathRIFname, topdown=True):\n",
    "    for name in files:\n",
    "        print(os.path.join(root, name))"
   ]
  },
  {
   "cell_type": "markdown",
   "metadata": {},
   "source": [
    "# Show Data Lake"
   ]
  },
  {
   "cell_type": "markdown",
   "metadata": {},
   "source": [
    "![RIF](../images/DataLake.JPG)"
   ]
  },
  {
   "cell_type": "markdown",
   "metadata": {},
   "source": [
    "## Show Data Lake directories"
   ]
  },
  {
   "cell_type": "code",
   "execution_count": null,
   "metadata": {},
   "outputs": [],
   "source": [
    "pathDLname='../100-DL/'\n",
    "for root, dirs, files in os.walk(pathDLname, topdown=True):\n",
    "    for name in dirs:\n",
    "        print(os.path.join(root, name))"
   ]
  },
  {
   "cell_type": "markdown",
   "metadata": {},
   "source": [
    "## Show Data Lake files"
   ]
  },
  {
   "cell_type": "code",
   "execution_count": null,
   "metadata": {},
   "outputs": [],
   "source": [
    "for root, dirs, files in os.walk(pathDLname, topdown=True):\n",
    "    for name in files:\n",
    "        print(os.path.join(root, name))"
   ]
  },
  {
   "cell_type": "markdown",
   "metadata": {},
   "source": [
    "# Run Time"
   ]
  },
  {
   "cell_type": "code",
   "execution_count": null,
   "metadata": {},
   "outputs": [],
   "source": [
    "nowStop = datetime.datetime.now()\n",
    "runTime=nowStop-nowStart\n",
    "print('Start:', nowStart.strftime('%Y-%m-%d %H:%M:%S'))\n",
    "print('Stop: ', nowStop.strftime('%Y-%m-%d %H:%M:%S'))\n",
    "print('Time: ', runTime)"
   ]
  },
  {
   "cell_type": "code",
   "execution_count": null,
   "metadata": {},
   "outputs": [],
   "source": []
  }
 ],
 "metadata": {
  "kernelspec": {
   "display_name": "Python 3",
   "language": "python",
   "name": "python3"
  },
  "language_info": {
   "codemirror_mode": {
    "name": "ipython",
    "version": 3
   },
   "file_extension": ".py",
   "mimetype": "text/x-python",
   "name": "python",
   "nbconvert_exporter": "python",
   "pygments_lexer": "ipython3",
   "version": "3.7.3"
  }
 },
 "nbformat": 4,
 "nbformat_minor": 2
}
