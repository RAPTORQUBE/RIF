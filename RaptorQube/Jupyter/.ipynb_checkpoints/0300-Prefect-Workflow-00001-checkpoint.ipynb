{
 "cells": [
  {
   "cell_type": "code",
   "execution_count": 2,
   "metadata": {},
   "outputs": [
    {
     "name": "stdout",
     "output_type": "stream",
     "text": [
      "Requirement already satisfied: prefect in c:\\users\\sirve\\anaconda3\\lib\\site-packages (0.5.4)\n",
      "Requirement already satisfied: click<8.0,>=7.0 in c:\\users\\sirve\\anaconda3\\lib\\site-packages (from prefect) (7.0)\n",
      "Requirement already satisfied: pytz>=2018.7 in c:\\users\\sirve\\anaconda3\\lib\\site-packages (from prefect) (2018.9)\n",
      "Requirement already satisfied: python-slugify<4.0,>=1.2.6 in c:\\users\\sirve\\anaconda3\\lib\\site-packages (from prefect) (1.2.6)\n",
      "Requirement already satisfied: dask<1.2.3,>=0.18 in c:\\users\\sirve\\anaconda3\\lib\\site-packages (from prefect) (1.2.2)\n",
      "Requirement already satisfied: mypy<0.800,>=0.600 in c:\\users\\sirve\\anaconda3\\lib\\site-packages (from prefect) (0.701)\n",
      "Requirement already satisfied: pyyaml<5.2,>=3.13 in c:\\users\\sirve\\anaconda3\\lib\\site-packages (from prefect) (5.1)\n",
      "Requirement already satisfied: distributed<2.0,>=1.26.1 in c:\\users\\sirve\\anaconda3\\lib\\site-packages (from prefect) (1.28.1)\n",
      "Requirement already satisfied: docker<5.0,>=3.4.1 in c:\\users\\sirve\\anaconda3\\lib\\site-packages (from prefect) (4.0.1)\n",
      "Requirement already satisfied: typing<4.0,>=3.6.4 in c:\\users\\sirve\\anaconda3\\lib\\site-packages (from prefect) (3.6.4)\n",
      "Requirement already satisfied: xxhash<2.0,>=1.2.0 in c:\\users\\sirve\\anaconda3\\lib\\site-packages (from prefect) (1.3.0)\n",
      "Requirement already satisfied: cloudpickle<1.2,>=0.6.0 in c:\\users\\sirve\\anaconda3\\lib\\site-packages (from prefect) (0.8.0)\n",
      "Requirement already satisfied: requests<3.0,>=2.20 in c:\\users\\sirve\\anaconda3\\lib\\site-packages (from prefect) (2.21.0)\n",
      "Requirement already satisfied: toml<1.0,>=0.9.4 in c:\\users\\sirve\\anaconda3\\lib\\site-packages (from prefect) (0.10.0)\n",
      "Requirement already satisfied: marshmallow-oneofschema<3.0,>=2.0.0b2 in c:\\users\\sirve\\anaconda3\\lib\\site-packages (from prefect) (2.0.0b2)\n",
      "Requirement already satisfied: python-dateutil<3.0,>2.7.3 in c:\\users\\sirve\\anaconda3\\lib\\site-packages (from prefect) (2.8.0)\n",
      "Requirement already satisfied: mypy-extensions<0.5,>=0.4.0 in c:\\users\\sirve\\anaconda3\\lib\\site-packages (from prefect) (0.4.1)\n",
      "Requirement already satisfied: typing-extensions<4.0,>=3.6.4 in c:\\users\\sirve\\anaconda3\\lib\\site-packages (from prefect) (3.7.2)\n",
      "Requirement already satisfied: pendulum<3.0,>=2.0.2 in c:\\users\\sirve\\anaconda3\\lib\\site-packages (from prefect) (2.0.4)\n",
      "Collecting marshmallow==3.0.0b19 (from prefect)\n",
      "  Downloading https://files.pythonhosted.org/packages/60/00/4f792fdbb7f0f243ce7fdb729bee3a8afde968e4bfda8365d47a9367a787/marshmallow-3.0.0b19-py2.py3-none-any.whl (48kB)\n",
      "Requirement already satisfied: croniter<0.4,>=0.3 in c:\\users\\sirve\\anaconda3\\lib\\site-packages (from prefect) (0.3.30)\n",
      "Requirement already satisfied: cryptography<3.0,>=2.2.2 in c:\\users\\sirve\\anaconda3\\lib\\site-packages (from prefect) (2.6.1)\n",
      "Requirement already satisfied: Unidecode>=0.04.16 in c:\\users\\sirve\\anaconda3\\lib\\site-packages (from python-slugify<4.0,>=1.2.6->prefect) (1.1.0)\n",
      "Requirement already satisfied: typed-ast<1.4.0,>=1.3.1 in c:\\users\\sirve\\anaconda3\\lib\\site-packages (from mypy<0.800,>=0.600->prefect) (1.3.5)\n",
      "Requirement already satisfied: six in c:\\users\\sirve\\anaconda3\\lib\\site-packages (from distributed<2.0,>=1.26.1->prefect) (1.12.0)\n",
      "Requirement already satisfied: msgpack in c:\\users\\sirve\\anaconda3\\lib\\site-packages (from distributed<2.0,>=1.26.1->prefect) (0.6.1)\n",
      "Requirement already satisfied: psutil>=5.0 in c:\\users\\sirve\\anaconda3\\lib\\site-packages (from distributed<2.0,>=1.26.1->prefect) (5.6.1)\n",
      "Requirement already satisfied: tornado>=5 in c:\\users\\sirve\\anaconda3\\lib\\site-packages (from distributed<2.0,>=1.26.1->prefect) (6.0.2)\n",
      "Requirement already satisfied: sortedcontainers!=2.0.0,!=2.0.1 in c:\\users\\sirve\\anaconda3\\lib\\site-packages (from distributed<2.0,>=1.26.1->prefect) (2.1.0)\n",
      "Requirement already satisfied: toolz>=0.7.4 in c:\\users\\sirve\\anaconda3\\lib\\site-packages (from distributed<2.0,>=1.26.1->prefect) (0.9.0)\n",
      "Requirement already satisfied: zict>=0.1.3 in c:\\users\\sirve\\anaconda3\\lib\\site-packages (from distributed<2.0,>=1.26.1->prefect) (0.1.4)\n",
      "Requirement already satisfied: tblib in c:\\users\\sirve\\anaconda3\\lib\\site-packages (from distributed<2.0,>=1.26.1->prefect) (1.3.2)\n",
      "Requirement already satisfied: websocket-client>=0.32.0 in c:\\users\\sirve\\anaconda3\\lib\\site-packages (from docker<5.0,>=3.4.1->prefect) (0.56.0)\n",
      "Requirement already satisfied: pypiwin32==223; sys_platform == \"win32\" and python_version >= \"3.6\" in c:\\users\\sirve\\anaconda3\\lib\\site-packages (from docker<5.0,>=3.4.1->prefect) (223)\n",
      "Requirement already satisfied: certifi>=2017.4.17 in c:\\users\\sirve\\anaconda3\\lib\\site-packages (from requests<3.0,>=2.20->prefect) (2019.3.9)\n",
      "Requirement already satisfied: chardet<3.1.0,>=3.0.2 in c:\\users\\sirve\\anaconda3\\lib\\site-packages (from requests<3.0,>=2.20->prefect) (3.0.4)\n",
      "Requirement already satisfied: urllib3<1.25,>=1.21.1 in c:\\users\\sirve\\anaconda3\\lib\\site-packages (from requests<3.0,>=2.20->prefect) (1.24.1)\n",
      "Requirement already satisfied: idna<2.9,>=2.5 in c:\\users\\sirve\\anaconda3\\lib\\site-packages (from requests<3.0,>=2.20->prefect) (2.8)\n",
      "Requirement already satisfied: pytzdata>=2018.3 in c:\\users\\sirve\\anaconda3\\lib\\site-packages (from pendulum<3.0,>=2.0.2->prefect) (2019.1)\n",
      "Requirement already satisfied: cffi!=1.11.3,>=1.8 in c:\\users\\sirve\\anaconda3\\lib\\site-packages (from cryptography<3.0,>=2.2.2->prefect) (1.12.2)\n",
      "Requirement already satisfied: asn1crypto>=0.21.0 in c:\\users\\sirve\\anaconda3\\lib\\site-packages (from cryptography<3.0,>=2.2.2->prefect) (0.24.0)\n",
      "Requirement already satisfied: heapdict in c:\\users\\sirve\\anaconda3\\lib\\site-packages (from zict>=0.1.3->distributed<2.0,>=1.26.1->prefect) (1.0.0)\n",
      "Requirement already satisfied: pywin32>=223 in c:\\users\\sirve\\anaconda3\\lib\\site-packages (from pypiwin32==223; sys_platform == \"win32\" and python_version >= \"3.6\"->docker<5.0,>=3.4.1->prefect) (223)\n",
      "Requirement already satisfied: pycparser in c:\\users\\sirve\\anaconda3\\lib\\site-packages (from cffi!=1.11.3,>=1.8->cryptography<3.0,>=2.2.2->prefect) (2.19)\n",
      "Installing collected packages: marshmallow\n",
      "  Found existing installation: marshmallow 3.0.0rc5\n",
      "    Uninstalling marshmallow-3.0.0rc5:\n",
      "      Successfully uninstalled marshmallow-3.0.0rc5\n",
      "Successfully installed marshmallow-3.0.0b19\n"
     ]
    }
   ],
   "source": [
    "!pip install prefect"
   ]
  },
  {
   "cell_type": "code",
   "execution_count": 3,
   "metadata": {},
   "outputs": [
    {
     "name": "stderr",
     "output_type": "stream",
     "text": [
      "[2019-06-28 18:36:51,500] INFO - prefect.FlowRunner | Beginning Flow run for 'FlowOne'\n",
      "[2019-06-28 18:36:51,500] INFO - prefect.FlowRunner | Starting flow run.\n",
      "[2019-06-28 18:36:51,508] INFO - prefect.TaskRunner | Task 'say_hello': Starting task run...\n",
      "[2019-06-28 18:36:51,512] INFO - prefect.TaskRunner | Task 'say_hello': finished task run for task with final state: 'Success'\n",
      "[2019-06-28 18:36:51,516] INFO - prefect.FlowRunner | Flow run SUCCESS: all reference tasks succeeded\n"
     ]
    },
    {
     "name": "stdout",
     "output_type": "stream",
     "text": [
      "Hello, raptorQube!\n"
     ]
    },
    {
     "data": {
      "text/plain": [
       "<Success: \"All reference tasks succeeded.\">"
      ]
     },
     "execution_count": 3,
     "metadata": {},
     "output_type": "execute_result"
    }
   ],
   "source": [
    "from prefect import task, Flow\n",
    "\n",
    "\n",
    "@task\n",
    "def say_hello():\n",
    "    print(\"Hello, raptorQube!\")\n",
    "\n",
    "\n",
    "with Flow(\"FlowOne\") as flow:\n",
    "    say_hello()\n",
    "\n",
    "\n",
    "flow.run()"
   ]
  },
  {
   "cell_type": "code",
   "execution_count": 4,
   "metadata": {},
   "outputs": [
    {
     "name": "stderr",
     "output_type": "stream",
     "text": [
      "[2019-06-28 18:40:42,796] INFO - prefect.FlowRunner | Beginning Flow run for 'simple-map'\n",
      "[2019-06-28 18:40:42,800] INFO - prefect.FlowRunner | Starting flow run.\n",
      "[2019-06-28 18:40:42,816] INFO - prefect.TaskRunner | Task 'create_list': Starting task run...\n",
      "[2019-06-28 18:40:42,820] INFO - prefect.TaskRunner | Task 'create_list': finished task run for task with final state: 'Success'\n",
      "[2019-06-28 18:40:42,824] INFO - prefect.TaskRunner | Task 'add_one': Starting task run...\n",
      "[2019-06-28 18:40:42,828] INFO - prefect.TaskRunner | Task 'add_one[1]': Starting task run...\n",
      "[2019-06-28 18:40:42,836] INFO - prefect.TaskRunner | Task 'add_one[1]': finished task run for task with final state: 'Success'\n",
      "[2019-06-28 18:40:42,836] INFO - prefect.TaskRunner | Task 'add_one[2]': Starting task run...\n",
      "[2019-06-28 18:40:42,844] INFO - prefect.TaskRunner | Task 'add_one[2]': finished task run for task with final state: 'Success'\n",
      "[2019-06-28 18:40:42,848] INFO - prefect.TaskRunner | Task 'add_one[0]': Starting task run...\n",
      "[2019-06-28 18:40:42,852] INFO - prefect.TaskRunner | Task 'add_one[0]': finished task run for task with final state: 'Success'\n",
      "[2019-06-28 18:40:42,856] INFO - prefect.TaskRunner | Task 'add_one[3]': Starting task run...\n",
      "[2019-06-28 18:40:42,860] INFO - prefect.TaskRunner | Task 'add_one[3]': finished task run for task with final state: 'Success'\n",
      "[2019-06-28 18:40:42,864] INFO - prefect.TaskRunner | Task 'add_one': finished task run for task with final state: 'Mapped'\n",
      "[2019-06-28 18:40:42,868] INFO - prefect.TaskRunner | Task 'add_one': Starting task run...\n",
      "[2019-06-28 18:40:42,876] INFO - prefect.TaskRunner | Task 'add_one[1]': Starting task run...\n",
      "[2019-06-28 18:40:42,880] INFO - prefect.TaskRunner | Task 'add_one[1]': finished task run for task with final state: 'Success'\n",
      "[2019-06-28 18:40:42,884] INFO - prefect.TaskRunner | Task 'add_one[3]': Starting task run...\n",
      "[2019-06-28 18:40:42,888] INFO - prefect.TaskRunner | Task 'add_one[3]': finished task run for task with final state: 'Success'\n",
      "[2019-06-28 18:40:42,888] INFO - prefect.TaskRunner | Task 'add_one[2]': Starting task run...\n",
      "[2019-06-28 18:40:42,892] INFO - prefect.TaskRunner | Task 'add_one[2]': finished task run for task with final state: 'Success'\n",
      "[2019-06-28 18:40:42,896] INFO - prefect.TaskRunner | Task 'add_one[0]': Starting task run...\n",
      "[2019-06-28 18:40:42,900] INFO - prefect.TaskRunner | Task 'add_one[0]': finished task run for task with final state: 'Success'\n",
      "[2019-06-28 18:40:42,900] INFO - prefect.TaskRunner | Task 'add_one': finished task run for task with final state: 'Mapped'\n",
      "[2019-06-28 18:40:42,904] INFO - prefect.TaskRunner | Task 'get_sum': Starting task run...\n",
      "[2019-06-28 18:40:42,908] INFO - prefect.TaskRunner | Task 'get_sum': finished task run for task with final state: 'Success'\n",
      "[2019-06-28 18:40:42,908] INFO - prefect.FlowRunner | Flow run SUCCESS: all reference tasks succeeded\n"
     ]
    },
    {
     "data": {
      "text/plain": [
       "<Success: \"All reference tasks succeeded.\">"
      ]
     },
     "execution_count": 4,
     "metadata": {},
     "output_type": "execute_result"
    }
   ],
   "source": [
    "@task\n",
    "def create_list():    \n",
    "    return [1, 1, 2, 3]    \n",
    "                    \n",
    "@task                \n",
    "def add_one(x):     \n",
    "    return x + 1    \n",
    "\n",
    "@task\n",
    "def get_sum(x):\n",
    "    return sum(x)\n",
    "                    \n",
    "with Flow(\"simple-map\") as f:    \n",
    "    plus_one = add_one.map(create_list)\n",
    "    plus_two = add_one.map(plus_one)\n",
    "    result = get_sum(plus_two)\n",
    "                    \n",
    "f.run() "
   ]
  },
  {
   "cell_type": "code",
   "execution_count": 5,
   "metadata": {},
   "outputs": [],
   "source": [
    "import random\n",
    "\n",
    "@task\n",
    "def say_hello_to(name):\n",
    "    print(f\"Hello, {name}!\")\n",
    "\n",
    "@task\n",
    "def random_name():\n",
    "    return random.choice([\"Ford\", \"Arthur\"])"
   ]
  },
  {
   "cell_type": "code",
   "execution_count": 6,
   "metadata": {},
   "outputs": [],
   "source": [
    "with Flow(\"Dataflow\") as flow:\n",
    "    name = random_name()\n",
    "    say_hello_to(name=name)"
   ]
  },
  {
   "cell_type": "code",
   "execution_count": 10,
   "metadata": {},
   "outputs": [
    {
     "name": "stderr",
     "output_type": "stream",
     "text": [
      "[2019-06-28 21:05:31,722] INFO - prefect.FlowRunner | Beginning Flow run for 'Dataflow'\n",
      "[2019-06-28 21:05:31,726] INFO - prefect.FlowRunner | Starting flow run.\n",
      "[2019-06-28 21:05:31,730] INFO - prefect.TaskRunner | Task 'random_name': Starting task run...\n",
      "[2019-06-28 21:05:31,738] INFO - prefect.TaskRunner | Task 'random_name': finished task run for task with final state: 'Success'\n",
      "[2019-06-28 21:05:31,738] INFO - prefect.TaskRunner | Task 'say_hello_to': Starting task run...\n",
      "[2019-06-28 21:05:31,742] INFO - prefect.TaskRunner | Task 'say_hello_to': finished task run for task with final state: 'Success'\n",
      "[2019-06-28 21:05:31,746] INFO - prefect.FlowRunner | Flow run SUCCESS: all reference tasks succeeded\n",
      "[2019-06-28 21:05:31,750] INFO - prefect.FlowRunner | Beginning Flow run for 'Dataflow'\n",
      "[2019-06-28 21:05:31,754] INFO - prefect.FlowRunner | Starting flow run.\n",
      "[2019-06-28 21:05:31,766] INFO - prefect.TaskRunner | Task 'random_name': Starting task run...\n",
      "[2019-06-28 21:05:31,770] INFO - prefect.TaskRunner | Task 'random_name': finished task run for task with final state: 'Success'\n",
      "[2019-06-28 21:05:31,774] INFO - prefect.TaskRunner | Task 'say_hello_to': Starting task run...\n",
      "[2019-06-28 21:05:31,778] INFO - prefect.TaskRunner | Task 'say_hello_to': finished task run for task with final state: 'Success'\n",
      "[2019-06-28 21:05:31,778] INFO - prefect.FlowRunner | Flow run SUCCESS: all reference tasks succeeded\n",
      "[2019-06-28 21:05:31,782] INFO - prefect.FlowRunner | Beginning Flow run for 'Dataflow'\n",
      "[2019-06-28 21:05:31,786] INFO - prefect.FlowRunner | Starting flow run.\n",
      "[2019-06-28 21:05:31,790] INFO - prefect.TaskRunner | Task 'random_name': Starting task run...\n",
      "[2019-06-28 21:05:31,794] INFO - prefect.TaskRunner | Task 'random_name': finished task run for task with final state: 'Success'\n",
      "[2019-06-28 21:05:31,798] INFO - prefect.TaskRunner | Task 'say_hello_to': Starting task run...\n",
      "[2019-06-28 21:05:31,802] INFO - prefect.TaskRunner | Task 'say_hello_to': finished task run for task with final state: 'Success'\n",
      "[2019-06-28 21:05:31,806] INFO - prefect.FlowRunner | Flow run SUCCESS: all reference tasks succeeded\n"
     ]
    },
    {
     "name": "stdout",
     "output_type": "stream",
     "text": [
      "Hello, Ford!\n",
      "Hello, Arthur!\n",
      "Hello, Arthur!\n"
     ]
    }
   ],
   "source": [
    "for i in range(3):\n",
    "    flow.run()"
   ]
  },
  {
   "cell_type": "code",
   "execution_count": 11,
   "metadata": {},
   "outputs": [],
   "source": [
    "from prefect import Parameter\n",
    "\n",
    "with Flow(\"Parameters\") as flow:\n",
    "    name = Parameter(\"name\")\n",
    "    say_hello_to(name=name)"
   ]
  },
  {
   "cell_type": "code",
   "execution_count": 12,
   "metadata": {},
   "outputs": [
    {
     "name": "stderr",
     "output_type": "stream",
     "text": [
      "[2019-06-28 21:08:25,661] INFO - prefect.FlowRunner | Beginning Flow run for 'Parameters'\n",
      "[2019-06-28 21:08:25,665] INFO - prefect.FlowRunner | Starting flow run.\n",
      "[2019-06-28 21:08:25,673] INFO - prefect.TaskRunner | Task 'name': Starting task run...\n",
      "[2019-06-28 21:08:25,677] INFO - prefect.TaskRunner | Task 'name': finished task run for task with final state: 'Success'\n",
      "[2019-06-28 21:08:25,677] INFO - prefect.TaskRunner | Task 'say_hello_to': Starting task run...\n",
      "[2019-06-28 21:08:25,685] INFO - prefect.TaskRunner | Task 'say_hello_to': finished task run for task with final state: 'Success'\n",
      "[2019-06-28 21:08:25,685] INFO - prefect.FlowRunner | Flow run SUCCESS: all reference tasks succeeded\n",
      "[2019-06-28 21:08:25,689] INFO - prefect.FlowRunner | Beginning Flow run for 'Parameters'\n",
      "[2019-06-28 21:08:25,693] INFO - prefect.FlowRunner | Starting flow run.\n",
      "[2019-06-28 21:08:25,697] INFO - prefect.TaskRunner | Task 'name': Starting task run...\n",
      "[2019-06-28 21:08:25,701] INFO - prefect.TaskRunner | Task 'name': finished task run for task with final state: 'Success'\n",
      "[2019-06-28 21:08:25,705] INFO - prefect.TaskRunner | Task 'say_hello_to': Starting task run...\n",
      "[2019-06-28 21:08:25,709] INFO - prefect.TaskRunner | Task 'say_hello_to': finished task run for task with final state: 'Success'\n",
      "[2019-06-28 21:08:25,709] INFO - prefect.FlowRunner | Flow run SUCCESS: all reference tasks succeeded\n",
      "[2019-06-28 21:08:25,713] INFO - prefect.FlowRunner | Beginning Flow run for 'Parameters'\n",
      "[2019-06-28 21:08:25,713] INFO - prefect.FlowRunner | Starting flow run.\n",
      "[2019-06-28 21:08:25,721] INFO - prefect.TaskRunner | Task 'name': Starting task run...\n",
      "[2019-06-28 21:08:25,725] INFO - prefect.TaskRunner | Task 'name': finished task run for task with final state: 'Success'\n",
      "[2019-06-28 21:08:25,725] INFO - prefect.TaskRunner | Task 'say_hello_to': Starting task run...\n",
      "[2019-06-28 21:08:25,733] INFO - prefect.TaskRunner | Task 'say_hello_to': finished task run for task with final state: 'Success'\n",
      "[2019-06-28 21:08:25,737] INFO - prefect.FlowRunner | Flow run SUCCESS: all reference tasks succeeded\n",
      "[2019-06-28 21:08:25,737] INFO - prefect.FlowRunner | Beginning Flow run for 'Parameters'\n",
      "[2019-06-28 21:08:25,741] INFO - prefect.FlowRunner | Starting flow run.\n",
      "[2019-06-28 21:08:25,749] INFO - prefect.TaskRunner | Task 'name': Starting task run...\n",
      "[2019-06-28 21:08:25,757] INFO - prefect.TaskRunner | Task 'name': finished task run for task with final state: 'Success'\n",
      "[2019-06-28 21:08:25,761] INFO - prefect.TaskRunner | Task 'say_hello_to': Starting task run...\n",
      "[2019-06-28 21:08:25,765] INFO - prefect.TaskRunner | Task 'say_hello_to': finished task run for task with final state: 'Success'\n",
      "[2019-06-28 21:08:25,765] INFO - prefect.FlowRunner | Flow run SUCCESS: all reference tasks succeeded\n",
      "[2019-06-28 21:08:25,769] INFO - prefect.FlowRunner | Beginning Flow run for 'Parameters'\n",
      "[2019-06-28 21:08:25,773] INFO - prefect.FlowRunner | Starting flow run.\n",
      "[2019-06-28 21:08:25,777] INFO - prefect.TaskRunner | Task 'name': Starting task run...\n",
      "[2019-06-28 21:08:25,781] INFO - prefect.TaskRunner | Task 'name': finished task run for task with final state: 'Success'\n",
      "[2019-06-28 21:08:25,785] INFO - prefect.TaskRunner | Task 'say_hello_to': Starting task run...\n",
      "[2019-06-28 21:08:25,789] INFO - prefect.TaskRunner | Task 'say_hello_to': finished task run for task with final state: 'Success'\n",
      "[2019-06-28 21:08:25,789] INFO - prefect.FlowRunner | Flow run SUCCESS: all reference tasks succeeded\n"
     ]
    },
    {
     "name": "stdout",
     "output_type": "stream",
     "text": [
      "Hello, Ford-00000!\n",
      "Hello, Ford-00001!\n",
      "Hello, Ford-00002!\n",
      "Hello, Ford-00003!\n",
      "Hello, Ford-00004!\n"
     ]
    }
   ],
   "source": [
    "for i in range(5):\n",
    "    sName='Ford-%05d' % i\n",
    "    flow.run(name=sName)"
   ]
  },
  {
   "cell_type": "code",
   "execution_count": 13,
   "metadata": {},
   "outputs": [],
   "source": [
    "with Flow(\"Mapping\") as flow:\n",
    "    say_hello_to.map(name=Parameter(\"names\"))"
   ]
  },
  {
   "cell_type": "code",
   "execution_count": 15,
   "metadata": {},
   "outputs": [
    {
     "name": "stderr",
     "output_type": "stream",
     "text": [
      "[2019-06-28 21:10:07,901] INFO - prefect.FlowRunner | Beginning Flow run for 'Mapping'\n",
      "[2019-06-28 21:10:07,901] INFO - prefect.FlowRunner | Starting flow run.\n",
      "[2019-06-28 21:10:07,909] INFO - prefect.TaskRunner | Task 'names': Starting task run...\n",
      "[2019-06-28 21:10:07,913] INFO - prefect.TaskRunner | Task 'names': finished task run for task with final state: 'Success'\n",
      "[2019-06-28 21:10:07,917] INFO - prefect.TaskRunner | Task 'say_hello_to': Starting task run...\n",
      "[2019-06-28 21:10:07,921] INFO - prefect.TaskRunner | Task 'say_hello_to[1]': Starting task run...\n",
      "[2019-06-28 21:10:07,925] INFO - prefect.TaskRunner | Task 'say_hello_to[1]': finished task run for task with final state: 'Success'\n",
      "[2019-06-28 21:10:07,925] INFO - prefect.TaskRunner | Task 'say_hello_to[4]': Starting task run...\n",
      "[2019-06-28 21:10:07,929] INFO - prefect.TaskRunner | Task 'say_hello_to[4]': finished task run for task with final state: 'Success'\n",
      "[2019-06-28 21:10:07,929] INFO - prefect.TaskRunner | Task 'say_hello_to[0]': Starting task run...\n",
      "[2019-06-28 21:10:07,933] INFO - prefect.TaskRunner | Task 'say_hello_to[0]': finished task run for task with final state: 'Success'\n",
      "[2019-06-28 21:10:07,937] INFO - prefect.TaskRunner | Task 'say_hello_to[2]': Starting task run...\n",
      "[2019-06-28 21:10:07,941] INFO - prefect.TaskRunner | Task 'say_hello_to[2]': finished task run for task with final state: 'Success'\n",
      "[2019-06-28 21:10:07,945] INFO - prefect.TaskRunner | Task 'say_hello_to[3]': Starting task run...\n",
      "[2019-06-28 21:10:07,949] INFO - prefect.TaskRunner | Task 'say_hello_to[3]': finished task run for task with final state: 'Success'\n",
      "[2019-06-28 21:10:07,953] INFO - prefect.TaskRunner | Task 'say_hello_to': finished task run for task with final state: 'Mapped'\n",
      "[2019-06-28 21:10:07,953] INFO - prefect.FlowRunner | Flow run SUCCESS: all reference tasks succeeded\n"
     ]
    },
    {
     "name": "stdout",
     "output_type": "stream",
     "text": [
      "Hello, Ford!\n",
      "Hello, Tom!\n",
      "Hello, Marvin!\n",
      "Hello, Arthur!\n",
      "Hello, Bob!\n"
     ]
    },
    {
     "data": {
      "text/plain": [
       "<Success: \"All reference tasks succeeded.\">"
      ]
     },
     "execution_count": 15,
     "metadata": {},
     "output_type": "execute_result"
    }
   ],
   "source": [
    "flow.run(names=['Marvin', 'Ford', 'Arthur','Bob','Tom'])"
   ]
  },
  {
   "cell_type": "code",
   "execution_count": 21,
   "metadata": {},
   "outputs": [
    {
     "name": "stderr",
     "output_type": "stream",
     "text": [
      "[2019-06-28 21:15:35,011] INFO - prefect.FlowRunner | Beginning Flow run for 'ETL'\n",
      "[2019-06-28 21:15:35,019] INFO - prefect.FlowRunner | Starting flow run.\n",
      "[2019-06-28 21:15:35,027] INFO - prefect.TaskRunner | Task 'extract': Starting task run...\n",
      "[2019-06-28 21:15:35,031] INFO - prefect.TaskRunner | Task 'extract': finished task run for task with final state: 'Success'\n",
      "[2019-06-28 21:15:35,035] INFO - prefect.TaskRunner | Task 'transform': Starting task run...\n",
      "[2019-06-28 21:15:35,043] INFO - prefect.TaskRunner | Task 'transform[5]': Starting task run...\n",
      "[2019-06-28 21:15:35,047] INFO - prefect.TaskRunner | Task 'transform[5]': finished task run for task with final state: 'Success'\n",
      "[2019-06-28 21:15:35,047] INFO - prefect.TaskRunner | Task 'transform[11]': Starting task run...\n",
      "[2019-06-28 21:15:35,051] INFO - prefect.TaskRunner | Task 'transform[11]': finished task run for task with final state: 'Success'\n",
      "[2019-06-28 21:15:35,055] INFO - prefect.TaskRunner | Task 'transform[15]': Starting task run...\n",
      "[2019-06-28 21:15:35,059] INFO - prefect.TaskRunner | Task 'transform[15]': finished task run for task with final state: 'Success'\n",
      "[2019-06-28 21:15:35,059] INFO - prefect.TaskRunner | Task 'transform[17]': Starting task run...\n",
      "[2019-06-28 21:15:35,067] INFO - prefect.TaskRunner | Task 'transform[17]': finished task run for task with final state: 'Success'\n",
      "[2019-06-28 21:15:35,071] INFO - prefect.TaskRunner | Task 'transform[2]': Starting task run...\n",
      "[2019-06-28 21:15:35,075] INFO - prefect.TaskRunner | Task 'transform[2]': finished task run for task with final state: 'Success'\n",
      "[2019-06-28 21:15:35,075] INFO - prefect.TaskRunner | Task 'transform[14]': Starting task run...\n",
      "[2019-06-28 21:15:35,083] INFO - prefect.TaskRunner | Task 'transform[14]': finished task run for task with final state: 'Success'\n",
      "[2019-06-28 21:15:35,087] INFO - prefect.TaskRunner | Task 'transform[8]': Starting task run...\n",
      "[2019-06-28 21:15:35,091] INFO - prefect.TaskRunner | Task 'transform[8]': finished task run for task with final state: 'Success'\n",
      "[2019-06-28 21:15:35,095] INFO - prefect.TaskRunner | Task 'transform[6]': Starting task run...\n",
      "[2019-06-28 21:15:35,163] INFO - prefect.TaskRunner | Task 'transform[6]': finished task run for task with final state: 'Success'\n",
      "[2019-06-28 21:15:35,167] INFO - prefect.TaskRunner | Task 'transform[13]': Starting task run...\n",
      "[2019-06-28 21:15:35,171] INFO - prefect.TaskRunner | Task 'transform[13]': finished task run for task with final state: 'Success'\n",
      "[2019-06-28 21:15:35,171] INFO - prefect.TaskRunner | Task 'transform[7]': Starting task run...\n",
      "[2019-06-28 21:15:35,175] INFO - prefect.TaskRunner | Task 'transform[7]': finished task run for task with final state: 'Success'\n",
      "[2019-06-28 21:15:35,179] INFO - prefect.TaskRunner | Task 'transform[9]': Starting task run...\n",
      "[2019-06-28 21:15:35,179] INFO - prefect.TaskRunner | Task 'transform[9]': finished task run for task with final state: 'Success'\n",
      "[2019-06-28 21:15:35,183] INFO - prefect.TaskRunner | Task 'transform[0]': Starting task run...\n",
      "[2019-06-28 21:15:35,187] INFO - prefect.TaskRunner | Task 'transform[0]': finished task run for task with final state: 'Success'\n",
      "[2019-06-28 21:15:35,187] INFO - prefect.TaskRunner | Task 'transform[16]': Starting task run...\n",
      "[2019-06-28 21:15:35,195] INFO - prefect.TaskRunner | Task 'transform[16]': finished task run for task with final state: 'Success'\n",
      "[2019-06-28 21:15:35,195] INFO - prefect.TaskRunner | Task 'transform[4]': Starting task run...\n",
      "[2019-06-28 21:15:35,199] INFO - prefect.TaskRunner | Task 'transform[4]': finished task run for task with final state: 'Success'\n",
      "[2019-06-28 21:15:35,203] INFO - prefect.TaskRunner | Task 'transform[1]': Starting task run...\n",
      "[2019-06-28 21:15:35,207] INFO - prefect.TaskRunner | Task 'transform[1]': finished task run for task with final state: 'Success'\n",
      "[2019-06-28 21:15:35,211] INFO - prefect.TaskRunner | Task 'transform[12]': Starting task run...\n",
      "[2019-06-28 21:15:35,215] INFO - prefect.TaskRunner | Task 'transform[12]': finished task run for task with final state: 'Success'\n",
      "[2019-06-28 21:15:35,219] INFO - prefect.TaskRunner | Task 'transform[3]': Starting task run...\n",
      "[2019-06-28 21:15:35,219] INFO - prefect.TaskRunner | Task 'transform[3]': finished task run for task with final state: 'Success'\n",
      "[2019-06-28 21:15:35,223] INFO - prefect.TaskRunner | Task 'transform[18]': Starting task run...\n",
      "[2019-06-28 21:15:35,227] INFO - prefect.TaskRunner | Task 'transform[18]': finished task run for task with final state: 'Success'\n",
      "[2019-06-28 21:15:35,231] INFO - prefect.TaskRunner | Task 'transform[10]': Starting task run...\n",
      "[2019-06-28 21:15:35,235] INFO - prefect.TaskRunner | Task 'transform[10]': finished task run for task with final state: 'Success'\n",
      "[2019-06-28 21:15:35,239] INFO - prefect.TaskRunner | Task 'transform': finished task run for task with final state: 'Mapped'\n",
      "[2019-06-28 21:15:35,243] INFO - prefect.TaskRunner | Task 'load': Starting task run...\n",
      "[2019-06-28 21:15:35,247] INFO - prefect.TaskRunner | Task 'load': finished task run for task with final state: 'Success'\n",
      "[2019-06-28 21:15:35,247] INFO - prefect.FlowRunner | Flow run SUCCESS: all reference tasks succeeded\n"
     ]
    },
    {
     "name": "stdout",
     "output_type": "stream",
     "text": [
      "Received y: [10, 20, 30, 40, 50, 60, 70, 80, 90, 100, 110, 120, 130, 140, 150, 160, 170, 180, 190]\n"
     ]
    },
    {
     "data": {
      "text/plain": [
       "<Success: \"All reference tasks succeeded.\">"
      ]
     },
     "execution_count": 21,
     "metadata": {},
     "output_type": "execute_result"
    }
   ],
   "source": [
    "@task\n",
    "def extract():\n",
    "    '''Return a list of data'''\n",
    "    return range(1, 20, 1)\n",
    "\n",
    "\n",
    "@task\n",
    "def transform(x):\n",
    "    '''Multiply each item by 10'''\n",
    "    return x * 10\n",
    "\n",
    "\n",
    "@task\n",
    "def load(y):\n",
    "    '''Print the result'''\n",
    "    print(\"Received y: {}\".format(y))\n",
    "\n",
    "\n",
    "with Flow(\"ETL\") as flow:\n",
    "    e = extract()\n",
    "    t = transform.map(e)\n",
    "    l = load(t)\n",
    "\n",
    "\n",
    "flow.run()"
   ]
  },
  {
   "cell_type": "code",
   "execution_count": null,
   "metadata": {},
   "outputs": [],
   "source": []
  }
 ],
 "metadata": {
  "kernelspec": {
   "display_name": "Python 3",
   "language": "python",
   "name": "python3"
  },
  "language_info": {
   "codemirror_mode": {
    "name": "ipython",
    "version": 3
   },
   "file_extension": ".py",
   "mimetype": "text/x-python",
   "name": "python",
   "nbconvert_exporter": "python",
   "pygments_lexer": "ipython3",
   "version": "3.7.3"
  }
 },
 "nbformat": 4,
 "nbformat_minor": 2
}
