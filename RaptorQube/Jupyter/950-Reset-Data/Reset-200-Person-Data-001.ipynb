{
 "cells": [
  {
   "cell_type": "markdown",
   "metadata": {},
   "source": [
    "![raptorQube](../images/raptorqube.jpg)"
   ]
  },
  {
   "cell_type": "markdown",
   "metadata": {},
   "source": [
    "## Rapid Information Factory with Industrialized Machine Learning Examples\n",
    "\n",
    "Andreas Francois Vermeulen\n",
    "2019\n",
    "\n",
    "### This is an example add-on to a set of research books and needs to be accepted as part of that copyright."
   ]
  },
  {
   "cell_type": "markdown",
   "metadata": {},
   "source": [
    "![Person](../images/DV-Person.jpg)"
   ]
  },
  {
   "cell_type": "markdown",
   "metadata": {},
   "source": [
    "# Reset Person"
   ]
  },
  {
   "cell_type": "code",
   "execution_count": 1,
   "metadata": {},
   "outputs": [],
   "source": [
    "import datetime\n",
    "nowStart = datetime.datetime.now()"
   ]
  },
  {
   "cell_type": "code",
   "execution_count": 2,
   "metadata": {},
   "outputs": [],
   "source": [
    "import os\n",
    "import pandas as pd\n",
    "import datetime\n",
    "import sqlite3 as sq"
   ]
  },
  {
   "cell_type": "code",
   "execution_count": 3,
   "metadata": {},
   "outputs": [
    {
     "name": "stdout",
     "output_type": "stream",
     "text": [
      "C:\\Users\\sirve\\Documents\\GitRaptorQube\\RIF\\RaptorQube\\Jupyter\\800-Test-Data\\100-CSV\\200-Person\n"
     ]
    }
   ],
   "source": [
    "dataDir=os.path.abspath('../800-Test-Data/100-CSV/200-Person/')\n",
    "print(dataDir)"
   ]
  },
  {
   "cell_type": "code",
   "execution_count": 4,
   "metadata": {},
   "outputs": [],
   "source": [
    "if not os.path.exists(dataDir):\n",
    "    print('Creating new raptorQube 200-Person')\n",
    "    print(dataDir)\n",
    "    os.makedirs(dataDir)"
   ]
  },
  {
   "cell_type": "markdown",
   "metadata": {},
   "source": [
    "## First Name"
   ]
  },
  {
   "cell_type": "code",
   "execution_count": 5,
   "metadata": {},
   "outputs": [
    {
     "name": "stdout",
     "output_type": "stream",
     "text": [
      "C:\\Users\\sirve\\Documents\\GitRaptorQube\\RIF\\RaptorQube\\Jupyter\\800-Test-Data\\100-CSV\\200-Person\\Firstname_2011.csv\n",
      "C:\\Users\\sirve\\Documents\\GitRaptorQube\\RIF\\RaptorQube\\Jupyter\\800-Test-Data\\100-CSV\\200-Person\\Firstname_2012.csv\n",
      "C:\\Users\\sirve\\Documents\\GitRaptorQube\\RIF\\RaptorQube\\Jupyter\\800-Test-Data\\100-CSV\\200-Person\\Firstname_2013.csv\n",
      "C:\\Users\\sirve\\Documents\\GitRaptorQube\\RIF\\RaptorQube\\Jupyter\\800-Test-Data\\100-CSV\\200-Person\\Firstname_2014.csv\n",
      "C:\\Users\\sirve\\Documents\\GitRaptorQube\\RIF\\RaptorQube\\Jupyter\\800-Test-Data\\100-CSV\\200-Person\\Firstname_2015.csv\n",
      "C:\\Users\\sirve\\Documents\\GitRaptorQube\\RIF\\RaptorQube\\Jupyter\\800-Test-Data\\100-CSV\\200-Person\\Firstname_2016.csv\n",
      "C:\\Users\\sirve\\Documents\\GitRaptorQube\\RIF\\RaptorQube\\Jupyter\\800-Test-Data\\100-CSV\\200-Person\\Firstname_2017.csv\n",
      "(14834, 3)\n"
     ]
    }
   ],
   "source": [
    "t=0\n",
    "for root, dirs, files in os.walk(dataDir, topdown=True):\n",
    "    for name in files:\n",
    "        if name[:10] == 'Firstname_':\n",
    "            InFileName= os.path.join(root, name)\n",
    "            print(InFileName)\n",
    "\n",
    "            data1RawDF=pd.read_csv(InFileName,header=0, usecols=['ID1', 'Name1', 'Cnt1'])\n",
    "            data1RawDF.columns = ['ID', 'FirstName', 'Cnt']\n",
    "            data1RawDF['Sex'] = 'Male'\n",
    "\n",
    "            t+=1\n",
    "            if t == 1:\n",
    "                data1DF = data1RawDF\n",
    "            else:\n",
    "                data1DF = data1DF.append(data1RawDF)\n",
    "                \n",
    "data1DF.drop(['ID'], axis=1,inplace=True)\n",
    "print(data1DF.shape)"
   ]
  },
  {
   "cell_type": "code",
   "execution_count": 6,
   "metadata": {},
   "outputs": [
    {
     "name": "stdout",
     "output_type": "stream",
     "text": [
      "C:\\Users\\sirve\\Documents\\GitRaptorQube\\RIF\\RaptorQube\\Jupyter\\800-Test-Data\\100-CSV\\200-Person\\Firstname_2011.csv\n",
      "C:\\Users\\sirve\\Documents\\GitRaptorQube\\RIF\\RaptorQube\\Jupyter\\800-Test-Data\\100-CSV\\200-Person\\Firstname_2012.csv\n",
      "C:\\Users\\sirve\\Documents\\GitRaptorQube\\RIF\\RaptorQube\\Jupyter\\800-Test-Data\\100-CSV\\200-Person\\Firstname_2013.csv\n",
      "C:\\Users\\sirve\\Documents\\GitRaptorQube\\RIF\\RaptorQube\\Jupyter\\800-Test-Data\\100-CSV\\200-Person\\Firstname_2014.csv\n",
      "C:\\Users\\sirve\\Documents\\GitRaptorQube\\RIF\\RaptorQube\\Jupyter\\800-Test-Data\\100-CSV\\200-Person\\Firstname_2015.csv\n",
      "C:\\Users\\sirve\\Documents\\GitRaptorQube\\RIF\\RaptorQube\\Jupyter\\800-Test-Data\\100-CSV\\200-Person\\Firstname_2016.csv\n",
      "C:\\Users\\sirve\\Documents\\GitRaptorQube\\RIF\\RaptorQube\\Jupyter\\800-Test-Data\\100-CSV\\200-Person\\Firstname_2017.csv\n",
      "(14834, 3)\n"
     ]
    }
   ],
   "source": [
    "t=0\n",
    "for root, dirs, files in os.walk(dataDir, topdown=True):\n",
    "    for name in files:\n",
    "        if name[:10] == 'Firstname_':\n",
    "            InFileName= os.path.join(root, name)\n",
    "            print(InFileName)\n",
    "\n",
    "            data2RawDF=pd.read_csv(InFileName,header=0, usecols=['ID2', 'Name2', 'Cnt2'])\n",
    "            data2RawDF.columns = ['ID', 'FirstName', 'Cnt']\n",
    "            data2RawDF['Sex'] = 'Female'\n",
    "\n",
    "            t+=1\n",
    "            if t == 1:\n",
    "                data2DF = data2RawDF\n",
    "            else:\n",
    "                data2DF = data2DF.append(data2RawDF)\n",
    "                \n",
    "data2DF.drop(['ID'], axis=1,inplace=True)\n",
    "print(data2DF.shape)"
   ]
  },
  {
   "cell_type": "code",
   "execution_count": 7,
   "metadata": {},
   "outputs": [
    {
     "name": "stdout",
     "output_type": "stream",
     "text": [
      "(29668, 4)\n",
      "   index FirstName    Cnt   Sex\n",
      "0      0    HARRY   7,523  Male\n",
      "1      1   OLIVER   7,007  Male\n",
      "2      2     JACK   6,844  Male\n",
      "3      3    ALFIE   5,524  Male\n",
      "4      4  CHARLIE   5,516  Male\n"
     ]
    }
   ],
   "source": [
    "dataDF = data1DF.append(data2DF)\n",
    "dataDF.reset_index(inplace=True)\n",
    "print(dataDF.shape)\n",
    "print(dataDF.head())"
   ]
  },
  {
   "cell_type": "code",
   "execution_count": 8,
   "metadata": {},
   "outputs": [
    {
     "name": "stdout",
     "output_type": "stream",
     "text": [
      "C:\\Users\\sirve\\Documents\\GitRaptorQube\\RIF\\RaptorQube\\Jupyter\\800-Test-Data\\100-CSV\\200-Person\\Firstname-Data.csv\n"
     ]
    }
   ],
   "source": [
    "OutFile='Firstname-Data.csv'\n",
    "OutFileName= os.path.join(dataDir, OutFile)\n",
    "print(OutFileName)"
   ]
  },
  {
   "cell_type": "code",
   "execution_count": 9,
   "metadata": {},
   "outputs": [],
   "source": [
    "\n",
    "\n",
    "firstnameDF = dataDF.copy(deep=True)"
   ]
  },
  {
   "cell_type": "markdown",
   "metadata": {},
   "source": [
    "# Last Name"
   ]
  },
  {
   "cell_type": "code",
   "execution_count": 10,
   "metadata": {},
   "outputs": [
    {
     "name": "stdout",
     "output_type": "stream",
     "text": [
      "C:\\Users\\sirve\\Documents\\GitRaptorQube\\RIF\\RaptorQube\\Jupyter\\800-Test-Data\\100-CSV\\200-Person\\Lastname_A.csv\n",
      "C:\\Users\\sirve\\Documents\\GitRaptorQube\\RIF\\RaptorQube\\Jupyter\\800-Test-Data\\100-CSV\\200-Person\\Lastname_B.csv\n",
      "C:\\Users\\sirve\\Documents\\GitRaptorQube\\RIF\\RaptorQube\\Jupyter\\800-Test-Data\\100-CSV\\200-Person\\Lastname_C.csv\n",
      "C:\\Users\\sirve\\Documents\\GitRaptorQube\\RIF\\RaptorQube\\Jupyter\\800-Test-Data\\100-CSV\\200-Person\\Lastname_D.csv\n",
      "C:\\Users\\sirve\\Documents\\GitRaptorQube\\RIF\\RaptorQube\\Jupyter\\800-Test-Data\\100-CSV\\200-Person\\Lastname_E.csv\n",
      "C:\\Users\\sirve\\Documents\\GitRaptorQube\\RIF\\RaptorQube\\Jupyter\\800-Test-Data\\100-CSV\\200-Person\\Lastname_F.csv\n",
      "C:\\Users\\sirve\\Documents\\GitRaptorQube\\RIF\\RaptorQube\\Jupyter\\800-Test-Data\\100-CSV\\200-Person\\Lastname_G.csv\n",
      "C:\\Users\\sirve\\Documents\\GitRaptorQube\\RIF\\RaptorQube\\Jupyter\\800-Test-Data\\100-CSV\\200-Person\\Lastname_H.csv\n",
      "C:\\Users\\sirve\\Documents\\GitRaptorQube\\RIF\\RaptorQube\\Jupyter\\800-Test-Data\\100-CSV\\200-Person\\Lastname_I.csv\n",
      "C:\\Users\\sirve\\Documents\\GitRaptorQube\\RIF\\RaptorQube\\Jupyter\\800-Test-Data\\100-CSV\\200-Person\\Lastname_J.csv\n",
      "C:\\Users\\sirve\\Documents\\GitRaptorQube\\RIF\\RaptorQube\\Jupyter\\800-Test-Data\\100-CSV\\200-Person\\Lastname_K.csv\n",
      "C:\\Users\\sirve\\Documents\\GitRaptorQube\\RIF\\RaptorQube\\Jupyter\\800-Test-Data\\100-CSV\\200-Person\\Lastname_L.csv\n",
      "C:\\Users\\sirve\\Documents\\GitRaptorQube\\RIF\\RaptorQube\\Jupyter\\800-Test-Data\\100-CSV\\200-Person\\Lastname_M.csv\n",
      "C:\\Users\\sirve\\Documents\\GitRaptorQube\\RIF\\RaptorQube\\Jupyter\\800-Test-Data\\100-CSV\\200-Person\\Lastname_N.csv\n",
      "C:\\Users\\sirve\\Documents\\GitRaptorQube\\RIF\\RaptorQube\\Jupyter\\800-Test-Data\\100-CSV\\200-Person\\Lastname_O.csv\n",
      "C:\\Users\\sirve\\Documents\\GitRaptorQube\\RIF\\RaptorQube\\Jupyter\\800-Test-Data\\100-CSV\\200-Person\\Lastname_P.csv\n",
      "C:\\Users\\sirve\\Documents\\GitRaptorQube\\RIF\\RaptorQube\\Jupyter\\800-Test-Data\\100-CSV\\200-Person\\Lastname_Q.csv\n",
      "C:\\Users\\sirve\\Documents\\GitRaptorQube\\RIF\\RaptorQube\\Jupyter\\800-Test-Data\\100-CSV\\200-Person\\Lastname_R.csv\n",
      "C:\\Users\\sirve\\Documents\\GitRaptorQube\\RIF\\RaptorQube\\Jupyter\\800-Test-Data\\100-CSV\\200-Person\\Lastname_S.csv\n",
      "C:\\Users\\sirve\\Documents\\GitRaptorQube\\RIF\\RaptorQube\\Jupyter\\800-Test-Data\\100-CSV\\200-Person\\Lastname_T.csv\n",
      "C:\\Users\\sirve\\Documents\\GitRaptorQube\\RIF\\RaptorQube\\Jupyter\\800-Test-Data\\100-CSV\\200-Person\\Lastname_U.csv\n",
      "C:\\Users\\sirve\\Documents\\GitRaptorQube\\RIF\\RaptorQube\\Jupyter\\800-Test-Data\\100-CSV\\200-Person\\Lastname_V.csv\n",
      "C:\\Users\\sirve\\Documents\\GitRaptorQube\\RIF\\RaptorQube\\Jupyter\\800-Test-Data\\100-CSV\\200-Person\\Lastname_W.csv\n",
      "C:\\Users\\sirve\\Documents\\GitRaptorQube\\RIF\\RaptorQube\\Jupyter\\800-Test-Data\\100-CSV\\200-Person\\Lastname_X.csv\n",
      "C:\\Users\\sirve\\Documents\\GitRaptorQube\\RIF\\RaptorQube\\Jupyter\\800-Test-Data\\100-CSV\\200-Person\\Lastname_Y.csv\n",
      "C:\\Users\\sirve\\Documents\\GitRaptorQube\\RIF\\RaptorQube\\Jupyter\\800-Test-Data\\100-CSV\\200-Person\\Lastname_Z.csv\n",
      "(54706, 4)\n"
     ]
    }
   ],
   "source": [
    "t=0\n",
    "for root, dirs, files in os.walk(dataDir, topdown=True):\n",
    "    for name in files:\n",
    "        if name[:9] == 'Lastname_':\n",
    "            InFileName= os.path.join(root, name)\n",
    "            print(InFileName)\n",
    "\n",
    "            data3RawDF=pd.read_csv(InFileName, header=0)\n",
    "            data3RawDF.columns = ['Lastname',  'Rank', 'Estimated', 'Frequency']\n",
    "            t+=1\n",
    "            if t == 1:\n",
    "                data3DF = data3RawDF\n",
    "            else:\n",
    "                data3DF = data3DF.append(data3RawDF, sort=True)\n",
    "                \n",
    "print(data3DF.shape)"
   ]
  },
  {
   "cell_type": "code",
   "execution_count": 11,
   "metadata": {},
   "outputs": [
    {
     "name": "stdout",
     "output_type": "stream",
     "text": [
      "C:\\Users\\sirve\\Documents\\GitRaptorQube\\RIF\\RaptorQube\\Jupyter\\800-Test-Data\\100-CSV\\200-Person\\Lastname-Data.csv\n"
     ]
    }
   ],
   "source": [
    "OutFile='Lastname-Data.csv'\n",
    "OutFileName= os.path.join(dataDir, OutFile)\n",
    "print(OutFileName)"
   ]
  },
  {
   "cell_type": "code",
   "execution_count": 12,
   "metadata": {},
   "outputs": [],
   "source": [
    "dataDF=data3DF.copy(deep=True)\n",
    "dataDF.to_csv(OutFileName,index=False,header=True, encoding='latin1')\n",
    "lastnameDF = dataDF.copy(deep=True)"
   ]
  },
  {
   "cell_type": "code",
   "execution_count": 13,
   "metadata": {},
   "outputs": [
    {
     "data": {
      "text/plain": [
       "(29668, 2)"
      ]
     },
     "execution_count": 13,
     "metadata": {},
     "output_type": "execute_result"
    }
   ],
   "source": [
    "firstname1DF = firstnameDF[['FirstName', 'Sex']].copy(deep=True)\n",
    "firstname1DF.shape"
   ]
  },
  {
   "cell_type": "code",
   "execution_count": 14,
   "metadata": {},
   "outputs": [
    {
     "data": {
      "text/plain": [
       "(54706, 1)"
      ]
     },
     "execution_count": 14,
     "metadata": {},
     "output_type": "execute_result"
    }
   ],
   "source": [
    "lastname1DF = lastnameDF[['Lastname']].copy(deep=True)\n",
    "lastname1DF.shape"
   ]
  },
  {
   "cell_type": "code",
   "execution_count": 15,
   "metadata": {},
   "outputs": [
    {
     "name": "stdout",
     "output_type": "stream",
     "text": [
      "C:\\Users\\sirve\\Documents\\GitRaptorQube\\RIF\\RaptorQube\\Jupyter\\800-Test-Data\\100-CSV\\200-Person\\Person.db\n"
     ]
    }
   ],
   "source": [
    "DBFile='Person.db'\n",
    "DBFileName= os.path.join(dataDir, DBFile)\n",
    "print(DBFileName)"
   ]
  },
  {
   "cell_type": "code",
   "execution_count": 16,
   "metadata": {},
   "outputs": [],
   "source": [
    "conn = sq.connect(DBFileName)"
   ]
  },
  {
   "cell_type": "code",
   "execution_count": 17,
   "metadata": {},
   "outputs": [],
   "source": [
    "cur = conn.cursor()"
   ]
  },
  {
   "cell_type": "code",
   "execution_count": 18,
   "metadata": {},
   "outputs": [],
   "source": [
    "name='firstname'\n",
    "firstname1DF.to_sql(name, conn, if_exists='replace')"
   ]
  },
  {
   "cell_type": "code",
   "execution_count": 19,
   "metadata": {},
   "outputs": [],
   "source": [
    "name='lastname'\n",
    "lastname1DF.to_sql(name, conn, if_exists='replace')"
   ]
  },
  {
   "cell_type": "code",
   "execution_count": 20,
   "metadata": {},
   "outputs": [],
   "source": [
    "#sSQL='drop table person'"
   ]
  },
  {
   "cell_type": "code",
   "execution_count": 21,
   "metadata": {},
   "outputs": [],
   "source": [
    "#sSQL='create table person (FirstName text, Lastname text, Sex text)'"
   ]
  },
  {
   "cell_type": "code",
   "execution_count": 22,
   "metadata": {},
   "outputs": [],
   "source": [
    "#cur.execute(sSQL)\n",
    "#conn.commit()"
   ]
  },
  {
   "cell_type": "code",
   "execution_count": 23,
   "metadata": {},
   "outputs": [],
   "source": [
    "#sSQL = 'INSERT INTO person SELECT f.FirstName, l.Lastname, f.Sex FROM firstname as f, lastname as l'"
   ]
  },
  {
   "cell_type": "code",
   "execution_count": 24,
   "metadata": {},
   "outputs": [],
   "source": [
    "#cur.execute(sSQL)\n",
    "#conn.commit()"
   ]
  },
  {
   "cell_type": "code",
   "execution_count": 25,
   "metadata": {},
   "outputs": [],
   "source": [
    "#sSql = 'SELECT FirstName, Lastname, Sex FROM person'"
   ]
  },
  {
   "cell_type": "code",
   "execution_count": 26,
   "metadata": {},
   "outputs": [],
   "source": [
    "#sSQL = 'SELECT count(*) FROM person'"
   ]
  },
  {
   "cell_type": "code",
   "execution_count": 27,
   "metadata": {},
   "outputs": [],
   "source": [
    "#data2DF = pd.read_sql(sSql, conn)"
   ]
  },
  {
   "cell_type": "code",
   "execution_count": 28,
   "metadata": {},
   "outputs": [],
   "source": [
    "#data2DF.shape"
   ]
  },
  {
   "cell_type": "code",
   "execution_count": 29,
   "metadata": {},
   "outputs": [],
   "source": [
    "#conn.close()"
   ]
  },
  {
   "cell_type": "markdown",
   "metadata": {},
   "source": [
    "## Run Time"
   ]
  },
  {
   "cell_type": "code",
   "execution_count": 30,
   "metadata": {},
   "outputs": [
    {
     "name": "stdout",
     "output_type": "stream",
     "text": [
      "Start: 2019-06-26 21:25:22\n",
      "Stop:  2019-06-26 21:25:29\n",
      "Time:  0:00:06.975510\n"
     ]
    }
   ],
   "source": [
    "nowStop = datetime.datetime.now()\n",
    "runTime=nowStop-nowStart\n",
    "print('Start:', nowStart.strftime('%Y-%m-%d %H:%M:%S'))\n",
    "print('Stop: ', nowStop.strftime('%Y-%m-%d %H:%M:%S'))\n",
    "print('Time: ', runTime)"
   ]
  },
  {
   "cell_type": "code",
   "execution_count": null,
   "metadata": {},
   "outputs": [],
   "source": []
  }
 ],
 "metadata": {
  "kernelspec": {
   "display_name": "Python 3",
   "language": "python",
   "name": "python3"
  },
  "language_info": {
   "codemirror_mode": {
    "name": "ipython",
    "version": 3
   },
   "file_extension": ".py",
   "mimetype": "text/x-python",
   "name": "python",
   "nbconvert_exporter": "python",
   "pygments_lexer": "ipython3",
   "version": "3.7.3"
  }
 },
 "nbformat": 4,
 "nbformat_minor": 2
}
