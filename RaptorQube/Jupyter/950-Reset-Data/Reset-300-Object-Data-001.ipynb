{
 "cells": [
  {
   "cell_type": "markdown",
   "metadata": {},
   "source": [
    "![raptorQube](../images/raptorqube.jpg)"
   ]
  },
  {
   "cell_type": "markdown",
   "metadata": {},
   "source": [
    "## Rapid Information Factory with Industrialized Machine Learning Examples\n",
    "\n",
    "Andreas Francois Vermeulen\n",
    "2019\n",
    "\n",
    "### This is an example add-on to a set of research books and needs to be accepted as part of that copyright."
   ]
  },
  {
   "cell_type": "markdown",
   "metadata": {},
   "source": [
    "![Object](../images/DV-Object.jpg)"
   ]
  },
  {
   "cell_type": "markdown",
   "metadata": {},
   "source": [
    "# Reset Object"
   ]
  },
  {
   "cell_type": "code",
   "execution_count": 1,
   "metadata": {},
   "outputs": [],
   "source": [
    "import datetime\n",
    "nowStart = datetime.datetime.now()"
   ]
  },
  {
   "cell_type": "code",
   "execution_count": 2,
   "metadata": {},
   "outputs": [],
   "source": [
    "import os\n",
    "import pandas as pd\n",
    "import datetime\n",
    "import sqlite3 as sq"
   ]
  },
  {
   "cell_type": "code",
   "execution_count": 3,
   "metadata": {},
   "outputs": [
    {
     "name": "stdout",
     "output_type": "stream",
     "text": [
      "C:\\Users\\sirve\\OneDrive\\My Documents\\RaptorQube\\Jupyter\\800-Test-Data\\100-CSV\\300-Object\n"
     ]
    }
   ],
   "source": [
    "dataDir=os.path.abspath('../800-Test-Data/100-CSV/300-Object/')\n",
    "print(dataDir)"
   ]
  },
  {
   "cell_type": "code",
   "execution_count": 4,
   "metadata": {},
   "outputs": [],
   "source": [
    "if not os.path.exists(dataDir):\n",
    "    print('Creating new raptorQube 300-Object')\n",
    "    print(dataDir)\n",
    "    os.makedirs(dataDir)"
   ]
  },
  {
   "cell_type": "markdown",
   "metadata": {},
   "source": [
    "## Health Care Actions"
   ]
  },
  {
   "cell_type": "code",
   "execution_count": 5,
   "metadata": {},
   "outputs": [
    {
     "name": "stdout",
     "output_type": "stream",
     "text": [
      "C:\\Users\\sirve\\OneDrive\\My Documents\\RaptorQube\\Jupyter\\950-Reset-Data\\300-Object\n"
     ]
    }
   ],
   "source": [
    "dataInDir=os.path.abspath('../950-Reset-Data/300-Object/')\n",
    "print(dataInDir)"
   ]
  },
  {
   "cell_type": "code",
   "execution_count": 6,
   "metadata": {},
   "outputs": [
    {
     "name": "stdout",
     "output_type": "stream",
     "text": [
      ".csv\n",
      "C:\\Users\\sirve\\OneDrive\\My Documents\\RaptorQube\\Jupyter\\950-Reset-Data\\300-Object\\HealthCareObjects-000001.csv\n",
      ".ods\n",
      "(3, 12)\n"
     ]
    }
   ],
   "source": [
    "t=0\n",
    "for root, dirs, files in os.walk(dataInDir, topdown=True):\n",
    "    for name in files:\n",
    "        filename, file_extension = os.path.splitext(name)\n",
    "        print(file_extension)\n",
    "        if file_extension == '.csv':\n",
    "            InFileName= os.path.join(root, name)\n",
    "            print(InFileName)\n",
    "\n",
    "            data1RawDF=pd.read_csv(InFileName,header=0)\n",
    "\n",
    "            t+=1\n",
    "            if t == 1:\n",
    "                data1DF = data1RawDF\n",
    "            else:\n",
    "                data1DF = data1DF.append(data1RawDF)\n",
    "                \n",
    "print(data1DF.shape)"
   ]
  },
  {
   "cell_type": "code",
   "execution_count": 7,
   "metadata": {},
   "outputs": [
    {
     "name": "stdout",
     "output_type": "stream",
     "text": [
      "C:\\Users\\sirve\\OneDrive\\My Documents\\RaptorQube\\Jupyter\\800-Test-Data\\100-CSV\\300-Object\\HealthCare-Data.csv\n"
     ]
    }
   ],
   "source": [
    "OutFile='HealthCare-Data.csv'\n",
    "OutFileName= os.path.join(dataDir, OutFile)\n",
    "print(OutFileName)"
   ]
  },
  {
   "cell_type": "code",
   "execution_count": 8,
   "metadata": {},
   "outputs": [
    {
     "name": "stdout",
     "output_type": "stream",
     "text": [
      "C:\\Users\\sirve\\OneDrive\\My Documents\\RaptorQube\\Jupyter\\800-Test-Data\\100-CSV\\300-Object\\Object.db\n"
     ]
    }
   ],
   "source": [
    "DBFile='Object.db'\n",
    "DBFileName= os.path.join(dataDir, DBFile)\n",
    "print(DBFileName)"
   ]
  },
  {
   "cell_type": "code",
   "execution_count": 9,
   "metadata": {},
   "outputs": [],
   "source": [
    "conn = sq.connect(DBFileName)"
   ]
  },
  {
   "cell_type": "code",
   "execution_count": 10,
   "metadata": {},
   "outputs": [],
   "source": [
    "#cur = conn.cursor()"
   ]
  },
  {
   "cell_type": "code",
   "execution_count": 11,
   "metadata": {},
   "outputs": [
    {
     "name": "stderr",
     "output_type": "stream",
     "text": [
      "C:\\Users\\sirve\\Anaconda3\\lib\\site-packages\\pandas\\core\\generic.py:2531: UserWarning: The spaces in these column names will not be changed. In pandas versions < 0.14, spaces were converted to underscores.\n",
      "  dtype=dtype, method=method)\n"
     ]
    }
   ],
   "source": [
    "name='Healthcare'\n",
    "data1DF.to_sql(name, conn, if_exists='replace')"
   ]
  },
  {
   "cell_type": "code",
   "execution_count": 12,
   "metadata": {},
   "outputs": [],
   "source": [
    "conn.close()"
   ]
  },
  {
   "cell_type": "markdown",
   "metadata": {},
   "source": [
    "## Run Time"
   ]
  },
  {
   "cell_type": "code",
   "execution_count": 13,
   "metadata": {},
   "outputs": [
    {
     "name": "stdout",
     "output_type": "stream",
     "text": [
      "Start: 2019-05-22 23:07:08\n",
      "Stop:  2019-05-22 23:07:12\n",
      "Time:  0:00:03.562290\n"
     ]
    }
   ],
   "source": [
    "nowStop = datetime.datetime.now()\n",
    "runTime=nowStop-nowStart\n",
    "print('Start:', nowStart.strftime('%Y-%m-%d %H:%M:%S'))\n",
    "print('Stop: ', nowStop.strftime('%Y-%m-%d %H:%M:%S'))\n",
    "print('Time: ', runTime)"
   ]
  },
  {
   "cell_type": "code",
   "execution_count": null,
   "metadata": {},
   "outputs": [],
   "source": []
  }
 ],
 "metadata": {
  "kernelspec": {
   "display_name": "Python 3",
   "language": "python",
   "name": "python3"
  },
  "language_info": {
   "codemirror_mode": {
    "name": "ipython",
    "version": 3
   },
   "file_extension": ".py",
   "mimetype": "text/x-python",
   "name": "python",
   "nbconvert_exporter": "python",
   "pygments_lexer": "ipython3",
   "version": "3.7.3"
  }
 },
 "nbformat": 4,
 "nbformat_minor": 2
}
