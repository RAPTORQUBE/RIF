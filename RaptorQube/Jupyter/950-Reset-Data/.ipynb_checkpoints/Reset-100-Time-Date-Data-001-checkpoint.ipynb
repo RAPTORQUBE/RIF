{
 "cells": [
  {
   "cell_type": "markdown",
   "metadata": {},
   "source": [
    "![raptorQube](../images/raptorqube.jpg)"
   ]
  },
  {
   "cell_type": "markdown",
   "metadata": {},
   "source": [
    "## Rapid Information Factory with Industrialized Machine Learning Examples\n",
    "\n",
    "Andreas Francois Vermeulen\n",
    "2019\n",
    "\n",
    "### This is an example add-on to a set of research books and needs to be accepted as part of that copyright."
   ]
  },
  {
   "cell_type": "markdown",
   "metadata": {},
   "source": [
    "![Time](../images/DV-Time.jpg)"
   ]
  },
  {
   "cell_type": "markdown",
   "metadata": {},
   "source": [
    "# Reset Data and Time Data"
   ]
  },
  {
   "cell_type": "code",
   "execution_count": 1,
   "metadata": {},
   "outputs": [],
   "source": [
    "import datetime\n",
    "nowStart = datetime.datetime.now()"
   ]
  },
  {
   "cell_type": "code",
   "execution_count": 2,
   "metadata": {},
   "outputs": [],
   "source": [
    "import os\n",
    "import pandas as pd\n",
    "import datetime\n",
    "import sqlite3 as sq"
   ]
  },
  {
   "cell_type": "code",
   "execution_count": 3,
   "metadata": {},
   "outputs": [
    {
     "name": "stdout",
     "output_type": "stream",
     "text": [
      "C:\\Users\\sirve\\OneDrive\\My Documents\\RaptorQube\\Jupyter\\800-Test-Data\\100-CSV\\100-Time\n"
     ]
    }
   ],
   "source": [
    "dateFile='DateData.csv'\n",
    "timeFile='TimeData.csv'\n",
    "DBFile='Date.db'\n",
    "dataDir=os.path.abspath('../800-Test-Data/100-CSV/100-Time/')\n",
    "print(dataDir)"
   ]
  },
  {
   "cell_type": "code",
   "execution_count": 4,
   "metadata": {},
   "outputs": [],
   "source": [
    "dateFileName= os.path.join(dataDir, dateFile)\n",
    "timeFileName= os.path.join(dataDir, timeFile)\n",
    "DBFileName= os.path.join(dataDir, DBFile)\n",
    "conn = sq.connect(DBFileName)"
   ]
  },
  {
   "cell_type": "code",
   "execution_count": 5,
   "metadata": {},
   "outputs": [],
   "source": [
    "if not os.path.exists(dataDir):\n",
    "    print('Creating new raptorQube 100-Time')\n",
    "    print(dataDir)\n",
    "    os.makedirs(dataDir)"
   ]
  },
  {
   "cell_type": "markdown",
   "metadata": {},
   "source": [
    "## Date"
   ]
  },
  {
   "cell_type": "code",
   "execution_count": 6,
   "metadata": {},
   "outputs": [],
   "source": [
    "date1 = '2000-01-01'\n",
    "date2 = '2030-12-31'\n",
    "dateDF = pd.DataFrame(pd.date_range(date1, date2, freq='D').strftime('%Y-%m-%d').tolist(), columns=['Date'])"
   ]
  },
  {
   "cell_type": "code",
   "execution_count": 7,
   "metadata": {},
   "outputs": [],
   "source": [
    "dateDF.to_csv(dateFileName,index=False,header=True, encoding='latin1')"
   ]
  },
  {
   "cell_type": "code",
   "execution_count": 8,
   "metadata": {},
   "outputs": [],
   "source": [
    "name='Date'\n",
    "dateDF.to_sql(name, conn, if_exists='replace')"
   ]
  },
  {
   "cell_type": "markdown",
   "metadata": {},
   "source": [
    "## Time"
   ]
  },
  {
   "cell_type": "code",
   "execution_count": 9,
   "metadata": {},
   "outputs": [],
   "source": [
    "date1 = '2019-01-01 00:00:00'\n",
    "date2 = '2019-01-01 23:59:59'\n",
    "timeDF = pd.DataFrame(pd.date_range(date1, date2, freq='S').strftime('%H:%M:%S').tolist(), columns=['Time'])"
   ]
  },
  {
   "cell_type": "code",
   "execution_count": 10,
   "metadata": {},
   "outputs": [],
   "source": [
    "timeDF.to_csv(timeFileName,index=False,header=True, encoding='latin1')"
   ]
  },
  {
   "cell_type": "code",
   "execution_count": 11,
   "metadata": {},
   "outputs": [],
   "source": [
    "name='Time'\n",
    "timeDF.to_sql(name, conn, if_exists='replace')"
   ]
  },
  {
   "cell_type": "markdown",
   "metadata": {},
   "source": [
    "## Run Time"
   ]
  },
  {
   "cell_type": "code",
   "execution_count": 12,
   "metadata": {},
   "outputs": [
    {
     "name": "stdout",
     "output_type": "stream",
     "text": [
      "Start: 2019-05-21 18:08:16\n",
      "Stop:  2019-05-21 18:09:02\n",
      "Time:  0:00:46.411485\n"
     ]
    }
   ],
   "source": [
    "nowStop = datetime.datetime.now()\n",
    "runTime=nowStop-nowStart\n",
    "print('Start:', nowStart.strftime('%Y-%m-%d %H:%M:%S'))\n",
    "print('Stop: ', nowStop.strftime('%Y-%m-%d %H:%M:%S'))\n",
    "print('Time: ', runTime)"
   ]
  }
 ],
 "metadata": {
  "kernelspec": {
   "display_name": "Python 3",
   "language": "python",
   "name": "python3"
  },
  "language_info": {
   "codemirror_mode": {
    "name": "ipython",
    "version": 3
   },
   "file_extension": ".py",
   "mimetype": "text/x-python",
   "name": "python",
   "nbconvert_exporter": "python",
   "pygments_lexer": "ipython3",
   "version": "3.7.3"
  }
 },
 "nbformat": 4,
 "nbformat_minor": 2
}
