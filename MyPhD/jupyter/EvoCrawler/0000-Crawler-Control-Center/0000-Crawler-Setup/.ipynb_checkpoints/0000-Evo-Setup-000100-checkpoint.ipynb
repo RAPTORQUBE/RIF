{
 "cells": [
  {
   "cell_type": "markdown",
   "metadata": {},
   "source": [
    "![raptorQube](../../images/raptorqube.jpg)"
   ]
  },
  {
   "cell_type": "markdown",
   "metadata": {},
   "source": [
    "# Andreas Francois Vermeulen"
   ]
  },
  {
   "cell_type": "code",
   "execution_count": 1,
   "metadata": {},
   "outputs": [],
   "source": [
    "import os\n",
    "import sqlite3 as sq\n",
    "from sqlite3 import Error"
   ]
  },
  {
   "cell_type": "markdown",
   "metadata": {},
   "source": [
    "## Build Crawler Base"
   ]
  },
  {
   "cell_type": "code",
   "execution_count": 2,
   "metadata": {},
   "outputs": [],
   "source": [
    "evoBaseDirName = os.path.abspath('../../../EvoCrawler')\n",
    "if not os.path.exists(evoBaseDirName):\n",
    "    print('Creating new Evolution directory')\n",
    "    print(evoBaseDirName)\n",
    "    os.makedirs(evoBaseDirName)"
   ]
  },
  {
   "cell_type": "code",
   "execution_count": 3,
   "metadata": {},
   "outputs": [],
   "source": [
    "evoDirList = ['0000-Crawler-Control-Center',\n",
    "              '0100-Crawler-Hatchery',\n",
    "              '0200-Crawler-Laboratory',\n",
    "              '0300-Crawler-Factory',\n",
    "              '0400-Crawler-Sanctuary',\n",
    "              '0500-Crawler-World']\n",
    "\n",
    "for evoDirName in evoDirList:\n",
    "    evoDir = os.path.join(evoBaseDirName, evoDirName)\n",
    "    if not os.path.exists(evoDir):\n",
    "        print('Creating new Evolution directory > %s' % evoDirName)\n",
    "        print(evoDir)\n",
    "        os.makedirs(evoDir)"
   ]
  },
  {
   "cell_type": "markdown",
   "metadata": {},
   "source": [
    "## Crawler Control Center"
   ]
  },
  {
   "cell_type": "code",
   "execution_count": 4,
   "metadata": {},
   "outputs": [],
   "source": [
    "evoSubDirName = '0000-Crawler-Control-Center'\n",
    "\n",
    "evoDirList = ['0000-Crawler-Setup',\n",
    "              '0100-Crawler-Vault']\n",
    "\n",
    "for evoDirName in evoDirList:\n",
    "    evoDir = os.path.join(evoBaseDirName, evoSubDirName, evoDirName)\n",
    "    if not os.path.exists(evoDir):\n",
    "        print('Creating new Evolution directory > %s %s' % (evoSubDirName, evoDirName))\n",
    "        print(evoDir)\n",
    "        os.makedirs(evoDir)"
   ]
  },
  {
   "cell_type": "markdown",
   "metadata": {},
   "source": [
    "## Crawler Hatchery"
   ]
  },
  {
   "cell_type": "code",
   "execution_count": 5,
   "metadata": {},
   "outputs": [],
   "source": [
    "evoSubDirName = '0100-Crawler-Hatchery'\n",
    "\n",
    "evoDirList = [\n",
    "    '100-Crawler-Master-Service-Definitions',\n",
    "    '200-Crawler-Yoke-Definitions',\n",
    "    '300-Crawler-Input-Definitions',\n",
    "    '400-Crawler-Process-Definitions',\n",
    "    '500-Crawler-Output-Definitions',\n",
    "    '800-Crawler-Incubator',\n",
    "    '900-Crawler-Data-Pond'\n",
    "]\n",
    "\n",
    "\n",
    "for evoDirName in evoDirList:\n",
    "    evoDir = os.path.join(evoBaseDirName, evoSubDirName, evoDirName)\n",
    "    if not os.path.exists(evoDir):\n",
    "        print('Creating new Evolution directory > %s %s' % (evoSubDirName, evoDirName))\n",
    "        print(evoDir)\n",
    "        os.makedirs(evoDir)"
   ]
  },
  {
   "cell_type": "code",
   "execution_count": 6,
   "metadata": {},
   "outputs": [],
   "source": [
    "## Data Pond"
   ]
  },
  {
   "cell_type": "code",
   "execution_count": 7,
   "metadata": {},
   "outputs": [
    {
     "name": "stdout",
     "output_type": "stream",
     "text": [
      "Creating new Evolution directory > 0100-Crawler-Hatchery/900-Crawler-Data-Pond 000-Workspace-Zone\n",
      "C:\\Users\\sirve\\Documents\\GitRaptorQube\\RIF\\MyPhD\\jupyter\\EvoCrawler\\0100-Crawler-Hatchery/900-Crawler-Data-Pond\\000-Workspace-Zone\n",
      "Creating new Evolution directory > 0100-Crawler-Hatchery/900-Crawler-Data-Pond 200-Structured-Zone\n",
      "C:\\Users\\sirve\\Documents\\GitRaptorQube\\RIF\\MyPhD\\jupyter\\EvoCrawler\\0100-Crawler-Hatchery/900-Crawler-Data-Pond\\200-Structured-Zone\n",
      "Creating new Evolution directory > 0100-Crawler-Hatchery/900-Crawler-Data-Pond 300-Curated-Zone\n",
      "C:\\Users\\sirve\\Documents\\GitRaptorQube\\RIF\\MyPhD\\jupyter\\EvoCrawler\\0100-Crawler-Hatchery/900-Crawler-Data-Pond\\300-Curated-Zone\n",
      "Creating new Evolution directory > 0100-Crawler-Hatchery/900-Crawler-Data-Pond 400-Consumer-Zone\n",
      "C:\\Users\\sirve\\Documents\\GitRaptorQube\\RIF\\MyPhD\\jupyter\\EvoCrawler\\0100-Crawler-Hatchery/900-Crawler-Data-Pond\\400-Consumer-Zone\n",
      "Creating new Evolution directory > 0100-Crawler-Hatchery/900-Crawler-Data-Pond 500-Analytics-Zone\n",
      "C:\\Users\\sirve\\Documents\\GitRaptorQube\\RIF\\MyPhD\\jupyter\\EvoCrawler\\0100-Crawler-Hatchery/900-Crawler-Data-Pond\\500-Analytics-Zone\n"
     ]
    }
   ],
   "source": [
    "evoSubDirName = '0100-Crawler-Hatchery/900-Crawler-Data-Pond'\n",
    "\n",
    "evoDirList = [\n",
    "    '000-Workspace-Zone',\n",
    "    '100-Raw-Zone',\n",
    "    '200-Structured-Zone',\n",
    "    '300-Curated-Zone',\n",
    "    '400-Consumer-Zone',\n",
    "    '500-Analytics-Zone'\n",
    "]\n",
    "\n",
    "\n",
    "for evoDirName in evoDirList:\n",
    "    evoDir = os.path.join(evoBaseDirName, evoSubDirName, evoDirName)\n",
    "    if not os.path.exists(evoDir):\n",
    "        print('Creating new Evolution directory > %s %s' % (evoSubDirName, evoDirName))\n",
    "        print(evoDir)\n",
    "        os.makedirs(evoDir)"
   ]
  },
  {
   "cell_type": "markdown",
   "metadata": {},
   "source": [
    "## Show Results"
   ]
  },
  {
   "cell_type": "code",
   "execution_count": 8,
   "metadata": {},
   "outputs": [
    {
     "name": "stdout",
     "output_type": "stream",
     "text": [
      "C:\\Users\\sirve\\Documents\\GitRaptorQube\\RIF\\MyPhD\\jupyter\\EvoCrawler\\0000-Crawler-Control-Center\n",
      "C:\\Users\\sirve\\Documents\\GitRaptorQube\\RIF\\MyPhD\\jupyter\\EvoCrawler\\0100-Crawler-Hatchery\n",
      "C:\\Users\\sirve\\Documents\\GitRaptorQube\\RIF\\MyPhD\\jupyter\\EvoCrawler\\0200-Crawler-Laboratory\n",
      "C:\\Users\\sirve\\Documents\\GitRaptorQube\\RIF\\MyPhD\\jupyter\\EvoCrawler\\0300-Crawler-Factory\n",
      "C:\\Users\\sirve\\Documents\\GitRaptorQube\\RIF\\MyPhD\\jupyter\\EvoCrawler\\0400-Crawler-Sanctuary\n",
      "C:\\Users\\sirve\\Documents\\GitRaptorQube\\RIF\\MyPhD\\jupyter\\EvoCrawler\\0500-Crawler-World\n",
      "C:\\Users\\sirve\\Documents\\GitRaptorQube\\RIF\\MyPhD\\jupyter\\EvoCrawler\\images\n",
      "C:\\Users\\sirve\\Documents\\GitRaptorQube\\RIF\\MyPhD\\jupyter\\EvoCrawler\\0000-Crawler-Control-Center\\0000-Crawler-Setup\n",
      "C:\\Users\\sirve\\Documents\\GitRaptorQube\\RIF\\MyPhD\\jupyter\\EvoCrawler\\0000-Crawler-Control-Center\\0100-Crawler-Vault\n",
      "C:\\Users\\sirve\\Documents\\GitRaptorQube\\RIF\\MyPhD\\jupyter\\EvoCrawler\\0000-Crawler-Control-Center\\0000-Crawler-Setup\\0100-Crawler-Template\n",
      "C:\\Users\\sirve\\Documents\\GitRaptorQube\\RIF\\MyPhD\\jupyter\\EvoCrawler\\0000-Crawler-Control-Center\\0000-Crawler-Setup\\0100-Crawler-Template\\300-Crawler-Input-Templates\n",
      "C:\\Users\\sirve\\Documents\\GitRaptorQube\\RIF\\MyPhD\\jupyter\\EvoCrawler\\0000-Crawler-Control-Center\\0000-Crawler-Setup\\0100-Crawler-Template\\400-Crawler-Process-Templates\n",
      "C:\\Users\\sirve\\Documents\\GitRaptorQube\\RIF\\MyPhD\\jupyter\\EvoCrawler\\0000-Crawler-Control-Center\\0000-Crawler-Setup\\0100-Crawler-Template\\500-Crawler-Output-Templates\n",
      "C:\\Users\\sirve\\Documents\\GitRaptorQube\\RIF\\MyPhD\\jupyter\\EvoCrawler\\0100-Crawler-Hatchery\\100-Crawler-Master-Service-Definitions\n",
      "C:\\Users\\sirve\\Documents\\GitRaptorQube\\RIF\\MyPhD\\jupyter\\EvoCrawler\\0100-Crawler-Hatchery\\200-Crawler-Yoke-Definitions\n",
      "C:\\Users\\sirve\\Documents\\GitRaptorQube\\RIF\\MyPhD\\jupyter\\EvoCrawler\\0100-Crawler-Hatchery\\300-Crawler-Input-Definitions\n",
      "C:\\Users\\sirve\\Documents\\GitRaptorQube\\RIF\\MyPhD\\jupyter\\EvoCrawler\\0100-Crawler-Hatchery\\400-Crawler-Process-Definitions\n",
      "C:\\Users\\sirve\\Documents\\GitRaptorQube\\RIF\\MyPhD\\jupyter\\EvoCrawler\\0100-Crawler-Hatchery\\500-Crawler-Output-Definitions\n",
      "C:\\Users\\sirve\\Documents\\GitRaptorQube\\RIF\\MyPhD\\jupyter\\EvoCrawler\\0100-Crawler-Hatchery\\800-Crawler-Incubator\n",
      "C:\\Users\\sirve\\Documents\\GitRaptorQube\\RIF\\MyPhD\\jupyter\\EvoCrawler\\0100-Crawler-Hatchery\\900-Crawler-Data-Pond\n",
      "C:\\Users\\sirve\\Documents\\GitRaptorQube\\RIF\\MyPhD\\jupyter\\EvoCrawler\\0100-Crawler-Hatchery\\900-Crawler-Data-Pond\\000-Workspace-Zone\n",
      "C:\\Users\\sirve\\Documents\\GitRaptorQube\\RIF\\MyPhD\\jupyter\\EvoCrawler\\0100-Crawler-Hatchery\\900-Crawler-Data-Pond\\100-Raw-Zone\n",
      "C:\\Users\\sirve\\Documents\\GitRaptorQube\\RIF\\MyPhD\\jupyter\\EvoCrawler\\0100-Crawler-Hatchery\\900-Crawler-Data-Pond\\200-Structured-Zone\n",
      "C:\\Users\\sirve\\Documents\\GitRaptorQube\\RIF\\MyPhD\\jupyter\\EvoCrawler\\0100-Crawler-Hatchery\\900-Crawler-Data-Pond\\300-Curated-Zone\n",
      "C:\\Users\\sirve\\Documents\\GitRaptorQube\\RIF\\MyPhD\\jupyter\\EvoCrawler\\0100-Crawler-Hatchery\\900-Crawler-Data-Pond\\400-Consumer-Zone\n",
      "C:\\Users\\sirve\\Documents\\GitRaptorQube\\RIF\\MyPhD\\jupyter\\EvoCrawler\\0100-Crawler-Hatchery\\900-Crawler-Data-Pond\\500-Analytics-Zone\n"
     ]
    }
   ],
   "source": [
    "for root, dirs, files in os.walk(evoBaseDirName, topdown=True):    \n",
    "    for name in dirs:\n",
    "        if name != '.ipynb_checkpoints':\n",
    "            print(os.path.abspath(os.path.join(root, name)))"
   ]
  },
  {
   "cell_type": "code",
   "execution_count": 9,
   "metadata": {},
   "outputs": [
    {
     "name": "stdout",
     "output_type": "stream",
     "text": [
      "C:\\Users\\sirve\\Documents\\GitRaptorQube\\RIF\\MyPhD\\jupyter\\EvoCrawler\\0000-Crawler-Control-Center\\0000-Crawler-Setup\\Evo-Crawler-Hatchery-000001.ipynb\n",
      "C:\\Users\\sirve\\Documents\\GitRaptorQube\\RIF\\MyPhD\\jupyter\\EvoCrawler\\0000-Crawler-Control-Center\\0000-Crawler-Setup\\Evo-Setup-000100.ipynb\n",
      "C:\\Users\\sirve\\Documents\\GitRaptorQube\\RIF\\MyPhD\\jupyter\\EvoCrawler\\0000-Crawler-Control-Center\\0000-Crawler-Setup\\.ipynb_checkpoints\\Evo-Crawler-Hatchery-000001-checkpoint.ipynb\n",
      "C:\\Users\\sirve\\Documents\\GitRaptorQube\\RIF\\MyPhD\\jupyter\\EvoCrawler\\0000-Crawler-Control-Center\\0000-Crawler-Setup\\.ipynb_checkpoints\\Evo-Setup-000100-checkpoint.ipynb\n",
      "C:\\Users\\sirve\\Documents\\GitRaptorQube\\RIF\\MyPhD\\jupyter\\EvoCrawler\\0000-Crawler-Control-Center\\0000-Crawler-Setup\\0100-Crawler-Template\\300-Crawler-Input-Templates\\0300-Crawler-Input-Template-000001.jinja\n",
      "C:\\Users\\sirve\\Documents\\GitRaptorQube\\RIF\\MyPhD\\jupyter\\EvoCrawler\\0000-Crawler-Control-Center\\0000-Crawler-Setup\\0100-Crawler-Template\\400-Crawler-Process-Templates\\0400-Crawler-Process-Template-000001.jinja\n",
      "C:\\Users\\sirve\\Documents\\GitRaptorQube\\RIF\\MyPhD\\jupyter\\EvoCrawler\\0000-Crawler-Control-Center\\0000-Crawler-Setup\\0100-Crawler-Template\\500-Crawler-Output-Templates\\0500-Crawler-Output-Template-000001.jinja\n",
      "C:\\Users\\sirve\\Documents\\GitRaptorQube\\RIF\\MyPhD\\jupyter\\EvoCrawler\\0000-Crawler-Control-Center\\0100-Crawler-Vault\\Crawler-Center.db\n",
      "C:\\Users\\sirve\\Documents\\GitRaptorQube\\RIF\\MyPhD\\jupyter\\EvoCrawler\\0100-Crawler-Hatchery\\300-Crawler-Input-Definitions\\CI-000000001.txt\n",
      "C:\\Users\\sirve\\Documents\\GitRaptorQube\\RIF\\MyPhD\\jupyter\\EvoCrawler\\0100-Crawler-Hatchery\\400-Crawler-Process-Definitions\\PC-000000001.txt\n",
      "C:\\Users\\sirve\\Documents\\GitRaptorQube\\RIF\\MyPhD\\jupyter\\EvoCrawler\\0100-Crawler-Hatchery\\500-Crawler-Output-Definitions\\CO-000000001.txt\n",
      "C:\\Users\\sirve\\Documents\\GitRaptorQube\\RIF\\MyPhD\\jupyter\\EvoCrawler\\0100-Crawler-Hatchery\\900-Crawler-Data-Pond\\100-Raw-Zone\\Firstname-Data.csv\n",
      "C:\\Users\\sirve\\Documents\\GitRaptorQube\\RIF\\MyPhD\\jupyter\\EvoCrawler\\0100-Crawler-Hatchery\\900-Crawler-Data-Pond\\100-Raw-Zone\\Lastname-Data.csv\n",
      "C:\\Users\\sirve\\Documents\\GitRaptorQube\\RIF\\MyPhD\\jupyter\\EvoCrawler\\images\\BasicCrawler.png\n",
      "C:\\Users\\sirve\\Documents\\GitRaptorQube\\RIF\\MyPhD\\jupyter\\EvoCrawler\\images\\BasicCrawlerSmall.png\n",
      "C:\\Users\\sirve\\Documents\\GitRaptorQube\\RIF\\MyPhD\\jupyter\\EvoCrawler\\images\\crawler.png\n",
      "C:\\Users\\sirve\\Documents\\GitRaptorQube\\RIF\\MyPhD\\jupyter\\EvoCrawler\\images\\DataLake.JPG\n",
      "C:\\Users\\sirve\\Documents\\GitRaptorQube\\RIF\\MyPhD\\jupyter\\EvoCrawler\\images\\RAPTOR.JPG\n",
      "C:\\Users\\sirve\\Documents\\GitRaptorQube\\RIF\\MyPhD\\jupyter\\EvoCrawler\\images\\raptorqube.jpg\n",
      "C:\\Users\\sirve\\Documents\\GitRaptorQube\\RIF\\MyPhD\\jupyter\\EvoCrawler\\images\\raptorqube2.jpg\n",
      "C:\\Users\\sirve\\Documents\\GitRaptorQube\\RIF\\MyPhD\\jupyter\\EvoCrawler\\images\\Reinforcement-Learning.png\n",
      "C:\\Users\\sirve\\Documents\\GitRaptorQube\\RIF\\MyPhD\\jupyter\\EvoCrawler\\images\\RIF-Core.JPG\n",
      "C:\\Users\\sirve\\Documents\\GitRaptorQube\\RIF\\MyPhD\\jupyter\\EvoCrawler\\images\\RIF-Layers.JPG\n",
      "C:\\Users\\sirve\\Documents\\GitRaptorQube\\RIF\\MyPhD\\jupyter\\EvoCrawler\\images\\standrews.jpg\n",
      "C:\\Users\\sirve\\Documents\\GitRaptorQube\\RIF\\MyPhD\\jupyter\\EvoCrawler\\images\\the_data_vault.png\n",
      "C:\\Users\\sirve\\Documents\\GitRaptorQube\\RIF\\MyPhD\\jupyter\\EvoCrawler\\images\\TPOLE.JPG\n",
      "C:\\Users\\sirve\\Documents\\GitRaptorQube\\RIF\\MyPhD\\jupyter\\EvoCrawler\\images\\vermeulen.png\n"
     ]
    }
   ],
   "source": [
    "for root, dirs, files in os.walk(evoBaseDirName, topdown=True):    \n",
    "    for name in files:\n",
    "        print(os.path.abspath(os.path.join(root, name)))"
   ]
  },
  {
   "cell_type": "markdown",
   "metadata": {},
   "source": [
    "## Setup Crawler Control Center"
   ]
  },
  {
   "cell_type": "code",
   "execution_count": 10,
   "metadata": {},
   "outputs": [],
   "source": [
    "def create_connection(db_file):\n",
    "    \"\"\" create a database connection to a SQLite database \"\"\"\n",
    "    try:\n",
    "        conn = sq.connect(db_file)\n",
    "    except Error as e:\n",
    "        print(e)\n",
    "    finally:\n",
    "        conn.close()"
   ]
  },
  {
   "cell_type": "code",
   "execution_count": 11,
   "metadata": {},
   "outputs": [
    {
     "name": "stdout",
     "output_type": "stream",
     "text": [
      "..\\0100-Crawler-Vault\\Crawler-Center.db\n"
     ]
    }
   ],
   "source": [
    "evoSubDirName = '0000-Crawler-Control-Center'\n",
    "evoDirName = '0100-Crawler-Vault'\n",
    "dbname='Crawler-Center.db'\n",
    "\n",
    "dbfullname=os.path.abspath(os.path.join(evoBaseDirName, evoSubDirName, evoDirName, dbname))\n",
    "print(os.path.relpath(dbfullname))"
   ]
  },
  {
   "cell_type": "code",
   "execution_count": 12,
   "metadata": {},
   "outputs": [
    {
     "name": "stdout",
     "output_type": "stream",
     "text": [
      "Using DB: ..\\0100-Crawler-Vault\\Crawler-Center.db with engine: 2.6.0\n"
     ]
    }
   ],
   "source": [
    "if not os.path.exists(dbfullname):\n",
    "    create_connection(dbfullname)\n",
    "    print('Create DB: %s with engine %s' % (os.path.relpath(dbfullname), sq.version))\n",
    "else:\n",
    "    print('Using DB: %s with engine: %s' % (os.path.relpath(dbfullname), sq.version))"
   ]
  },
  {
   "cell_type": "code",
   "execution_count": 13,
   "metadata": {},
   "outputs": [],
   "source": [
    "conn = sq.connect(dbfullname)"
   ]
  },
  {
   "cell_type": "code",
   "execution_count": null,
   "metadata": {},
   "outputs": [],
   "source": []
  },
  {
   "cell_type": "code",
   "execution_count": null,
   "metadata": {},
   "outputs": [],
   "source": []
  },
  {
   "cell_type": "code",
   "execution_count": 14,
   "metadata": {},
   "outputs": [],
   "source": [
    "conn.commit()\n",
    "conn.close()"
   ]
  },
  {
   "cell_type": "code",
   "execution_count": 15,
   "metadata": {},
   "outputs": [
    {
     "name": "stdout",
     "output_type": "stream",
     "text": [
      "Done!\n"
     ]
    }
   ],
   "source": [
    "print('Done!')"
   ]
  },
  {
   "cell_type": "code",
   "execution_count": null,
   "metadata": {},
   "outputs": [],
   "source": []
  }
 ],
 "metadata": {
  "kernelspec": {
   "display_name": "Python 3",
   "language": "python",
   "name": "python3"
  },
  "language_info": {
   "codemirror_mode": {
    "name": "ipython",
    "version": 3
   },
   "file_extension": ".py",
   "mimetype": "text/x-python",
   "name": "python",
   "nbconvert_exporter": "python",
   "pygments_lexer": "ipython3",
   "version": "3.7.3"
  }
 },
 "nbformat": 4,
 "nbformat_minor": 2
}
