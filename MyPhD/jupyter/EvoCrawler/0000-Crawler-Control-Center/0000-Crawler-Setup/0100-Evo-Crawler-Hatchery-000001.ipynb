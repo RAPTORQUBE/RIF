{
 "cells": [
  {
   "cell_type": "markdown",
   "metadata": {},
   "source": [
    "![raptorQube](../../images/raptorqube.jpg)"
   ]
  },
  {
   "cell_type": "markdown",
   "metadata": {},
   "source": [
    "# Andreas Francois Vermeulen"
   ]
  },
  {
   "cell_type": "code",
   "execution_count": 1,
   "metadata": {},
   "outputs": [],
   "source": [
    "from jinja2 import Template\n",
    "import os"
   ]
  },
  {
   "cell_type": "markdown",
   "metadata": {},
   "source": [
    "# Input Templates"
   ]
  },
  {
   "cell_type": "code",
   "execution_count": 2,
   "metadata": {},
   "outputs": [
    {
     "data": {
      "text/plain": [
       "'C:\\\\Users\\\\sirve\\\\Documents\\\\GitRaptorQube\\\\RIF\\\\MyPhD\\\\jupyter\\\\EvoCrawler\\\\0000-Crawler-Control-Center\\\\0000-Crawler-Setup\\\\0100-Crawler-Template\\\\300-Crawler-Input-Templates\\\\0300-Crawler-Input-Template-000001.jinja'"
      ]
     },
     "execution_count": 2,
     "metadata": {},
     "output_type": "execute_result"
    }
   ],
   "source": [
    "templateDir='./0100-Crawler-Template/300-Crawler-Input-Templates'\n",
    "templateName='0300-Crawler-Input-Template-000001.jinja'\n",
    "templateFullName=os.path.abspath(os.path.join(templateDir, templateName))\n",
    "templateFullName"
   ]
  },
  {
   "cell_type": "code",
   "execution_count": 3,
   "metadata": {},
   "outputs": [
    {
     "name": "stdout",
     "output_type": "stream",
     "text": [
      "def InputData():\n",
      "\timport pandas as pd\n",
      "\timport os\n",
      "\n",
      "\tdirname='{{SetInputDir}}'\n",
      "\tfilename='{{SetInputFile}}'\n",
      "\tsetsep='{{SetSep}}'\n",
      "\n",
      "\tfullfilename=os.path.abspath(os.path.join(dirname, filename))\n",
      "    df=pd.read_csv(\n",
      "        fullfilename,\n",
      "        header=0,\n",
      "        sep=setsep,\n",
      "        encoding='latin1',\n",
      "        skip_blank_lines=True,\n",
      "        quotechar='\"',\n",
      "        verbose=False,\n",
      "        low_memory=True\n",
      "    )\n",
      "    return df\n"
     ]
    }
   ],
   "source": [
    "f=open(templateFullName,'r')\n",
    "fcontents = f.read()\n",
    "f.close()\n",
    "print(fcontents)"
   ]
  },
  {
   "cell_type": "code",
   "execution_count": 4,
   "metadata": {},
   "outputs": [
    {
     "name": "stdout",
     "output_type": "stream",
     "text": [
      "def InputData():\n",
      "\timport pandas as pd\n",
      "\timport os\n",
      "\n",
      "\tdirname='../900-Crawler-Data-Pond/100-Raw-Zone'\n",
      "\tfilename='Firstname-Data.csv'\n",
      "\tsetsep=','\n",
      "\n",
      "\tfullfilename=os.path.abspath(os.path.join(dirname, filename))\n",
      "    df=pd.read_csv(\n",
      "        fullfilename,\n",
      "        header=0,\n",
      "        sep=setsep,\n",
      "        encoding='latin1',\n",
      "        skip_blank_lines=True,\n",
      "        quotechar='\"',\n",
      "        verbose=False,\n",
      "        low_memory=True\n",
      "    )\n",
      "    return df\n"
     ]
    }
   ],
   "source": [
    "t = Template(fcontents)\n",
    "fmapcontents=t.render(\n",
    "    SetInputDir='../900-Crawler-Data-Pond/100-Raw-Zone',\n",
    "    SetInputFile='Firstname-Data.csv', \n",
    "    SetSep=','\n",
    ")\n",
    "print(fmapcontents)"
   ]
  },
  {
   "cell_type": "code",
   "execution_count": 5,
   "metadata": {},
   "outputs": [
    {
     "data": {
      "text/plain": [
       "'C:\\\\Users\\\\sirve\\\\Documents\\\\GitRaptorQube\\\\RIF\\\\MyPhD\\\\jupyter\\\\EvoCrawler\\\\0100-Crawler-Hatchery\\\\300-Crawler-Input-Definitions\\\\CI-000000001.txt'"
      ]
     },
     "execution_count": 5,
     "metadata": {},
     "output_type": "execute_result"
    }
   ],
   "source": [
    "defDir = '../../0100-Crawler-Hatchery/300-Crawler-Input-Definitions'\n",
    "defName = 'CI-000000001.txt'\n",
    "defFullName=os.path.abspath(os.path.join(defDir, defName))\n",
    "defFullName"
   ]
  },
  {
   "cell_type": "code",
   "execution_count": 6,
   "metadata": {},
   "outputs": [],
   "source": [
    "f=open(defFullName,'w')\n",
    "f.write('#'*80)\n",
    "f.write('\\n')\n",
    "f.write('Andreas Francois Vermeulen\\n')\n",
    "f.write('#'*80)\n",
    "f.write('\\n')\n",
    "f.write('Crawler Input: %s\\n' % defName)\n",
    "f.write('#'*80)\n",
    "f.write('\\n')\n",
    "f.write(fmapcontents)\n",
    "f.write('\\n')\n",
    "f.write('#'*80)\n",
    "f.write('\\n')\n",
    "f.close()"
   ]
  },
  {
   "cell_type": "markdown",
   "metadata": {},
   "source": [
    "# Process Template"
   ]
  },
  {
   "cell_type": "code",
   "execution_count": 7,
   "metadata": {},
   "outputs": [
    {
     "data": {
      "text/plain": [
       "'C:\\\\Users\\\\sirve\\\\Documents\\\\GitRaptorQube\\\\RIF\\\\MyPhD\\\\jupyter\\\\EvoCrawler\\\\0000-Crawler-Control-Center\\\\0000-Crawler-Setup\\\\0100-Crawler-Template\\\\400-Crawler-Process-Templates\\\\0400-Crawler-Process-Template-000001.jinja'"
      ]
     },
     "execution_count": 7,
     "metadata": {},
     "output_type": "execute_result"
    }
   ],
   "source": [
    "templateDir='./0100-Crawler-Template/400-Crawler-Process-Templates'\n",
    "templateName='0400-Crawler-Process-Template-000001.jinja'\n",
    "templateFullName=os.path.abspath(os.path.join(templateDir, templateName))\n",
    "templateFullName"
   ]
  },
  {
   "cell_type": "code",
   "execution_count": 8,
   "metadata": {},
   "outputs": [
    {
     "name": "stdout",
     "output_type": "stream",
     "text": [
      "def trimData(sValueIn):\n",
      "\tsValueOut = str(sValueIn).strip()\n",
      "\treturn sValueOut\n",
      "\n",
      "def ProcessData(df):\n",
      "\timport pandas as pd\n",
      "\tsetinputcolumn='{{SetInputColumnName}}'\n",
      "\tsetoutputcolumn='{{SetOutputColumnName}}'\t\n",
      "\tdf2=df.copy(deep=True)\t\n",
      "\tdf2[setoutputcolumn]=df2.apply(lambda row: trimData(row[setinputcolumn]), axis=1)\n",
      "\treturn df2\t\n"
     ]
    }
   ],
   "source": [
    "f=open(templateFullName,'r')\n",
    "fcontents = f.read()\n",
    "f.close()\n",
    "print(fcontents)"
   ]
  },
  {
   "cell_type": "code",
   "execution_count": 9,
   "metadata": {},
   "outputs": [
    {
     "name": "stdout",
     "output_type": "stream",
     "text": [
      "def trimData(sValueIn):\n",
      "\tsValueOut = str(sValueIn).strip()\n",
      "\treturn sValueOut\n",
      "\n",
      "def ProcessData(df):\n",
      "\timport pandas as pd\n",
      "\tsetinputcolumn='AndreInput'\n",
      "\tsetoutputcolumn='AndreOutput'\t\n",
      "\tdf2=df.copy(deep=True)\t\n",
      "\tdf2[setoutputcolumn]=df2.apply(lambda row: trimData(row[setinputcolumn]), axis=1)\n",
      "\treturn df2\t\n"
     ]
    }
   ],
   "source": [
    "t = Template(fcontents)\n",
    "fmapcontents=t.render(\n",
    "    SetInputColumnName='AndreInput',\n",
    "    SetOutputColumnName='AndreOutput')\n",
    "print(fmapcontents)"
   ]
  },
  {
   "cell_type": "code",
   "execution_count": 10,
   "metadata": {},
   "outputs": [
    {
     "data": {
      "text/plain": [
       "'C:\\\\Users\\\\sirve\\\\Documents\\\\GitRaptorQube\\\\RIF\\\\MyPhD\\\\jupyter\\\\EvoCrawler\\\\0100-Crawler-Hatchery\\\\400-Crawler-Process-Definitions\\\\PC-000000001.txt'"
      ]
     },
     "execution_count": 10,
     "metadata": {},
     "output_type": "execute_result"
    }
   ],
   "source": [
    "defDir = '../../0100-Crawler-Hatchery/400-Crawler-Process-Definitions'\n",
    "defName = 'PC-000000001.txt'\n",
    "defFullName=os.path.abspath(os.path.join(defDir, defName))\n",
    "defFullName"
   ]
  },
  {
   "cell_type": "code",
   "execution_count": 11,
   "metadata": {},
   "outputs": [],
   "source": [
    "f=open(defFullName,'w')\n",
    "f.write('#'*80)\n",
    "f.write('\\n')\n",
    "f.write('Andreas Francois Vermeulen\\n')\n",
    "f.write('#'*80)\n",
    "f.write('\\n')\n",
    "f.write('Crawler Process: %s\\n' % defName)\n",
    "f.write('#'*80)\n",
    "f.write('\\n')\n",
    "f.write(fmapcontents)\n",
    "f.write('\\n')\n",
    "f.write('#'*80)\n",
    "f.write('\\n')\n",
    "f.close()"
   ]
  },
  {
   "cell_type": "markdown",
   "metadata": {},
   "source": [
    "# Output Template"
   ]
  },
  {
   "cell_type": "code",
   "execution_count": 12,
   "metadata": {},
   "outputs": [
    {
     "data": {
      "text/plain": [
       "'C:\\\\Users\\\\sirve\\\\Documents\\\\GitRaptorQube\\\\RIF\\\\MyPhD\\\\jupyter\\\\EvoCrawler\\\\0000-Crawler-Control-Center\\\\0000-Crawler-Setup\\\\0100-Crawler-Template\\\\500-Crawler-Output-Templates\\\\0500-Crawler-Output-Template-000001.jinja'"
      ]
     },
     "execution_count": 12,
     "metadata": {},
     "output_type": "execute_result"
    }
   ],
   "source": [
    "templateDir='./0100-Crawler-Template/500-Crawler-Output-Templates'\n",
    "templateName='0500-Crawler-Output-Template-000001.jinja'\n",
    "templateFullName=os.path.abspath(os.path.join(templateDir, templateName))\n",
    "templateFullName"
   ]
  },
  {
   "cell_type": "code",
   "execution_count": 13,
   "metadata": {},
   "outputs": [
    {
     "name": "stdout",
     "output_type": "stream",
     "text": [
      "def OutputData(df):\n",
      "\timport pandas as pd\n",
      "\timport os\n",
      "\n",
      "\tdirname='{{SetOutputDir}}'\n",
      "\tfilename='{{SetOutputFile}}'\n",
      "\tsetsep='{{SetSep}}'\n",
      "\n",
      "\tif not os.path.exists(dirname):\n",
      "\t\tprint('Creating new directory')\n",
      "\t\tprint(dirname)\n",
      "\t\tos.makedirs(dirname)\n",
      "\n",
      "\tfullfilename=os.path.abspath(os.path.join(dirname, filename))\n",
      "\n",
      "\tdf.to_csv(\n",
      "\t\tfullfilename,\n",
      "\t\theader=0,\n",
      "\t\tsep=setsep,\n",
      "\t\tencoding='latin1',\n",
      "\t\tquotechar='\"',\n",
      "\t\tverbose=False,\n",
      "\t\tlow_memory=True,\n",
      "\t\tindex=False\n",
      "\t)\n",
      "\n",
      "\treturn True\n"
     ]
    }
   ],
   "source": [
    "f=open(templateFullName,'r')\n",
    "fcontents = f.read()\n",
    "f.close()\n",
    "print(fcontents)"
   ]
  },
  {
   "cell_type": "code",
   "execution_count": 14,
   "metadata": {},
   "outputs": [
    {
     "name": "stdout",
     "output_type": "stream",
     "text": [
      "def OutputData(df):\n",
      "\timport pandas as pd\n",
      "\timport os\n",
      "\n",
      "\tdirname='../900-Crawler-Data-Pond/000-Workspace-Zone/WZ-000000001'\n",
      "\tfilename='AndreOutputData.csv'\n",
      "\tsetsep=','\n",
      "\n",
      "\tif not os.path.exists(dirname):\n",
      "\t\tprint('Creating new directory')\n",
      "\t\tprint(dirname)\n",
      "\t\tos.makedirs(dirname)\n",
      "\n",
      "\tfullfilename=os.path.abspath(os.path.join(dirname, filename))\n",
      "\n",
      "\tdf.to_csv(\n",
      "\t\tfullfilename,\n",
      "\t\theader=0,\n",
      "\t\tsep=setsep,\n",
      "\t\tencoding='latin1',\n",
      "\t\tquotechar='\"',\n",
      "\t\tverbose=False,\n",
      "\t\tlow_memory=True,\n",
      "\t\tindex=False\n",
      "\t)\n",
      "\n",
      "\treturn True\n"
     ]
    }
   ],
   "source": [
    "t = Template(fcontents)\n",
    "fmapcontents=t.render(\n",
    "    SetOutputDir='../900-Crawler-Data-Pond/000-Workspace-Zone/WZ-000000001',\n",
    "    SetOutputFile='AndreOutputData.csv',\n",
    "    SetSep=',')\n",
    "print(fmapcontents)"
   ]
  },
  {
   "cell_type": "code",
   "execution_count": 15,
   "metadata": {},
   "outputs": [
    {
     "data": {
      "text/plain": [
       "'C:\\\\Users\\\\sirve\\\\Documents\\\\GitRaptorQube\\\\RIF\\\\MyPhD\\\\jupyter\\\\EvoCrawler\\\\0100-Crawler-Hatchery\\\\500-Crawler-Output-Definitions\\\\CO-000000001.txt'"
      ]
     },
     "execution_count": 15,
     "metadata": {},
     "output_type": "execute_result"
    }
   ],
   "source": [
    "defDir = '../../0100-Crawler-Hatchery/500-Crawler-Output-Definitions'\n",
    "defName = 'CO-000000001.txt'\n",
    "defFullName=os.path.abspath(os.path.join(defDir, defName))\n",
    "defFullName"
   ]
  },
  {
   "cell_type": "code",
   "execution_count": 16,
   "metadata": {},
   "outputs": [],
   "source": [
    "f=open(defFullName,'w')\n",
    "f.write('#'*80)\n",
    "f.write('\\n')\n",
    "f.write('Andreas Francois Vermeulen\\n')\n",
    "f.write('#'*80)\n",
    "f.write('\\n')\n",
    "f.write('Crawler Output: %s\\n' % defName)\n",
    "f.write('#'*80)\n",
    "f.write('\\n')\n",
    "f.write(fmapcontents)\n",
    "f.write('\\n')\n",
    "f.write('#'*80)\n",
    "f.write('\\n')\n",
    "f.close()"
   ]
  },
  {
   "cell_type": "code",
   "execution_count": 17,
   "metadata": {},
   "outputs": [
    {
     "name": "stdout",
     "output_type": "stream",
     "text": [
      "Done!\n"
     ]
    }
   ],
   "source": [
    "print('Done!')"
   ]
  },
  {
   "cell_type": "code",
   "execution_count": null,
   "metadata": {},
   "outputs": [],
   "source": []
  }
 ],
 "metadata": {
  "kernelspec": {
   "display_name": "Python 3",
   "language": "python",
   "name": "python3"
  },
  "language_info": {
   "codemirror_mode": {
    "name": "ipython",
    "version": 3
   },
   "file_extension": ".py",
   "mimetype": "text/x-python",
   "name": "python",
   "nbconvert_exporter": "python",
   "pygments_lexer": "ipython3",
   "version": "3.7.3"
  }
 },
 "nbformat": 4,
 "nbformat_minor": 2
}
