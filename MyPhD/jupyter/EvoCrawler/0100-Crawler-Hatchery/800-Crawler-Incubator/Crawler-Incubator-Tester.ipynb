{
 "cells": [
  {
   "cell_type": "code",
   "execution_count": 1,
   "metadata": {},
   "outputs": [],
   "source": [
    "def InputData():\n",
    "    import pandas as pd\n",
    "    import os\n",
    "\n",
    "    dirname='../900-Crawler-Data-Pond/100-Raw-Zone'\n",
    "    filename='Firstname-Data.csv'\n",
    "    setsep=','\n",
    "\n",
    "    fullfilename=os.path.abspath(os.path.join(dirname, filename))\n",
    "    df=pd.read_csv(\n",
    "        fullfilename,\n",
    "        header=0,\n",
    "        sep=setsep,\n",
    "        encoding='latin1',\n",
    "        skip_blank_lines=True,\n",
    "        quotechar='\"',\n",
    "        verbose=False,\n",
    "        low_memory=True\n",
    "    )\n",
    "    return df"
   ]
  },
  {
   "cell_type": "code",
   "execution_count": 2,
   "metadata": {},
   "outputs": [],
   "source": [
    "def trimData(sValueIn):\n",
    "    sValueOut = str(sValueIn).strip().capitalize()\n",
    "    return sValueOut\n",
    "    \n",
    "def ProcessData(df):\n",
    "    import pandas as pd\n",
    "    setinputcolumn='FirstName'\n",
    "    setoutputcolumn='FirstNameOutput'\n",
    "    df2=df.copy(deep=True)\n",
    "    df2[setoutputcolumn]=df2.apply(lambda row: trimData(row[setinputcolumn]), axis=1)\n",
    "    return df2"
   ]
  },
  {
   "cell_type": "code",
   "execution_count": 3,
   "metadata": {},
   "outputs": [],
   "source": [
    "def OutputData(df):\n",
    "    import pandas as pd\n",
    "    import os\n",
    "\n",
    "    dirname='../900-Crawler-Data-Pond/000-Workspace-Zone/WZ-000000001'\n",
    "    filename='AndreOutputData.csv'\n",
    "    setsep=','\n",
    "    \n",
    "    if not os.path.exists(dirname):\n",
    "        print('Creating new directory')\n",
    "        print(dirname)\n",
    "        os.makedirs(dirname)\n",
    "\n",
    "    fullfilename=os.path.abspath(os.path.join(dirname, filename))\n",
    "    df.to_csv(\n",
    "        fullfilename,\n",
    "        header=True,\n",
    "        sep=setsep,\n",
    "        encoding='latin1',\n",
    "        quotechar='\"',\n",
    "        index=False\n",
    "    )\n",
    "    return True"
   ]
  },
  {
   "cell_type": "code",
   "execution_count": 4,
   "metadata": {},
   "outputs": [],
   "source": [
    "df=InputData()"
   ]
  },
  {
   "cell_type": "code",
   "execution_count": 5,
   "metadata": {},
   "outputs": [],
   "source": [
    "df2=ProcessData(df)"
   ]
  },
  {
   "cell_type": "code",
   "execution_count": 6,
   "metadata": {},
   "outputs": [],
   "source": [
    "r=OutputData(df2)"
   ]
  },
  {
   "cell_type": "code",
   "execution_count": 7,
   "metadata": {},
   "outputs": [
    {
     "data": {
      "text/plain": [
       "(29668, 5)"
      ]
     },
     "execution_count": 7,
     "metadata": {},
     "output_type": "execute_result"
    }
   ],
   "source": [
    "df2.shape"
   ]
  },
  {
   "cell_type": "code",
   "execution_count": 8,
   "metadata": {},
   "outputs": [
    {
     "data": {
      "text/plain": [
       "Index(['index', 'FirstName', 'Cnt', 'Sex', 'FirstNameOutput'], dtype='object')"
      ]
     },
     "execution_count": 8,
     "metadata": {},
     "output_type": "execute_result"
    }
   ],
   "source": [
    "df2.columns"
   ]
  },
  {
   "cell_type": "code",
   "execution_count": 9,
   "metadata": {},
   "outputs": [
    {
     "data": {
      "text/html": [
       "<div>\n",
       "<style scoped>\n",
       "    .dataframe tbody tr th:only-of-type {\n",
       "        vertical-align: middle;\n",
       "    }\n",
       "\n",
       "    .dataframe tbody tr th {\n",
       "        vertical-align: top;\n",
       "    }\n",
       "\n",
       "    .dataframe thead th {\n",
       "        text-align: right;\n",
       "    }\n",
       "</style>\n",
       "<table border=\"1\" class=\"dataframe\">\n",
       "  <thead>\n",
       "    <tr style=\"text-align: right;\">\n",
       "      <th></th>\n",
       "      <th>index</th>\n",
       "      <th>FirstName</th>\n",
       "      <th>Cnt</th>\n",
       "      <th>Sex</th>\n",
       "      <th>FirstNameOutput</th>\n",
       "    </tr>\n",
       "  </thead>\n",
       "  <tbody>\n",
       "    <tr>\n",
       "      <th>0</th>\n",
       "      <td>0</td>\n",
       "      <td>HARRY                                         ...</td>\n",
       "      <td>7,523</td>\n",
       "      <td>Male</td>\n",
       "      <td>Harry</td>\n",
       "    </tr>\n",
       "    <tr>\n",
       "      <th>1</th>\n",
       "      <td>1</td>\n",
       "      <td>OLIVER</td>\n",
       "      <td>7,007</td>\n",
       "      <td>Male</td>\n",
       "      <td>Oliver</td>\n",
       "    </tr>\n",
       "    <tr>\n",
       "      <th>2</th>\n",
       "      <td>2</td>\n",
       "      <td>JACK</td>\n",
       "      <td>6,844</td>\n",
       "      <td>Male</td>\n",
       "      <td>Jack</td>\n",
       "    </tr>\n",
       "    <tr>\n",
       "      <th>3</th>\n",
       "      <td>3</td>\n",
       "      <td>ALFIE</td>\n",
       "      <td>5,524</td>\n",
       "      <td>Male</td>\n",
       "      <td>Alfie</td>\n",
       "    </tr>\n",
       "    <tr>\n",
       "      <th>4</th>\n",
       "      <td>4</td>\n",
       "      <td>CHARLIE</td>\n",
       "      <td>5,516</td>\n",
       "      <td>Male</td>\n",
       "      <td>Charlie</td>\n",
       "    </tr>\n",
       "  </tbody>\n",
       "</table>\n",
       "</div>"
      ],
      "text/plain": [
       "   index                                          FirstName    Cnt   Sex  \\\n",
       "0      0  HARRY                                         ...  7,523  Male   \n",
       "1      1                                             OLIVER  7,007  Male   \n",
       "2      2                                               JACK  6,844  Male   \n",
       "3      3                                              ALFIE  5,524  Male   \n",
       "4      4                                            CHARLIE  5,516  Male   \n",
       "\n",
       "  FirstNameOutput  \n",
       "0           Harry  \n",
       "1          Oliver  \n",
       "2            Jack  \n",
       "3           Alfie  \n",
       "4         Charlie  "
      ]
     },
     "execution_count": 9,
     "metadata": {},
     "output_type": "execute_result"
    }
   ],
   "source": [
    "df2.head()"
   ]
  },
  {
   "cell_type": "code",
   "execution_count": null,
   "metadata": {},
   "outputs": [],
   "source": []
  }
 ],
 "metadata": {
  "kernelspec": {
   "display_name": "Python 3",
   "language": "python",
   "name": "python3"
  },
  "language_info": {
   "codemirror_mode": {
    "name": "ipython",
    "version": 3
   },
   "file_extension": ".py",
   "mimetype": "text/x-python",
   "name": "python",
   "nbconvert_exporter": "python",
   "pygments_lexer": "ipython3",
   "version": "3.7.3"
  }
 },
 "nbformat": 4,
 "nbformat_minor": 2
}
