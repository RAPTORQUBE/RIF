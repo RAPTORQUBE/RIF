{
 "cells": [
  {
   "cell_type": "markdown",
   "metadata": {},
   "source": [
    "![raptorQube](./images/raptorqube.jpg)"
   ]
  },
  {
   "cell_type": "markdown",
   "metadata": {},
   "source": [
    "# Andreas Francois Vermeulen"
   ]
  },
  {
   "cell_type": "markdown",
   "metadata": {},
   "source": [
    "![Vermeulen](./images/vermeulen.png)"
   ]
  },
  {
   "cell_type": "markdown",
   "metadata": {},
   "source": [
    "### Supervisors: Dr Juliana Kuster Filipe Bowles / Dr Vladimir Janjic - University of St Andrews"
   ]
  },
  {
   "cell_type": "markdown",
   "metadata": {},
   "source": [
    "![St Andrews](./images/standrews.jpg)"
   ]
  },
  {
   "cell_type": "markdown",
   "metadata": {},
   "source": [
    "![raptorQube](./images/raptorqube2.jpg)"
   ]
  },
  {
   "cell_type": "markdown",
   "metadata": {},
   "source": [
    "# Crawler-Chromosome Builder"
   ]
  },
  {
   "cell_type": "markdown",
   "metadata": {},
   "source": [
    "![Crawler](./images/BasicCrawlerSmall.png)"
   ]
  },
  {
   "cell_type": "markdown",
   "metadata": {},
   "source": [
    "## DNA Builder"
   ]
  },
  {
   "cell_type": "code",
   "execution_count": 1,
   "metadata": {},
   "outputs": [],
   "source": [
    "import itertools as it\n",
    "import numpy as np\n",
    "import sqlite3 as sq\n",
    "from sqlite3 import Error\n",
    "import os\n",
    "import pandas as pd"
   ]
  },
  {
   "cell_type": "code",
   "execution_count": 2,
   "metadata": {},
   "outputs": [],
   "source": [
    "newstart=False"
   ]
  },
  {
   "cell_type": "markdown",
   "metadata": {},
   "source": [
    "![Crawler](./images/crawler.png)"
   ]
  },
  {
   "cell_type": "markdown",
   "metadata": {},
   "source": [
    "### Crawler Build"
   ]
  },
  {
   "cell_type": "code",
   "execution_count": 3,
   "metadata": {},
   "outputs": [],
   "source": [
    "i=list(range(1,21,1))\n",
    "inputChromosomeList = ['IC-%06d' % x for x in i]"
   ]
  },
  {
   "cell_type": "code",
   "execution_count": 4,
   "metadata": {},
   "outputs": [],
   "source": [
    "p=list(range(1,31,1))\n",
    "processChromosomeList = ['PC-%06d' % x for x in p]"
   ]
  },
  {
   "cell_type": "code",
   "execution_count": 5,
   "metadata": {},
   "outputs": [],
   "source": [
    "o=list(range(1,11,1))\n",
    "outputChromosomeList = ['OC-%06d' % x for x in o]"
   ]
  },
  {
   "cell_type": "code",
   "execution_count": 6,
   "metadata": {},
   "outputs": [
    {
     "data": {
      "text/plain": [
       "(6000, 3)"
      ]
     },
     "execution_count": 6,
     "metadata": {},
     "output_type": "execute_result"
    }
   ],
   "source": [
    "cw=np.array(tuple(it.product(inputChromosomeList, processChromosomeList, outputChromosomeList)))\n",
    "cw.shape"
   ]
  },
  {
   "cell_type": "code",
   "execution_count": 7,
   "metadata": {},
   "outputs": [],
   "source": [
    "a=list(range(1,cw.shape[0]+1,1))"
   ]
  },
  {
   "cell_type": "code",
   "execution_count": 8,
   "metadata": {},
   "outputs": [
    {
     "data": {
      "text/plain": [
       "(6000,)"
      ]
     },
     "execution_count": 8,
     "metadata": {},
     "output_type": "execute_result"
    }
   ],
   "source": [
    "crawlerChromosomeList = np.array(tuple(['CW-%09d' % x for x in a]))\n",
    "crawlerChromosomeList.shape"
   ]
  },
  {
   "cell_type": "code",
   "execution_count": 9,
   "metadata": {},
   "outputs": [
    {
     "data": {
      "text/plain": [
       "(6000,)"
      ]
     },
     "execution_count": 9,
     "metadata": {},
     "output_type": "execute_result"
    }
   ],
   "source": [
    "yokeControlChromosomeList  = np.array(tuple(['CCY-%09d' % x for x in a]))\n",
    "yokeControlChromosomeList.shape"
   ]
  },
  {
   "cell_type": "code",
   "execution_count": 10,
   "metadata": {},
   "outputs": [
    {
     "data": {
      "text/plain": [
       "(6000, 5)"
      ]
     },
     "execution_count": 10,
     "metadata": {},
     "output_type": "execute_result"
    }
   ],
   "source": [
    "crawler = np.column_stack((crawlerChromosomeList,yokeControlChromosomeList,cw))\n",
    "crawler.shape"
   ]
  },
  {
   "cell_type": "code",
   "execution_count": 11,
   "metadata": {},
   "outputs": [
    {
     "data": {
      "text/plain": [
       "array(['CW-000000002', 'CCY-000000002', 'IC-000001', 'PC-000001',\n",
       "       'OC-000002'], dtype='<U13')"
      ]
     },
     "execution_count": 11,
     "metadata": {},
     "output_type": "execute_result"
    }
   ],
   "source": [
    "crawler[1]"
   ]
  },
  {
   "cell_type": "markdown",
   "metadata": {},
   "source": [
    "### Yoke Build"
   ]
  },
  {
   "cell_type": "code",
   "execution_count": 12,
   "metadata": {},
   "outputs": [
    {
     "data": {
      "text/plain": [
       "(6000,)"
      ]
     },
     "execution_count": 12,
     "metadata": {},
     "output_type": "execute_result"
    }
   ],
   "source": [
    "yokeMasterChromosomeList  = np.array(tuple(['CMY-%09d' % 1 for x in a]))\n",
    "yokeMasterChromosomeList.shape"
   ]
  },
  {
   "cell_type": "code",
   "execution_count": 13,
   "metadata": {},
   "outputs": [
    {
     "data": {
      "text/plain": [
       "(6000,)"
      ]
     },
     "execution_count": 13,
     "metadata": {},
     "output_type": "execute_result"
    }
   ],
   "source": [
    "yokeSlaveChromosomeList  = np.array(tuple(['CSY-%09d' % x for x in a]))\n",
    "yokeSlaveChromosomeList.shape"
   ]
  },
  {
   "cell_type": "code",
   "execution_count": 14,
   "metadata": {},
   "outputs": [
    {
     "data": {
      "text/plain": [
       "(6000, 2)"
      ]
     },
     "execution_count": 14,
     "metadata": {},
     "output_type": "execute_result"
    }
   ],
   "source": [
    "yoke = np.column_stack((yokeMasterChromosomeList,yokeSlaveChromosomeList))\n",
    "yoke.shape"
   ]
  },
  {
   "cell_type": "code",
   "execution_count": 15,
   "metadata": {},
   "outputs": [
    {
     "data": {
      "text/plain": [
       "array(['CMY-000000001', 'CSY-000000002'], dtype='<U13')"
      ]
     },
     "execution_count": 15,
     "metadata": {},
     "output_type": "execute_result"
    }
   ],
   "source": [
    "yoke[1]"
   ]
  },
  {
   "cell_type": "markdown",
   "metadata": {},
   "source": [
    "## DNA Build"
   ]
  },
  {
   "cell_type": "code",
   "execution_count": 16,
   "metadata": {},
   "outputs": [],
   "source": [
    "dna = np.column_stack((yoke,crawler))"
   ]
  },
  {
   "cell_type": "code",
   "execution_count": 17,
   "metadata": {},
   "outputs": [
    {
     "data": {
      "text/plain": [
       "(6000, 7)"
      ]
     },
     "execution_count": 17,
     "metadata": {},
     "output_type": "execute_result"
    }
   ],
   "source": [
    "dna.shape"
   ]
  },
  {
   "cell_type": "code",
   "execution_count": 18,
   "metadata": {},
   "outputs": [
    {
     "data": {
      "text/plain": [
       "array(['CMY-000000001', 'CSY-000000002', 'CW-000000002', 'CCY-000000002',\n",
       "       'IC-000001', 'PC-000001', 'OC-000002'], dtype='<U13')"
      ]
     },
     "execution_count": 18,
     "metadata": {},
     "output_type": "execute_result"
    }
   ],
   "source": [
    "dna[1]"
   ]
  },
  {
   "cell_type": "markdown",
   "metadata": {},
   "source": [
    "## Store Crawlers"
   ]
  },
  {
   "cell_type": "code",
   "execution_count": 19,
   "metadata": {},
   "outputs": [
    {
     "name": "stdout",
     "output_type": "stream",
     "text": [
      "Using RIF directory\n",
      "C:\\Users\\sirve\\Documents\\My PhD\\jupyter\\Crawler-Chromosome\\000-RIF\n"
     ]
    }
   ],
   "source": [
    "rifDirName=os.path.abspath('./000-RIF')\n",
    "if not os.path.exists(rifDirName):\n",
    "    print('Creating new RIF directory')\n",
    "    print(rifDirName)\n",
    "    os.makedirs(rifDirName)\n",
    "else:\n",
    "    print('Using RIF directory')\n",
    "    print(rifDirName)"
   ]
  },
  {
   "cell_type": "code",
   "execution_count": 20,
   "metadata": {},
   "outputs": [
    {
     "name": "stdout",
     "output_type": "stream",
     "text": [
      "Using RIF:Functional-Layer directory\n",
      "C:\\Users\\sirve\\Documents\\My PhD\\jupyter\\Crawler-Chromosome\\000-RIF\\100-Functional-Layer\n"
     ]
    }
   ],
   "source": [
    "funcDirName=os.path.join(rifDirName,'100-Functional-Layer')\n",
    "if not os.path.exists(funcDirName):\n",
    "    print('Creating new RIF:Functional-Layer directory')\n",
    "    print(funcDirName)\n",
    "    os.makedirs(funcDirName)\n",
    "else:\n",
    "    print('Using RIF:Functional-Layer directory')\n",
    "    print(funcDirName)"
   ]
  },
  {
   "cell_type": "code",
   "execution_count": 21,
   "metadata": {},
   "outputs": [
    {
     "name": "stdout",
     "output_type": "stream",
     "text": [
      "\n",
      "Using RIF:Operational-Management-Layer directory - 100-Crawler-Master-Service-Definitions\n",
      "C:\\Users\\sirve\\Documents\\My PhD\\jupyter\\Crawler-Chromosome\\000-RIF\\200-Operational-Management-Layer\\100-Crawler-Definitions\\100-Crawler-Master-Service-Definitions\n",
      "\n",
      "Using RIF:Operational-Management-Layer directory - 200-Crawler-Yoke-Definitions\n",
      "C:\\Users\\sirve\\Documents\\My PhD\\jupyter\\Crawler-Chromosome\\000-RIF\\200-Operational-Management-Layer\\100-Crawler-Definitions\\200-Crawler-Yoke-Definitions\n",
      "\n",
      "Using RIF:Operational-Management-Layer directory - 300-Crawler-Input-Definitions\n",
      "C:\\Users\\sirve\\Documents\\My PhD\\jupyter\\Crawler-Chromosome\\000-RIF\\200-Operational-Management-Layer\\100-Crawler-Definitions\\300-Crawler-Input-Definitions\n",
      "\n",
      "Using RIF:Operational-Management-Layer directory - 400-Crawler-Process-Definitions\n",
      "C:\\Users\\sirve\\Documents\\My PhD\\jupyter\\Crawler-Chromosome\\000-RIF\\200-Operational-Management-Layer\\100-Crawler-Definitions\\400-Crawler-Process-Definitions\n",
      "\n",
      "Using RIF:Operational-Management-Layer directory - 500-Crawler-Output-Definitions\n",
      "C:\\Users\\sirve\\Documents\\My PhD\\jupyter\\Crawler-Chromosome\\000-RIF\\200-Operational-Management-Layer\\100-Crawler-Definitions\\500-Crawler-Output-Definitions\n"
     ]
    }
   ],
   "source": [
    "opsDirList = [\n",
    "    '100-Crawler-Master-Service-Definitions',\n",
    "    '200-Crawler-Yoke-Definitions',\n",
    "    '300-Crawler-Input-Definitions',\n",
    "    '400-Crawler-Process-Definitions',\n",
    "    '500-Crawler-Output-Definitions'\n",
    "]\n",
    "for opsDir in opsDirList:\n",
    "    opsDirName=os.path.join(rifDirName, '200-Operational-Management-Layer', '100-Crawler-Definitions', opsDir)\n",
    "    if not os.path.exists(opsDirName):\n",
    "        print('\\nCreating new RIF:Operational-Management-Layer directory - %s' % opsDir)\n",
    "        print(opsDirName)\n",
    "        os.makedirs(opsDirName)\n",
    "    else:\n",
    "        print('\\nUsing RIF:Operational-Management-Layer directory - %s' % opsDir)\n",
    "        print(opsDirName)"
   ]
  },
  {
   "cell_type": "markdown",
   "metadata": {},
   "source": [
    "## Generate Base Master-Service-Definitions"
   ]
  },
  {
   "cell_type": "code",
   "execution_count": 22,
   "metadata": {},
   "outputs": [],
   "source": [
    "def create_connection(db_file):\n",
    "    \"\"\" create a database connection to a SQLite database \"\"\"\n",
    "    try:\n",
    "        conn = sq.connect(db_file)\n",
    "        return sq.version\n",
    "    except Error as e:\n",
    "        print(e)\n",
    "    finally:\n",
    "        conn.close()"
   ]
  },
  {
   "cell_type": "code",
   "execution_count": 23,
   "metadata": {},
   "outputs": [
    {
     "name": "stdout",
     "output_type": "stream",
     "text": [
      "./000-RIF/200-Operational-Management-Layer/100-Crawler-Definitions/100-Crawler-Master-Service-Definitions/Crawler-Master-Service-Definitions.db\n"
     ]
    }
   ],
   "source": [
    "dbnamedir='./000-RIF/200-Operational-Management-Layer/100-Crawler-Definitions/100-Crawler-Master-Service-Definitions/'\n",
    "dbname='Crawler-Master-Service-Definitions.db'\n",
    "dbfullname=os.path.join(dbnamedir, dbname)\n",
    "print(dbfullname)"
   ]
  },
  {
   "cell_type": "code",
   "execution_count": 24,
   "metadata": {},
   "outputs": [
    {
     "name": "stdout",
     "output_type": "stream",
     "text": [
      "Using DB: ./000-RIF/200-Operational-Management-Layer/100-Crawler-Definitions/100-Crawler-Master-Service-Definitions/Crawler-Master-Service-Definitions.db\n"
     ]
    }
   ],
   "source": [
    "if newstart: \n",
    "    if not os.path.exists(dbfullname):\n",
    "        print('Create DB: %s - %s' % (dbfullname, create_connection(dbfullname)))\n",
    "    else:\n",
    "        print('Remove DB: %s' % dbfullname)\n",
    "        os.remove(dbfullname)\n",
    "        print('Create DB: %s - %s' % (dbfullname, create_connection(dbfullname)))\n",
    "else:\n",
    "    print('Using DB: %s' % dbfullname)"
   ]
  },
  {
   "cell_type": "code",
   "execution_count": 25,
   "metadata": {},
   "outputs": [
    {
     "name": "stdout",
     "output_type": "stream",
     "text": [
      "(6000, 7)\n",
      "Index(['CrawlerMasterYoke', 'CrawlerSlaveYoke', 'CrawlerName',\n",
      "       'CrawlerControlYoke', 'CrawlerInputChromosome',\n",
      "       'CrawlerProcessChromosome', 'CrawlerOutputChromosome'],\n",
      "      dtype='object')\n"
     ]
    }
   ],
   "source": [
    "df = pd.DataFrame(dna)\n",
    "\n",
    "columnnames=['CrawlerMasterYoke',\n",
    "             'CrawlerSlaveYoke',\n",
    "             'CrawlerName',\n",
    "             'CrawlerControlYoke',\n",
    "             'CrawlerInputChromosome',\n",
    "             'CrawlerProcessChromosome',\n",
    "             'CrawlerOutputChromosome'\n",
    "            ]\n",
    "\n",
    "df.columns = columnnames\n",
    "\n",
    "print(df.shape)\n",
    "print(df.columns)"
   ]
  },
  {
   "cell_type": "code",
   "execution_count": 26,
   "metadata": {},
   "outputs": [
    {
     "data": {
      "text/html": [
       "<div>\n",
       "<style scoped>\n",
       "    .dataframe tbody tr th:only-of-type {\n",
       "        vertical-align: middle;\n",
       "    }\n",
       "\n",
       "    .dataframe tbody tr th {\n",
       "        vertical-align: top;\n",
       "    }\n",
       "\n",
       "    .dataframe thead th {\n",
       "        text-align: right;\n",
       "    }\n",
       "</style>\n",
       "<table border=\"1\" class=\"dataframe\">\n",
       "  <thead>\n",
       "    <tr style=\"text-align: right;\">\n",
       "      <th></th>\n",
       "      <th>CrawlerMasterYoke</th>\n",
       "      <th>CrawlerSlaveYoke</th>\n",
       "      <th>CrawlerName</th>\n",
       "      <th>CrawlerControlYoke</th>\n",
       "      <th>CrawlerInputChromosome</th>\n",
       "      <th>CrawlerProcessChromosome</th>\n",
       "      <th>CrawlerOutputChromosome</th>\n",
       "    </tr>\n",
       "  </thead>\n",
       "  <tbody>\n",
       "    <tr>\n",
       "      <th>0</th>\n",
       "      <td>CMY-000000001</td>\n",
       "      <td>CSY-000000001</td>\n",
       "      <td>CW-000000001</td>\n",
       "      <td>CCY-000000001</td>\n",
       "      <td>IC-000001</td>\n",
       "      <td>PC-000001</td>\n",
       "      <td>OC-000001</td>\n",
       "    </tr>\n",
       "    <tr>\n",
       "      <th>1</th>\n",
       "      <td>CMY-000000001</td>\n",
       "      <td>CSY-000000002</td>\n",
       "      <td>CW-000000002</td>\n",
       "      <td>CCY-000000002</td>\n",
       "      <td>IC-000001</td>\n",
       "      <td>PC-000001</td>\n",
       "      <td>OC-000002</td>\n",
       "    </tr>\n",
       "    <tr>\n",
       "      <th>2</th>\n",
       "      <td>CMY-000000001</td>\n",
       "      <td>CSY-000000003</td>\n",
       "      <td>CW-000000003</td>\n",
       "      <td>CCY-000000003</td>\n",
       "      <td>IC-000001</td>\n",
       "      <td>PC-000001</td>\n",
       "      <td>OC-000003</td>\n",
       "    </tr>\n",
       "    <tr>\n",
       "      <th>3</th>\n",
       "      <td>CMY-000000001</td>\n",
       "      <td>CSY-000000004</td>\n",
       "      <td>CW-000000004</td>\n",
       "      <td>CCY-000000004</td>\n",
       "      <td>IC-000001</td>\n",
       "      <td>PC-000001</td>\n",
       "      <td>OC-000004</td>\n",
       "    </tr>\n",
       "    <tr>\n",
       "      <th>4</th>\n",
       "      <td>CMY-000000001</td>\n",
       "      <td>CSY-000000005</td>\n",
       "      <td>CW-000000005</td>\n",
       "      <td>CCY-000000005</td>\n",
       "      <td>IC-000001</td>\n",
       "      <td>PC-000001</td>\n",
       "      <td>OC-000005</td>\n",
       "    </tr>\n",
       "  </tbody>\n",
       "</table>\n",
       "</div>"
      ],
      "text/plain": [
       "  CrawlerMasterYoke CrawlerSlaveYoke   CrawlerName CrawlerControlYoke  \\\n",
       "0     CMY-000000001    CSY-000000001  CW-000000001      CCY-000000001   \n",
       "1     CMY-000000001    CSY-000000002  CW-000000002      CCY-000000002   \n",
       "2     CMY-000000001    CSY-000000003  CW-000000003      CCY-000000003   \n",
       "3     CMY-000000001    CSY-000000004  CW-000000004      CCY-000000004   \n",
       "4     CMY-000000001    CSY-000000005  CW-000000005      CCY-000000005   \n",
       "\n",
       "  CrawlerInputChromosome CrawlerProcessChromosome CrawlerOutputChromosome  \n",
       "0              IC-000001                PC-000001               OC-000001  \n",
       "1              IC-000001                PC-000001               OC-000002  \n",
       "2              IC-000001                PC-000001               OC-000003  \n",
       "3              IC-000001                PC-000001               OC-000004  \n",
       "4              IC-000001                PC-000001               OC-000005  "
      ]
     },
     "execution_count": 26,
     "metadata": {},
     "output_type": "execute_result"
    }
   ],
   "source": [
    "df.head()"
   ]
  },
  {
   "cell_type": "code",
   "execution_count": 27,
   "metadata": {},
   "outputs": [],
   "source": [
    "conn = sq.connect(dbfullname)"
   ]
  },
  {
   "cell_type": "code",
   "execution_count": 28,
   "metadata": {},
   "outputs": [],
   "source": [
    "tablename='DNAData'\n",
    "df.to_sql(tablename, conn, schema='RIF0001', if_exists='replace', index=True)\n",
    "conn.commit()"
   ]
  },
  {
   "cell_type": "code",
   "execution_count": 29,
   "metadata": {},
   "outputs": [
    {
     "data": {
      "text/plain": [
       "Index(['CrawlerMasterYoke', 'CrawlerSlaveYoke', 'CrawlerName',\n",
       "       'CrawlerControlYoke', 'CrawlerInputChromosome',\n",
       "       'CrawlerProcessChromosome', 'CrawlerOutputChromosome'],\n",
       "      dtype='object')"
      ]
     },
     "execution_count": 29,
     "metadata": {},
     "output_type": "execute_result"
    }
   ],
   "source": [
    "df.columns"
   ]
  },
  {
   "cell_type": "code",
   "execution_count": null,
   "metadata": {},
   "outputs": [],
   "source": []
  },
  {
   "cell_type": "code",
   "execution_count": 30,
   "metadata": {
    "slideshow": {
     "slide_type": "fragment"
    }
   },
   "outputs": [
    {
     "name": "stdout",
     "output_type": "stream",
     "text": [
      "CrawlerMasterYokeData (1,)\n",
      "CrawlerSlaveYokeData (6000,)\n",
      "CrawlerNameData (6000,)\n",
      "CrawlerControlYokeData (6000,)\n",
      "CrawlerInputChromosomeData (20,)\n",
      "CrawlerProcessChromosomeData (30,)\n",
      "CrawlerOutputChromosomeData (10,)\n"
     ]
    }
   ],
   "source": [
    "for f in df.columns:\n",
    "    df2=df[f].copy(deep=True)\n",
    "    df2.drop_duplicates(keep='first', inplace=True)\n",
    "    df2.reset_index(level=None, drop=True, inplace=True)\n",
    "    tablename='%sData' % f\n",
    "    print(tablename, df2.shape)\n",
    "    df2.to_sql(tablename, conn, schema='RIF0001', if_exists='replace', index=True)\n",
    "    conn.commit()"
   ]
  },
  {
   "cell_type": "code",
   "execution_count": 31,
   "metadata": {},
   "outputs": [
    {
     "data": {
      "text/html": [
       "<div>\n",
       "<style scoped>\n",
       "    .dataframe tbody tr th:only-of-type {\n",
       "        vertical-align: middle;\n",
       "    }\n",
       "\n",
       "    .dataframe tbody tr th {\n",
       "        vertical-align: top;\n",
       "    }\n",
       "\n",
       "    .dataframe thead th {\n",
       "        text-align: right;\n",
       "    }\n",
       "</style>\n",
       "<table border=\"1\" class=\"dataframe\">\n",
       "  <thead>\n",
       "    <tr style=\"text-align: right;\">\n",
       "      <th></th>\n",
       "      <th>index</th>\n",
       "      <th>CrawlerInputChromosome</th>\n",
       "    </tr>\n",
       "  </thead>\n",
       "  <tbody>\n",
       "    <tr>\n",
       "      <th>0</th>\n",
       "      <td>0</td>\n",
       "      <td>IC-000001</td>\n",
       "    </tr>\n",
       "    <tr>\n",
       "      <th>1</th>\n",
       "      <td>1</td>\n",
       "      <td>IC-000002</td>\n",
       "    </tr>\n",
       "    <tr>\n",
       "      <th>2</th>\n",
       "      <td>2</td>\n",
       "      <td>IC-000003</td>\n",
       "    </tr>\n",
       "    <tr>\n",
       "      <th>3</th>\n",
       "      <td>3</td>\n",
       "      <td>IC-000004</td>\n",
       "    </tr>\n",
       "    <tr>\n",
       "      <th>4</th>\n",
       "      <td>4</td>\n",
       "      <td>IC-000005</td>\n",
       "    </tr>\n",
       "  </tbody>\n",
       "</table>\n",
       "</div>"
      ],
      "text/plain": [
       "   index CrawlerInputChromosome\n",
       "0      0              IC-000001\n",
       "1      1              IC-000002\n",
       "2      2              IC-000003\n",
       "3      3              IC-000004\n",
       "4      4              IC-000005"
      ]
     },
     "execution_count": 31,
     "metadata": {},
     "output_type": "execute_result"
    }
   ],
   "source": [
    "sSql='select * from CrawlerInputChromosomeData'\n",
    "df3=pd.read_sql(sSql, conn)\n",
    "df3.head()"
   ]
  },
  {
   "cell_type": "code",
   "execution_count": null,
   "metadata": {},
   "outputs": [],
   "source": []
  },
  {
   "cell_type": "code",
   "execution_count": null,
   "metadata": {},
   "outputs": [],
   "source": []
  },
  {
   "cell_type": "code",
   "execution_count": 32,
   "metadata": {},
   "outputs": [],
   "source": [
    "conn.close()"
   ]
  }
 ],
 "metadata": {
  "kernelspec": {
   "display_name": "Python 3",
   "language": "python",
   "name": "python3"
  },
  "language_info": {
   "codemirror_mode": {
    "name": "ipython",
    "version": 3
   },
   "file_extension": ".py",
   "mimetype": "text/x-python",
   "name": "python",
   "nbconvert_exporter": "python",
   "pygments_lexer": "ipython3",
   "version": "3.7.3"
  }
 },
 "nbformat": 4,
 "nbformat_minor": 2
}
