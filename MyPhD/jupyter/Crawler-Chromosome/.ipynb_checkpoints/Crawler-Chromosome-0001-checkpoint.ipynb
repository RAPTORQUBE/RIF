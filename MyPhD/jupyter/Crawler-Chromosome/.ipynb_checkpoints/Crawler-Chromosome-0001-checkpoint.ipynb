{
 "cells": [
  {
   "cell_type": "markdown",
   "metadata": {},
   "source": [
    "![raptorQube](./images/raptorqube.jpg)"
   ]
  },
  {
   "cell_type": "markdown",
   "metadata": {},
   "source": [
    "# Andreas Francois Vermeulen"
   ]
  },
  {
   "cell_type": "markdown",
   "metadata": {},
   "source": [
    "![Vermeulen](./images/vermeulen.png)"
   ]
  },
  {
   "cell_type": "markdown",
   "metadata": {},
   "source": [
    "### Supervisors: Dr Juliana Kuster Filipe Bowles / Dr Vladimir Janjic - University of St Andrews"
   ]
  },
  {
   "cell_type": "markdown",
   "metadata": {},
   "source": [
    "![St Andrews](./images/standrews.jpg)"
   ]
  },
  {
   "cell_type": "markdown",
   "metadata": {},
   "source": [
    "![raptorQube](./images/raptorqube2.jpg)"
   ]
  },
  {
   "cell_type": "markdown",
   "metadata": {},
   "source": [
    "# Crawler-Chromosome Builder"
   ]
  },
  {
   "cell_type": "markdown",
   "metadata": {},
   "source": [
    "![Crawler](./images/BasicCrawlerSmall.png)"
   ]
  },
  {
   "cell_type": "markdown",
   "metadata": {},
   "source": [
    "## DNA Builder"
   ]
  },
  {
   "cell_type": "code",
   "execution_count": 1,
   "metadata": {},
   "outputs": [],
   "source": [
    "import itertools as it\n",
    "import numpy as np\n",
    "import sqlite3 as sq\n",
    "from sqlite3 import Error\n",
    "import os\n",
    "import pandas as pd"
   ]
  },
  {
   "cell_type": "code",
   "execution_count": 2,
   "metadata": {},
   "outputs": [],
   "source": [
    "countries=np.array(\n",
    "    [\n",
    "            'Austria',\n",
    "            'Belgium',\n",
    "            'Bulgaria',\n",
    "            'Croatia',\n",
    "            'Cyprus',\n",
    "            'Czech Republic',\n",
    "            'Denmark',\n",
    "            'Estonia',\n",
    "            'Finland',\n",
    "            'France',\n",
    "            'Germany',\n",
    "            'Greece',\n",
    "            'Hungary',\n",
    "            'Ireland',\n",
    "            'Italy',\n",
    "            'Latvia',\n",
    "            'Lithuania',\n",
    "            'Luxembourg',\n",
    "            'Malta',\n",
    "            'Netherlands',\n",
    "            'Poland',\n",
    "            'Portugal',\n",
    "            'Romania',\n",
    "            'Slovakia',\n",
    "            'Slovenia',\n",
    "            'Spain',\n",
    "            'Sweden',\n",
    "            'United Kingdom'\n",
    "    ]\n",
    ")"
   ]
  },
  {
   "cell_type": "code",
   "execution_count": 3,
   "metadata": {},
   "outputs": [
    {
     "data": {
      "text/plain": [
       "(28,)"
      ]
     },
     "execution_count": 3,
     "metadata": {},
     "output_type": "execute_result"
    }
   ],
   "source": [
    "countries.shape"
   ]
  },
  {
   "cell_type": "code",
   "execution_count": 4,
   "metadata": {},
   "outputs": [],
   "source": [
    "newstart=False\n",
    "crawlerFormat = [countries.shape[0], 1, 1]\n",
    "\n",
    "rifDirName=os.path.abspath('./000-RIF')"
   ]
  },
  {
   "cell_type": "markdown",
   "metadata": {},
   "source": [
    "![Crawler](./images/crawler.png)"
   ]
  },
  {
   "cell_type": "markdown",
   "metadata": {},
   "source": [
    "## Extinct Crawlers"
   ]
  },
  {
   "cell_type": "code",
   "execution_count": 5,
   "metadata": {},
   "outputs": [
    {
     "name": "stdout",
     "output_type": "stream",
     "text": [
      "C:\\Users\\sirve\\Documents\\GitRaptorQube\\RIF\\MyPhD\\jupyter\\Crawler-Chromosome\\000-RIF\\200-Operational-Management-Layer\\100-Crawler-Definitions\\100-Crawler-Master-Service-Definitions\\Crawler-Master-Service-Definitions.db\n",
      "C:\\Users\\sirve\\Documents\\GitRaptorQube\\RIF\\MyPhD\\jupyter\\Crawler-Chromosome\\000-RIF\\200-Operational-Management-Layer\\100-Crawler-Definitions\\200-Crawler-Yoke-Definitions\\CCY-000000001.py\n",
      "C:\\Users\\sirve\\Documents\\GitRaptorQube\\RIF\\MyPhD\\jupyter\\Crawler-Chromosome\\000-RIF\\200-Operational-Management-Layer\\100-Crawler-Definitions\\200-Crawler-Yoke-Definitions\\CCY-000000002.py\n",
      "C:\\Users\\sirve\\Documents\\GitRaptorQube\\RIF\\MyPhD\\jupyter\\Crawler-Chromosome\\000-RIF\\200-Operational-Management-Layer\\100-Crawler-Definitions\\200-Crawler-Yoke-Definitions\\CCY-000000003.py\n",
      "C:\\Users\\sirve\\Documents\\GitRaptorQube\\RIF\\MyPhD\\jupyter\\Crawler-Chromosome\\000-RIF\\200-Operational-Management-Layer\\100-Crawler-Definitions\\200-Crawler-Yoke-Definitions\\CCY-000000004.py\n",
      "C:\\Users\\sirve\\Documents\\GitRaptorQube\\RIF\\MyPhD\\jupyter\\Crawler-Chromosome\\000-RIF\\200-Operational-Management-Layer\\100-Crawler-Definitions\\200-Crawler-Yoke-Definitions\\CCY-000000005.py\n",
      "C:\\Users\\sirve\\Documents\\GitRaptorQube\\RIF\\MyPhD\\jupyter\\Crawler-Chromosome\\000-RIF\\200-Operational-Management-Layer\\100-Crawler-Definitions\\200-Crawler-Yoke-Definitions\\CCY-000000006.py\n",
      "C:\\Users\\sirve\\Documents\\GitRaptorQube\\RIF\\MyPhD\\jupyter\\Crawler-Chromosome\\000-RIF\\200-Operational-Management-Layer\\100-Crawler-Definitions\\200-Crawler-Yoke-Definitions\\CCY-000000007.py\n",
      "C:\\Users\\sirve\\Documents\\GitRaptorQube\\RIF\\MyPhD\\jupyter\\Crawler-Chromosome\\000-RIF\\200-Operational-Management-Layer\\100-Crawler-Definitions\\200-Crawler-Yoke-Definitions\\CCY-000000008.py\n",
      "C:\\Users\\sirve\\Documents\\GitRaptorQube\\RIF\\MyPhD\\jupyter\\Crawler-Chromosome\\000-RIF\\200-Operational-Management-Layer\\100-Crawler-Definitions\\200-Crawler-Yoke-Definitions\\CCY-000000009.py\n",
      "C:\\Users\\sirve\\Documents\\GitRaptorQube\\RIF\\MyPhD\\jupyter\\Crawler-Chromosome\\000-RIF\\200-Operational-Management-Layer\\100-Crawler-Definitions\\200-Crawler-Yoke-Definitions\\CCY-000000010.py\n",
      "C:\\Users\\sirve\\Documents\\GitRaptorQube\\RIF\\MyPhD\\jupyter\\Crawler-Chromosome\\000-RIF\\200-Operational-Management-Layer\\100-Crawler-Definitions\\200-Crawler-Yoke-Definitions\\CCY-000000011.py\n",
      "C:\\Users\\sirve\\Documents\\GitRaptorQube\\RIF\\MyPhD\\jupyter\\Crawler-Chromosome\\000-RIF\\200-Operational-Management-Layer\\100-Crawler-Definitions\\200-Crawler-Yoke-Definitions\\CCY-000000012.py\n",
      "C:\\Users\\sirve\\Documents\\GitRaptorQube\\RIF\\MyPhD\\jupyter\\Crawler-Chromosome\\000-RIF\\200-Operational-Management-Layer\\100-Crawler-Definitions\\200-Crawler-Yoke-Definitions\\CCY-000000013.py\n",
      "C:\\Users\\sirve\\Documents\\GitRaptorQube\\RIF\\MyPhD\\jupyter\\Crawler-Chromosome\\000-RIF\\200-Operational-Management-Layer\\100-Crawler-Definitions\\200-Crawler-Yoke-Definitions\\CCY-000000014.py\n",
      "C:\\Users\\sirve\\Documents\\GitRaptorQube\\RIF\\MyPhD\\jupyter\\Crawler-Chromosome\\000-RIF\\200-Operational-Management-Layer\\100-Crawler-Definitions\\200-Crawler-Yoke-Definitions\\CCY-000000015.py\n",
      "C:\\Users\\sirve\\Documents\\GitRaptorQube\\RIF\\MyPhD\\jupyter\\Crawler-Chromosome\\000-RIF\\200-Operational-Management-Layer\\100-Crawler-Definitions\\200-Crawler-Yoke-Definitions\\CCY-000000016.py\n",
      "C:\\Users\\sirve\\Documents\\GitRaptorQube\\RIF\\MyPhD\\jupyter\\Crawler-Chromosome\\000-RIF\\200-Operational-Management-Layer\\100-Crawler-Definitions\\200-Crawler-Yoke-Definitions\\CCY-000000017.py\n",
      "C:\\Users\\sirve\\Documents\\GitRaptorQube\\RIF\\MyPhD\\jupyter\\Crawler-Chromosome\\000-RIF\\200-Operational-Management-Layer\\100-Crawler-Definitions\\200-Crawler-Yoke-Definitions\\CCY-000000018.py\n",
      "C:\\Users\\sirve\\Documents\\GitRaptorQube\\RIF\\MyPhD\\jupyter\\Crawler-Chromosome\\000-RIF\\200-Operational-Management-Layer\\100-Crawler-Definitions\\200-Crawler-Yoke-Definitions\\CCY-000000019.py\n",
      "C:\\Users\\sirve\\Documents\\GitRaptorQube\\RIF\\MyPhD\\jupyter\\Crawler-Chromosome\\000-RIF\\200-Operational-Management-Layer\\100-Crawler-Definitions\\200-Crawler-Yoke-Definitions\\CCY-000000020.py\n",
      "C:\\Users\\sirve\\Documents\\GitRaptorQube\\RIF\\MyPhD\\jupyter\\Crawler-Chromosome\\000-RIF\\200-Operational-Management-Layer\\100-Crawler-Definitions\\200-Crawler-Yoke-Definitions\\CCY-000000021.py\n",
      "C:\\Users\\sirve\\Documents\\GitRaptorQube\\RIF\\MyPhD\\jupyter\\Crawler-Chromosome\\000-RIF\\200-Operational-Management-Layer\\100-Crawler-Definitions\\200-Crawler-Yoke-Definitions\\CCY-000000022.py\n",
      "C:\\Users\\sirve\\Documents\\GitRaptorQube\\RIF\\MyPhD\\jupyter\\Crawler-Chromosome\\000-RIF\\200-Operational-Management-Layer\\100-Crawler-Definitions\\200-Crawler-Yoke-Definitions\\CCY-000000023.py\n",
      "C:\\Users\\sirve\\Documents\\GitRaptorQube\\RIF\\MyPhD\\jupyter\\Crawler-Chromosome\\000-RIF\\200-Operational-Management-Layer\\100-Crawler-Definitions\\200-Crawler-Yoke-Definitions\\CCY-000000024.py\n",
      "C:\\Users\\sirve\\Documents\\GitRaptorQube\\RIF\\MyPhD\\jupyter\\Crawler-Chromosome\\000-RIF\\200-Operational-Management-Layer\\100-Crawler-Definitions\\200-Crawler-Yoke-Definitions\\CCY-000000025.py\n",
      "C:\\Users\\sirve\\Documents\\GitRaptorQube\\RIF\\MyPhD\\jupyter\\Crawler-Chromosome\\000-RIF\\200-Operational-Management-Layer\\100-Crawler-Definitions\\200-Crawler-Yoke-Definitions\\CCY-000000026.py\n",
      "C:\\Users\\sirve\\Documents\\GitRaptorQube\\RIF\\MyPhD\\jupyter\\Crawler-Chromosome\\000-RIF\\200-Operational-Management-Layer\\100-Crawler-Definitions\\200-Crawler-Yoke-Definitions\\CCY-000000027.py\n",
      "C:\\Users\\sirve\\Documents\\GitRaptorQube\\RIF\\MyPhD\\jupyter\\Crawler-Chromosome\\000-RIF\\200-Operational-Management-Layer\\100-Crawler-Definitions\\200-Crawler-Yoke-Definitions\\CCY-000000028.py\n",
      "C:\\Users\\sirve\\Documents\\GitRaptorQube\\RIF\\MyPhD\\jupyter\\Crawler-Chromosome\\000-RIF\\200-Operational-Management-Layer\\100-Crawler-Definitions\\200-Crawler-Yoke-Definitions\\CMY-000000001.py\n",
      "C:\\Users\\sirve\\Documents\\GitRaptorQube\\RIF\\MyPhD\\jupyter\\Crawler-Chromosome\\000-RIF\\200-Operational-Management-Layer\\100-Crawler-Definitions\\200-Crawler-Yoke-Definitions\\CSY-000000001.py\n",
      "C:\\Users\\sirve\\Documents\\GitRaptorQube\\RIF\\MyPhD\\jupyter\\Crawler-Chromosome\\000-RIF\\200-Operational-Management-Layer\\100-Crawler-Definitions\\200-Crawler-Yoke-Definitions\\CSY-000000002.py\n",
      "C:\\Users\\sirve\\Documents\\GitRaptorQube\\RIF\\MyPhD\\jupyter\\Crawler-Chromosome\\000-RIF\\200-Operational-Management-Layer\\100-Crawler-Definitions\\200-Crawler-Yoke-Definitions\\CSY-000000003.py\n",
      "C:\\Users\\sirve\\Documents\\GitRaptorQube\\RIF\\MyPhD\\jupyter\\Crawler-Chromosome\\000-RIF\\200-Operational-Management-Layer\\100-Crawler-Definitions\\200-Crawler-Yoke-Definitions\\CSY-000000004.py\n",
      "C:\\Users\\sirve\\Documents\\GitRaptorQube\\RIF\\MyPhD\\jupyter\\Crawler-Chromosome\\000-RIF\\200-Operational-Management-Layer\\100-Crawler-Definitions\\200-Crawler-Yoke-Definitions\\CSY-000000005.py\n",
      "C:\\Users\\sirve\\Documents\\GitRaptorQube\\RIF\\MyPhD\\jupyter\\Crawler-Chromosome\\000-RIF\\200-Operational-Management-Layer\\100-Crawler-Definitions\\200-Crawler-Yoke-Definitions\\CSY-000000006.py\n",
      "C:\\Users\\sirve\\Documents\\GitRaptorQube\\RIF\\MyPhD\\jupyter\\Crawler-Chromosome\\000-RIF\\200-Operational-Management-Layer\\100-Crawler-Definitions\\200-Crawler-Yoke-Definitions\\CSY-000000007.py\n",
      "C:\\Users\\sirve\\Documents\\GitRaptorQube\\RIF\\MyPhD\\jupyter\\Crawler-Chromosome\\000-RIF\\200-Operational-Management-Layer\\100-Crawler-Definitions\\200-Crawler-Yoke-Definitions\\CSY-000000008.py\n",
      "C:\\Users\\sirve\\Documents\\GitRaptorQube\\RIF\\MyPhD\\jupyter\\Crawler-Chromosome\\000-RIF\\200-Operational-Management-Layer\\100-Crawler-Definitions\\200-Crawler-Yoke-Definitions\\CSY-000000009.py\n",
      "C:\\Users\\sirve\\Documents\\GitRaptorQube\\RIF\\MyPhD\\jupyter\\Crawler-Chromosome\\000-RIF\\200-Operational-Management-Layer\\100-Crawler-Definitions\\200-Crawler-Yoke-Definitions\\CSY-000000010.py\n",
      "C:\\Users\\sirve\\Documents\\GitRaptorQube\\RIF\\MyPhD\\jupyter\\Crawler-Chromosome\\000-RIF\\200-Operational-Management-Layer\\100-Crawler-Definitions\\200-Crawler-Yoke-Definitions\\CSY-000000011.py\n",
      "C:\\Users\\sirve\\Documents\\GitRaptorQube\\RIF\\MyPhD\\jupyter\\Crawler-Chromosome\\000-RIF\\200-Operational-Management-Layer\\100-Crawler-Definitions\\200-Crawler-Yoke-Definitions\\CSY-000000012.py\n",
      "C:\\Users\\sirve\\Documents\\GitRaptorQube\\RIF\\MyPhD\\jupyter\\Crawler-Chromosome\\000-RIF\\200-Operational-Management-Layer\\100-Crawler-Definitions\\200-Crawler-Yoke-Definitions\\CSY-000000013.py\n",
      "C:\\Users\\sirve\\Documents\\GitRaptorQube\\RIF\\MyPhD\\jupyter\\Crawler-Chromosome\\000-RIF\\200-Operational-Management-Layer\\100-Crawler-Definitions\\200-Crawler-Yoke-Definitions\\CSY-000000014.py\n",
      "C:\\Users\\sirve\\Documents\\GitRaptorQube\\RIF\\MyPhD\\jupyter\\Crawler-Chromosome\\000-RIF\\200-Operational-Management-Layer\\100-Crawler-Definitions\\200-Crawler-Yoke-Definitions\\CSY-000000015.py\n",
      "C:\\Users\\sirve\\Documents\\GitRaptorQube\\RIF\\MyPhD\\jupyter\\Crawler-Chromosome\\000-RIF\\200-Operational-Management-Layer\\100-Crawler-Definitions\\200-Crawler-Yoke-Definitions\\CSY-000000016.py\n",
      "C:\\Users\\sirve\\Documents\\GitRaptorQube\\RIF\\MyPhD\\jupyter\\Crawler-Chromosome\\000-RIF\\200-Operational-Management-Layer\\100-Crawler-Definitions\\200-Crawler-Yoke-Definitions\\CSY-000000017.py\n",
      "C:\\Users\\sirve\\Documents\\GitRaptorQube\\RIF\\MyPhD\\jupyter\\Crawler-Chromosome\\000-RIF\\200-Operational-Management-Layer\\100-Crawler-Definitions\\200-Crawler-Yoke-Definitions\\CSY-000000018.py\n",
      "C:\\Users\\sirve\\Documents\\GitRaptorQube\\RIF\\MyPhD\\jupyter\\Crawler-Chromosome\\000-RIF\\200-Operational-Management-Layer\\100-Crawler-Definitions\\200-Crawler-Yoke-Definitions\\CSY-000000019.py\n",
      "C:\\Users\\sirve\\Documents\\GitRaptorQube\\RIF\\MyPhD\\jupyter\\Crawler-Chromosome\\000-RIF\\200-Operational-Management-Layer\\100-Crawler-Definitions\\200-Crawler-Yoke-Definitions\\CSY-000000020.py\n",
      "C:\\Users\\sirve\\Documents\\GitRaptorQube\\RIF\\MyPhD\\jupyter\\Crawler-Chromosome\\000-RIF\\200-Operational-Management-Layer\\100-Crawler-Definitions\\200-Crawler-Yoke-Definitions\\CSY-000000021.py\n",
      "C:\\Users\\sirve\\Documents\\GitRaptorQube\\RIF\\MyPhD\\jupyter\\Crawler-Chromosome\\000-RIF\\200-Operational-Management-Layer\\100-Crawler-Definitions\\200-Crawler-Yoke-Definitions\\CSY-000000022.py\n",
      "C:\\Users\\sirve\\Documents\\GitRaptorQube\\RIF\\MyPhD\\jupyter\\Crawler-Chromosome\\000-RIF\\200-Operational-Management-Layer\\100-Crawler-Definitions\\200-Crawler-Yoke-Definitions\\CSY-000000023.py\n",
      "C:\\Users\\sirve\\Documents\\GitRaptorQube\\RIF\\MyPhD\\jupyter\\Crawler-Chromosome\\000-RIF\\200-Operational-Management-Layer\\100-Crawler-Definitions\\200-Crawler-Yoke-Definitions\\CSY-000000024.py\n",
      "C:\\Users\\sirve\\Documents\\GitRaptorQube\\RIF\\MyPhD\\jupyter\\Crawler-Chromosome\\000-RIF\\200-Operational-Management-Layer\\100-Crawler-Definitions\\200-Crawler-Yoke-Definitions\\CSY-000000025.py\n",
      "C:\\Users\\sirve\\Documents\\GitRaptorQube\\RIF\\MyPhD\\jupyter\\Crawler-Chromosome\\000-RIF\\200-Operational-Management-Layer\\100-Crawler-Definitions\\200-Crawler-Yoke-Definitions\\CSY-000000026.py\n",
      "C:\\Users\\sirve\\Documents\\GitRaptorQube\\RIF\\MyPhD\\jupyter\\Crawler-Chromosome\\000-RIF\\200-Operational-Management-Layer\\100-Crawler-Definitions\\200-Crawler-Yoke-Definitions\\CSY-000000027.py\n",
      "C:\\Users\\sirve\\Documents\\GitRaptorQube\\RIF\\MyPhD\\jupyter\\Crawler-Chromosome\\000-RIF\\200-Operational-Management-Layer\\100-Crawler-Definitions\\200-Crawler-Yoke-Definitions\\CSY-000000028.py\n",
      "C:\\Users\\sirve\\Documents\\GitRaptorQube\\RIF\\MyPhD\\jupyter\\Crawler-Chromosome\\000-RIF\\200-Operational-Management-Layer\\100-Crawler-Definitions\\300-Crawler-Input-Definitions\\300-Crawler-Input-Template-000001.jinja\n",
      "C:\\Users\\sirve\\Documents\\GitRaptorQube\\RIF\\MyPhD\\jupyter\\Crawler-Chromosome\\000-RIF\\200-Operational-Management-Layer\\100-Crawler-Definitions\\300-Crawler-Input-Definitions\\IC-000001.py\n",
      "C:\\Users\\sirve\\Documents\\GitRaptorQube\\RIF\\MyPhD\\jupyter\\Crawler-Chromosome\\000-RIF\\200-Operational-Management-Layer\\100-Crawler-Definitions\\300-Crawler-Input-Definitions\\IC-000002.py\n",
      "C:\\Users\\sirve\\Documents\\GitRaptorQube\\RIF\\MyPhD\\jupyter\\Crawler-Chromosome\\000-RIF\\200-Operational-Management-Layer\\100-Crawler-Definitions\\300-Crawler-Input-Definitions\\IC-000003.py\n",
      "C:\\Users\\sirve\\Documents\\GitRaptorQube\\RIF\\MyPhD\\jupyter\\Crawler-Chromosome\\000-RIF\\200-Operational-Management-Layer\\100-Crawler-Definitions\\300-Crawler-Input-Definitions\\IC-000004.py\n",
      "C:\\Users\\sirve\\Documents\\GitRaptorQube\\RIF\\MyPhD\\jupyter\\Crawler-Chromosome\\000-RIF\\200-Operational-Management-Layer\\100-Crawler-Definitions\\300-Crawler-Input-Definitions\\IC-000005.py\n",
      "C:\\Users\\sirve\\Documents\\GitRaptorQube\\RIF\\MyPhD\\jupyter\\Crawler-Chromosome\\000-RIF\\200-Operational-Management-Layer\\100-Crawler-Definitions\\300-Crawler-Input-Definitions\\IC-000006.py\n",
      "C:\\Users\\sirve\\Documents\\GitRaptorQube\\RIF\\MyPhD\\jupyter\\Crawler-Chromosome\\000-RIF\\200-Operational-Management-Layer\\100-Crawler-Definitions\\300-Crawler-Input-Definitions\\IC-000007.py\n",
      "C:\\Users\\sirve\\Documents\\GitRaptorQube\\RIF\\MyPhD\\jupyter\\Crawler-Chromosome\\000-RIF\\200-Operational-Management-Layer\\100-Crawler-Definitions\\300-Crawler-Input-Definitions\\IC-000008.py\n",
      "C:\\Users\\sirve\\Documents\\GitRaptorQube\\RIF\\MyPhD\\jupyter\\Crawler-Chromosome\\000-RIF\\200-Operational-Management-Layer\\100-Crawler-Definitions\\300-Crawler-Input-Definitions\\IC-000009.py\n",
      "C:\\Users\\sirve\\Documents\\GitRaptorQube\\RIF\\MyPhD\\jupyter\\Crawler-Chromosome\\000-RIF\\200-Operational-Management-Layer\\100-Crawler-Definitions\\300-Crawler-Input-Definitions\\IC-000010.py\n",
      "C:\\Users\\sirve\\Documents\\GitRaptorQube\\RIF\\MyPhD\\jupyter\\Crawler-Chromosome\\000-RIF\\200-Operational-Management-Layer\\100-Crawler-Definitions\\300-Crawler-Input-Definitions\\IC-000011.py\n",
      "C:\\Users\\sirve\\Documents\\GitRaptorQube\\RIF\\MyPhD\\jupyter\\Crawler-Chromosome\\000-RIF\\200-Operational-Management-Layer\\100-Crawler-Definitions\\300-Crawler-Input-Definitions\\IC-000012.py\n",
      "C:\\Users\\sirve\\Documents\\GitRaptorQube\\RIF\\MyPhD\\jupyter\\Crawler-Chromosome\\000-RIF\\200-Operational-Management-Layer\\100-Crawler-Definitions\\300-Crawler-Input-Definitions\\IC-000013.py\n",
      "C:\\Users\\sirve\\Documents\\GitRaptorQube\\RIF\\MyPhD\\jupyter\\Crawler-Chromosome\\000-RIF\\200-Operational-Management-Layer\\100-Crawler-Definitions\\300-Crawler-Input-Definitions\\IC-000014.py\n",
      "C:\\Users\\sirve\\Documents\\GitRaptorQube\\RIF\\MyPhD\\jupyter\\Crawler-Chromosome\\000-RIF\\200-Operational-Management-Layer\\100-Crawler-Definitions\\300-Crawler-Input-Definitions\\IC-000015.py\n",
      "C:\\Users\\sirve\\Documents\\GitRaptorQube\\RIF\\MyPhD\\jupyter\\Crawler-Chromosome\\000-RIF\\200-Operational-Management-Layer\\100-Crawler-Definitions\\300-Crawler-Input-Definitions\\IC-000016.py\n",
      "C:\\Users\\sirve\\Documents\\GitRaptorQube\\RIF\\MyPhD\\jupyter\\Crawler-Chromosome\\000-RIF\\200-Operational-Management-Layer\\100-Crawler-Definitions\\300-Crawler-Input-Definitions\\IC-000017.py\n",
      "C:\\Users\\sirve\\Documents\\GitRaptorQube\\RIF\\MyPhD\\jupyter\\Crawler-Chromosome\\000-RIF\\200-Operational-Management-Layer\\100-Crawler-Definitions\\300-Crawler-Input-Definitions\\IC-000018.py\n",
      "C:\\Users\\sirve\\Documents\\GitRaptorQube\\RIF\\MyPhD\\jupyter\\Crawler-Chromosome\\000-RIF\\200-Operational-Management-Layer\\100-Crawler-Definitions\\300-Crawler-Input-Definitions\\IC-000019.py\n",
      "C:\\Users\\sirve\\Documents\\GitRaptorQube\\RIF\\MyPhD\\jupyter\\Crawler-Chromosome\\000-RIF\\200-Operational-Management-Layer\\100-Crawler-Definitions\\300-Crawler-Input-Definitions\\IC-000020.py\n",
      "C:\\Users\\sirve\\Documents\\GitRaptorQube\\RIF\\MyPhD\\jupyter\\Crawler-Chromosome\\000-RIF\\200-Operational-Management-Layer\\100-Crawler-Definitions\\300-Crawler-Input-Definitions\\IC-000021.py\n",
      "C:\\Users\\sirve\\Documents\\GitRaptorQube\\RIF\\MyPhD\\jupyter\\Crawler-Chromosome\\000-RIF\\200-Operational-Management-Layer\\100-Crawler-Definitions\\300-Crawler-Input-Definitions\\IC-000022.py\n",
      "C:\\Users\\sirve\\Documents\\GitRaptorQube\\RIF\\MyPhD\\jupyter\\Crawler-Chromosome\\000-RIF\\200-Operational-Management-Layer\\100-Crawler-Definitions\\300-Crawler-Input-Definitions\\IC-000023.py\n",
      "C:\\Users\\sirve\\Documents\\GitRaptorQube\\RIF\\MyPhD\\jupyter\\Crawler-Chromosome\\000-RIF\\200-Operational-Management-Layer\\100-Crawler-Definitions\\300-Crawler-Input-Definitions\\IC-000024.py\n",
      "C:\\Users\\sirve\\Documents\\GitRaptorQube\\RIF\\MyPhD\\jupyter\\Crawler-Chromosome\\000-RIF\\200-Operational-Management-Layer\\100-Crawler-Definitions\\300-Crawler-Input-Definitions\\IC-000025.py\n",
      "C:\\Users\\sirve\\Documents\\GitRaptorQube\\RIF\\MyPhD\\jupyter\\Crawler-Chromosome\\000-RIF\\200-Operational-Management-Layer\\100-Crawler-Definitions\\300-Crawler-Input-Definitions\\IC-000026.py\n",
      "C:\\Users\\sirve\\Documents\\GitRaptorQube\\RIF\\MyPhD\\jupyter\\Crawler-Chromosome\\000-RIF\\200-Operational-Management-Layer\\100-Crawler-Definitions\\300-Crawler-Input-Definitions\\IC-000027.py\n",
      "C:\\Users\\sirve\\Documents\\GitRaptorQube\\RIF\\MyPhD\\jupyter\\Crawler-Chromosome\\000-RIF\\200-Operational-Management-Layer\\100-Crawler-Definitions\\300-Crawler-Input-Definitions\\IC-000028.py\n",
      "C:\\Users\\sirve\\Documents\\GitRaptorQube\\RIF\\MyPhD\\jupyter\\Crawler-Chromosome\\000-RIF\\200-Operational-Management-Layer\\100-Crawler-Definitions\\400-Crawler-Process-Definitions\\PC-000001.py\n",
      "C:\\Users\\sirve\\Documents\\GitRaptorQube\\RIF\\MyPhD\\jupyter\\Crawler-Chromosome\\000-RIF\\200-Operational-Management-Layer\\100-Crawler-Definitions\\500-Crawler-Output-Definitions\\OC-000001.py\n"
     ]
    }
   ],
   "source": [
    "opsDirName=os.path.join(rifDirName, '200-Operational-Management-Layer', '100-Crawler-Definitions')\n",
    "\n",
    "for root, dirs, files in os.walk(opsDirName, topdown=False):\n",
    "    for name in files:\n",
    "        print(os.path.join(root, name))\n",
    "        filename, file_extension = os.path.splitext(name)\n",
    "        if file_extension == '.py':\n",
    "            os.remove(os.path.join(root, name))"
   ]
  },
  {
   "cell_type": "markdown",
   "metadata": {},
   "source": [
    "### Crawler Build"
   ]
  },
  {
   "cell_type": "code",
   "execution_count": 6,
   "metadata": {},
   "outputs": [],
   "source": [
    "i=list(range(1,crawlerFormat[0]+1,1))\n",
    "inputChromosomeList = ['IC-%06d' % x for x in i]"
   ]
  },
  {
   "cell_type": "code",
   "execution_count": 7,
   "metadata": {},
   "outputs": [],
   "source": [
    "p=list(range(1,crawlerFormat[1]+1,1))\n",
    "processChromosomeList = ['PC-%06d' % x for x in p]"
   ]
  },
  {
   "cell_type": "code",
   "execution_count": 8,
   "metadata": {},
   "outputs": [],
   "source": [
    "o=list(range(1,crawlerFormat[2]+1,1))\n",
    "outputChromosomeList = ['OC-%06d' % x for x in o]"
   ]
  },
  {
   "cell_type": "code",
   "execution_count": 9,
   "metadata": {},
   "outputs": [
    {
     "data": {
      "text/plain": [
       "(28, 3)"
      ]
     },
     "execution_count": 9,
     "metadata": {},
     "output_type": "execute_result"
    }
   ],
   "source": [
    "cw=np.array(tuple(it.product(inputChromosomeList, processChromosomeList, outputChromosomeList)))\n",
    "cw.shape"
   ]
  },
  {
   "cell_type": "code",
   "execution_count": 10,
   "metadata": {},
   "outputs": [],
   "source": [
    "a=list(range(1,cw.shape[0]+1,1))"
   ]
  },
  {
   "cell_type": "code",
   "execution_count": 11,
   "metadata": {},
   "outputs": [
    {
     "data": {
      "text/plain": [
       "(28,)"
      ]
     },
     "execution_count": 11,
     "metadata": {},
     "output_type": "execute_result"
    }
   ],
   "source": [
    "crawlerChromosomeList = np.array(tuple(['CW-%09d' % x for x in a]))\n",
    "crawlerChromosomeList.shape"
   ]
  },
  {
   "cell_type": "code",
   "execution_count": 12,
   "metadata": {},
   "outputs": [
    {
     "data": {
      "text/plain": [
       "(28,)"
      ]
     },
     "execution_count": 12,
     "metadata": {},
     "output_type": "execute_result"
    }
   ],
   "source": [
    "yokeControlChromosomeList  = np.array(tuple(['CCY-%09d' % x for x in a]))\n",
    "yokeControlChromosomeList.shape"
   ]
  },
  {
   "cell_type": "code",
   "execution_count": 13,
   "metadata": {},
   "outputs": [
    {
     "data": {
      "text/plain": [
       "(28, 5)"
      ]
     },
     "execution_count": 13,
     "metadata": {},
     "output_type": "execute_result"
    }
   ],
   "source": [
    "crawler = np.column_stack((crawlerChromosomeList,yokeControlChromosomeList,cw))\n",
    "crawler.shape"
   ]
  },
  {
   "cell_type": "code",
   "execution_count": 14,
   "metadata": {},
   "outputs": [
    {
     "data": {
      "text/plain": [
       "array(['CW-000000002', 'CCY-000000002', 'IC-000002', 'PC-000001',\n",
       "       'OC-000001'], dtype='<U13')"
      ]
     },
     "execution_count": 14,
     "metadata": {},
     "output_type": "execute_result"
    }
   ],
   "source": [
    "crawler[1]"
   ]
  },
  {
   "cell_type": "markdown",
   "metadata": {},
   "source": [
    "### Yoke Build"
   ]
  },
  {
   "cell_type": "code",
   "execution_count": 15,
   "metadata": {},
   "outputs": [
    {
     "data": {
      "text/plain": [
       "(28,)"
      ]
     },
     "execution_count": 15,
     "metadata": {},
     "output_type": "execute_result"
    }
   ],
   "source": [
    "yokeMasterChromosomeList  = np.array(tuple(['CMY-%09d' % 1 for x in a]))\n",
    "yokeMasterChromosomeList.shape"
   ]
  },
  {
   "cell_type": "code",
   "execution_count": 16,
   "metadata": {},
   "outputs": [
    {
     "data": {
      "text/plain": [
       "(28,)"
      ]
     },
     "execution_count": 16,
     "metadata": {},
     "output_type": "execute_result"
    }
   ],
   "source": [
    "yokeSlaveChromosomeList  = np.array(tuple(['CSY-%09d' % x for x in a]))\n",
    "yokeSlaveChromosomeList.shape"
   ]
  },
  {
   "cell_type": "code",
   "execution_count": 17,
   "metadata": {},
   "outputs": [
    {
     "data": {
      "text/plain": [
       "(28, 2)"
      ]
     },
     "execution_count": 17,
     "metadata": {},
     "output_type": "execute_result"
    }
   ],
   "source": [
    "yoke = np.column_stack((yokeMasterChromosomeList,yokeSlaveChromosomeList))\n",
    "yoke.shape"
   ]
  },
  {
   "cell_type": "code",
   "execution_count": 18,
   "metadata": {},
   "outputs": [
    {
     "data": {
      "text/plain": [
       "array(['CMY-000000001', 'CSY-000000002'], dtype='<U13')"
      ]
     },
     "execution_count": 18,
     "metadata": {},
     "output_type": "execute_result"
    }
   ],
   "source": [
    "yoke[1]"
   ]
  },
  {
   "cell_type": "markdown",
   "metadata": {},
   "source": [
    "## DNA Build"
   ]
  },
  {
   "cell_type": "code",
   "execution_count": 19,
   "metadata": {},
   "outputs": [],
   "source": [
    "dna = np.column_stack((yoke,crawler))"
   ]
  },
  {
   "cell_type": "code",
   "execution_count": 20,
   "metadata": {},
   "outputs": [
    {
     "data": {
      "text/plain": [
       "(28, 7)"
      ]
     },
     "execution_count": 20,
     "metadata": {},
     "output_type": "execute_result"
    }
   ],
   "source": [
    "dna.shape"
   ]
  },
  {
   "cell_type": "code",
   "execution_count": 21,
   "metadata": {},
   "outputs": [
    {
     "data": {
      "text/plain": [
       "array(['CMY-000000001', 'CSY-000000002', 'CW-000000002', 'CCY-000000002',\n",
       "       'IC-000002', 'PC-000001', 'OC-000001'], dtype='<U13')"
      ]
     },
     "execution_count": 21,
     "metadata": {},
     "output_type": "execute_result"
    }
   ],
   "source": [
    "dna[1]"
   ]
  },
  {
   "cell_type": "markdown",
   "metadata": {},
   "source": [
    "## Store Crawlers"
   ]
  },
  {
   "cell_type": "code",
   "execution_count": 22,
   "metadata": {},
   "outputs": [
    {
     "name": "stdout",
     "output_type": "stream",
     "text": [
      "Using RIF directory\n",
      "C:\\Users\\sirve\\Documents\\GitRaptorQube\\RIF\\MyPhD\\jupyter\\Crawler-Chromosome\\000-RIF\n"
     ]
    }
   ],
   "source": [
    "if not os.path.exists(rifDirName):\n",
    "    print('Creating new RIF directory')\n",
    "    print(rifDirName)\n",
    "    os.makedirs(rifDirName)\n",
    "else:\n",
    "    print('Using RIF directory')\n",
    "    print(rifDirName)"
   ]
  },
  {
   "cell_type": "code",
   "execution_count": 23,
   "metadata": {},
   "outputs": [
    {
     "name": "stdout",
     "output_type": "stream",
     "text": [
      "Using RIF:Functional-Layer directory\n",
      "C:\\Users\\sirve\\Documents\\GitRaptorQube\\RIF\\MyPhD\\jupyter\\Crawler-Chromosome\\000-RIF\\100-Functional-Layer\n"
     ]
    }
   ],
   "source": [
    "funcDirName=os.path.join(rifDirName,'100-Functional-Layer')\n",
    "if not os.path.exists(funcDirName):\n",
    "    print('Creating new RIF:Functional-Layer directory')\n",
    "    print(funcDirName)\n",
    "    os.makedirs(funcDirName)\n",
    "else:\n",
    "    print('Using RIF:Functional-Layer directory')\n",
    "    print(funcDirName)"
   ]
  },
  {
   "cell_type": "code",
   "execution_count": 24,
   "metadata": {},
   "outputs": [
    {
     "name": "stdout",
     "output_type": "stream",
     "text": [
      "\n",
      "Using RIF:Operational-Management-Layer directory - 100-Crawler-Master-Service-Definitions\n",
      "C:\\Users\\sirve\\Documents\\GitRaptorQube\\RIF\\MyPhD\\jupyter\\Crawler-Chromosome\\000-RIF\\200-Operational-Management-Layer\\100-Crawler-Definitions\\100-Crawler-Master-Service-Definitions\n",
      "\n",
      "Using RIF:Operational-Management-Layer directory - 200-Crawler-Yoke-Definitions\n",
      "C:\\Users\\sirve\\Documents\\GitRaptorQube\\RIF\\MyPhD\\jupyter\\Crawler-Chromosome\\000-RIF\\200-Operational-Management-Layer\\100-Crawler-Definitions\\200-Crawler-Yoke-Definitions\n",
      "\n",
      "Using RIF:Operational-Management-Layer directory - 300-Crawler-Input-Definitions\n",
      "C:\\Users\\sirve\\Documents\\GitRaptorQube\\RIF\\MyPhD\\jupyter\\Crawler-Chromosome\\000-RIF\\200-Operational-Management-Layer\\100-Crawler-Definitions\\300-Crawler-Input-Definitions\n",
      "\n",
      "Using RIF:Operational-Management-Layer directory - 400-Crawler-Process-Definitions\n",
      "C:\\Users\\sirve\\Documents\\GitRaptorQube\\RIF\\MyPhD\\jupyter\\Crawler-Chromosome\\000-RIF\\200-Operational-Management-Layer\\100-Crawler-Definitions\\400-Crawler-Process-Definitions\n",
      "\n",
      "Using RIF:Operational-Management-Layer directory - 500-Crawler-Output-Definitions\n",
      "C:\\Users\\sirve\\Documents\\GitRaptorQube\\RIF\\MyPhD\\jupyter\\Crawler-Chromosome\\000-RIF\\200-Operational-Management-Layer\\100-Crawler-Definitions\\500-Crawler-Output-Definitions\n"
     ]
    }
   ],
   "source": [
    "opsDirList = [\n",
    "    '100-Crawler-Master-Service-Definitions',\n",
    "    '200-Crawler-Yoke-Definitions',\n",
    "    '300-Crawler-Input-Definitions',\n",
    "    '400-Crawler-Process-Definitions',\n",
    "    '500-Crawler-Output-Definitions'\n",
    "]\n",
    "for opsDir in opsDirList:\n",
    "    opsDirName=os.path.join(rifDirName, '200-Operational-Management-Layer', '100-Crawler-Definitions', opsDir)\n",
    "    if not os.path.exists(opsDirName):\n",
    "        print('\\nCreating new RIF:Operational-Management-Layer directory - %s' % opsDir)\n",
    "        print(opsDirName)\n",
    "        os.makedirs(opsDirName)\n",
    "    else:\n",
    "        print('\\nUsing RIF:Operational-Management-Layer directory - %s' % opsDir)\n",
    "        print(opsDirName)"
   ]
  },
  {
   "cell_type": "markdown",
   "metadata": {},
   "source": [
    "## Generate Base Master-Service-Definitions"
   ]
  },
  {
   "cell_type": "code",
   "execution_count": 25,
   "metadata": {},
   "outputs": [],
   "source": [
    "def create_connection(db_file):\n",
    "    \"\"\" create a database connection to a SQLite database \"\"\"\n",
    "    try:\n",
    "        conn = sq.connect(db_file)\n",
    "        return sq.version\n",
    "    except Error as e:\n",
    "        print(e)\n",
    "    finally:\n",
    "        conn.close()"
   ]
  },
  {
   "cell_type": "code",
   "execution_count": 26,
   "metadata": {},
   "outputs": [
    {
     "name": "stdout",
     "output_type": "stream",
     "text": [
      "./000-RIF/200-Operational-Management-Layer/100-Crawler-Definitions/100-Crawler-Master-Service-Definitions/Crawler-Master-Service-Definitions.db\n"
     ]
    }
   ],
   "source": [
    "dbnamedir='./000-RIF/200-Operational-Management-Layer/100-Crawler-Definitions/100-Crawler-Master-Service-Definitions/'\n",
    "dbname='Crawler-Master-Service-Definitions.db'\n",
    "dbfullname=os.path.join(dbnamedir, dbname)\n",
    "print(dbfullname)"
   ]
  },
  {
   "cell_type": "code",
   "execution_count": 27,
   "metadata": {},
   "outputs": [
    {
     "name": "stdout",
     "output_type": "stream",
     "text": [
      "Using DB: ./000-RIF/200-Operational-Management-Layer/100-Crawler-Definitions/100-Crawler-Master-Service-Definitions/Crawler-Master-Service-Definitions.db\n"
     ]
    }
   ],
   "source": [
    "if newstart: \n",
    "    if not os.path.exists(dbfullname):\n",
    "        print('Create DB: %s - %s' % (dbfullname, create_connection(dbfullname)))\n",
    "    else:\n",
    "        print('Remove DB: %s' % dbfullname)\n",
    "        os.remove(dbfullname)\n",
    "        print('Create DB: %s - %s' % (dbfullname, create_connection(dbfullname)))\n",
    "else:\n",
    "    print('Using DB: %s' % dbfullname)"
   ]
  },
  {
   "cell_type": "code",
   "execution_count": 28,
   "metadata": {},
   "outputs": [
    {
     "name": "stdout",
     "output_type": "stream",
     "text": [
      "(28, 7)\n",
      "Index(['CrawlerMasterYoke', 'CrawlerSlaveYoke', 'CrawlerName',\n",
      "       'CrawlerControlYoke', 'CrawlerInputChromosome',\n",
      "       'CrawlerProcessChromosome', 'CrawlerOutputChromosome'],\n",
      "      dtype='object')\n"
     ]
    }
   ],
   "source": [
    "df = pd.DataFrame(dna)\n",
    "\n",
    "columnnames=['CrawlerMasterYoke',\n",
    "             'CrawlerSlaveYoke',\n",
    "             'CrawlerName',\n",
    "             'CrawlerControlYoke',\n",
    "             'CrawlerInputChromosome',\n",
    "             'CrawlerProcessChromosome',\n",
    "             'CrawlerOutputChromosome'\n",
    "            ]\n",
    "\n",
    "df.columns = columnnames\n",
    "\n",
    "print(df.shape)\n",
    "print(df.columns)"
   ]
  },
  {
   "cell_type": "code",
   "execution_count": 29,
   "metadata": {},
   "outputs": [
    {
     "data": {
      "text/html": [
       "<div>\n",
       "<style scoped>\n",
       "    .dataframe tbody tr th:only-of-type {\n",
       "        vertical-align: middle;\n",
       "    }\n",
       "\n",
       "    .dataframe tbody tr th {\n",
       "        vertical-align: top;\n",
       "    }\n",
       "\n",
       "    .dataframe thead th {\n",
       "        text-align: right;\n",
       "    }\n",
       "</style>\n",
       "<table border=\"1\" class=\"dataframe\">\n",
       "  <thead>\n",
       "    <tr style=\"text-align: right;\">\n",
       "      <th></th>\n",
       "      <th>CrawlerMasterYoke</th>\n",
       "      <th>CrawlerSlaveYoke</th>\n",
       "      <th>CrawlerName</th>\n",
       "      <th>CrawlerControlYoke</th>\n",
       "      <th>CrawlerInputChromosome</th>\n",
       "      <th>CrawlerProcessChromosome</th>\n",
       "      <th>CrawlerOutputChromosome</th>\n",
       "    </tr>\n",
       "  </thead>\n",
       "  <tbody>\n",
       "    <tr>\n",
       "      <th>0</th>\n",
       "      <td>CMY-000000001</td>\n",
       "      <td>CSY-000000001</td>\n",
       "      <td>CW-000000001</td>\n",
       "      <td>CCY-000000001</td>\n",
       "      <td>IC-000001</td>\n",
       "      <td>PC-000001</td>\n",
       "      <td>OC-000001</td>\n",
       "    </tr>\n",
       "    <tr>\n",
       "      <th>1</th>\n",
       "      <td>CMY-000000001</td>\n",
       "      <td>CSY-000000002</td>\n",
       "      <td>CW-000000002</td>\n",
       "      <td>CCY-000000002</td>\n",
       "      <td>IC-000002</td>\n",
       "      <td>PC-000001</td>\n",
       "      <td>OC-000001</td>\n",
       "    </tr>\n",
       "    <tr>\n",
       "      <th>2</th>\n",
       "      <td>CMY-000000001</td>\n",
       "      <td>CSY-000000003</td>\n",
       "      <td>CW-000000003</td>\n",
       "      <td>CCY-000000003</td>\n",
       "      <td>IC-000003</td>\n",
       "      <td>PC-000001</td>\n",
       "      <td>OC-000001</td>\n",
       "    </tr>\n",
       "    <tr>\n",
       "      <th>3</th>\n",
       "      <td>CMY-000000001</td>\n",
       "      <td>CSY-000000004</td>\n",
       "      <td>CW-000000004</td>\n",
       "      <td>CCY-000000004</td>\n",
       "      <td>IC-000004</td>\n",
       "      <td>PC-000001</td>\n",
       "      <td>OC-000001</td>\n",
       "    </tr>\n",
       "    <tr>\n",
       "      <th>4</th>\n",
       "      <td>CMY-000000001</td>\n",
       "      <td>CSY-000000005</td>\n",
       "      <td>CW-000000005</td>\n",
       "      <td>CCY-000000005</td>\n",
       "      <td>IC-000005</td>\n",
       "      <td>PC-000001</td>\n",
       "      <td>OC-000001</td>\n",
       "    </tr>\n",
       "  </tbody>\n",
       "</table>\n",
       "</div>"
      ],
      "text/plain": [
       "  CrawlerMasterYoke CrawlerSlaveYoke   CrawlerName CrawlerControlYoke  \\\n",
       "0     CMY-000000001    CSY-000000001  CW-000000001      CCY-000000001   \n",
       "1     CMY-000000001    CSY-000000002  CW-000000002      CCY-000000002   \n",
       "2     CMY-000000001    CSY-000000003  CW-000000003      CCY-000000003   \n",
       "3     CMY-000000001    CSY-000000004  CW-000000004      CCY-000000004   \n",
       "4     CMY-000000001    CSY-000000005  CW-000000005      CCY-000000005   \n",
       "\n",
       "  CrawlerInputChromosome CrawlerProcessChromosome CrawlerOutputChromosome  \n",
       "0              IC-000001                PC-000001               OC-000001  \n",
       "1              IC-000002                PC-000001               OC-000001  \n",
       "2              IC-000003                PC-000001               OC-000001  \n",
       "3              IC-000004                PC-000001               OC-000001  \n",
       "4              IC-000005                PC-000001               OC-000001  "
      ]
     },
     "execution_count": 29,
     "metadata": {},
     "output_type": "execute_result"
    }
   ],
   "source": [
    "df.head()"
   ]
  },
  {
   "cell_type": "code",
   "execution_count": 30,
   "metadata": {},
   "outputs": [],
   "source": [
    "conn = sq.connect(dbfullname)"
   ]
  },
  {
   "cell_type": "code",
   "execution_count": 31,
   "metadata": {},
   "outputs": [],
   "source": [
    "tablename='DNAData'\n",
    "df.to_sql(tablename, conn, schema='RIF0001', if_exists='replace', index=True)\n",
    "conn.commit()"
   ]
  },
  {
   "cell_type": "code",
   "execution_count": 32,
   "metadata": {},
   "outputs": [
    {
     "data": {
      "text/plain": [
       "Index(['CrawlerMasterYoke', 'CrawlerSlaveYoke', 'CrawlerName',\n",
       "       'CrawlerControlYoke', 'CrawlerInputChromosome',\n",
       "       'CrawlerProcessChromosome', 'CrawlerOutputChromosome'],\n",
       "      dtype='object')"
      ]
     },
     "execution_count": 32,
     "metadata": {},
     "output_type": "execute_result"
    }
   ],
   "source": [
    "df.columns"
   ]
  },
  {
   "cell_type": "code",
   "execution_count": 33,
   "metadata": {
    "slideshow": {
     "slide_type": "fragment"
    }
   },
   "outputs": [
    {
     "name": "stdout",
     "output_type": "stream",
     "text": [
      "CrawlerMasterYokeData (1,)\n",
      "CrawlerSlaveYokeData (28,)\n",
      "CrawlerNameData (28,)\n",
      "CrawlerControlYokeData (28,)\n",
      "CrawlerInputChromosomeData (28,)\n",
      "CrawlerProcessChromosomeData (1,)\n",
      "CrawlerOutputChromosomeData (1,)\n"
     ]
    }
   ],
   "source": [
    "for f in df.columns:\n",
    "    df2=df[f].copy(deep=True)\n",
    "    df2.drop_duplicates(keep='first', inplace=True)\n",
    "    df2.reset_index(level=None, drop=True, inplace=True)\n",
    "    tablename='%sData' % f\n",
    "    print(tablename, df2.shape)\n",
    "    df2.to_sql(tablename, conn, schema='RIF0001', if_exists='replace', index=True)\n",
    "    conn.commit()"
   ]
  },
  {
   "cell_type": "markdown",
   "metadata": {},
   "source": [
    "### Build Yoke Files"
   ]
  },
  {
   "cell_type": "code",
   "execution_count": 34,
   "metadata": {},
   "outputs": [
    {
     "name": "stdout",
     "output_type": "stream",
     "text": [
      "C:\\Users\\sirve\\Documents\\GitRaptorQube\\RIF\\MyPhD\\jupyter\\Crawler-Chromosome\\000-RIF\\200-Operational-Management-Layer\\100-Crawler-Definitions\\200-Crawler-Yoke-Definitions\n",
      "(57, 2)\n"
     ]
    }
   ],
   "source": [
    "opsDir = '200-Crawler-Yoke-Definitions'\n",
    "opsDirName=os.path.join(rifDirName, '200-Operational-Management-Layer', '100-Crawler-Definitions', opsDir)\n",
    "print(opsDirName)\n",
    "\n",
    "sSql=\"select 'CrawlerMasterYoke' as sType, CrawlerMasterYoke as Yoke from CrawlerMasterYokeData\"\n",
    "sSql=sSql + \" union select 'CrawlerSlaveYoke' as sType, CrawlerSlaveYoke as Yoke from CrawlerSlaveYokeData\"\n",
    "sSql=sSql + \" union select 'CrawlerControlYoke' as sType, CrawlerControlYoke as Yoke from CrawlerControlYokeData\"\n",
    "\n",
    "sqlDf=pd.read_sql(sSql, conn)\n",
    "print(sqlDf.shape)\n",
    "\n",
    "for i in range(sqlDf.shape[0]):\n",
    "    opsFileName='%s.py' % sqlDf['Yoke'][i]\n",
    "    opsTypeName=sqlDf['sType'][i]\n",
    "    \n",
    "    opsPyFileName=os.path.join(opsDirName,opsFileName)\n",
    "    #print(opsPyFileName)\n",
    "    \n",
    "    f = open(opsPyFileName,'w')\n",
    "    f.write('# Author: Andreas Francois Vermeulen')\n",
    "    f.write('\\n')\n",
    "    f.write('print(\"%s\")' % opsTypeName)\n",
    "    f.write('\\n')\n",
    "    f.write('print(\"%s\")' % opsFileName)\n",
    "    f.write('\\n')\n",
    "    f.close()"
   ]
  },
  {
   "cell_type": "markdown",
   "metadata": {},
   "source": [
    "#### Build Input Files"
   ]
  },
  {
   "cell_type": "code",
   "execution_count": 36,
   "metadata": {},
   "outputs": [
    {
     "name": "stdout",
     "output_type": "stream",
     "text": [
      "C:\\Users\\sirve\\Documents\\GitRaptorQube\\RIF\\MyPhD\\jupyter\\Crawler-Chromosome\\000-RIF\\200-Operational-Management-Layer\\100-Crawler-Definitions\\300-Crawler-Input-Definitions\n",
      "(28, 2)\n"
     ]
    }
   ],
   "source": [
    "opsDir = '300-Crawler-Input-Definitions'\n",
    "opsDirName=os.path.join(rifDirName, '200-Operational-Management-Layer', '100-Crawler-Definitions', opsDir)\n",
    "print(opsDirName)\n",
    "\n",
    "sType='CrawlerInputChromosome'\n",
    "\n",
    "sSql=\"select '%s' as sType, %s from %sData\" % (sType,sType,sType)\n",
    "\n",
    "sqlDf=pd.read_sql(sSql, conn)\n",
    "print(sqlDf.shape)\n",
    "\n",
    "for i in range(sqlDf.shape[0]):\n",
    "    opsFileName='%s.py' % sqlDf[sType][i]\n",
    "    opsTypeName=sqlDf['sType'][i]\n",
    "    \n",
    "    opsPyFileName=os.path.join(opsDirName,opsFileName)\n",
    "    #print(opsPyFileName)\n",
    "    \n",
    "    f = open(opsPyFileName,'w')\n",
    "    f.write('# Author: Andreas Francois Vermeulen')\n",
    "    f.write('\\n')\n",
    "    f.write('print(\"%s\")' % opsTypeName)\n",
    "    f.write('\\n')\n",
    "    f.write('print(\"%s\")' % opsFileName)\n",
    "    f.write('\\n')\n",
    "    f.write('print(\"Process SERUMS data for %s\")' % countries[i])\n",
    "    f.write('\\n')\n",
    "    \n",
    "    tpole=['Time','Person','Organisation','Location','Event']\n",
    "    for s in tpole:\n",
    "        f.write('print(\"Process : %s\")' % s)\n",
    "        f.write('\\n')\n",
    "                \n",
    "    f.close()"
   ]
  },
  {
   "cell_type": "markdown",
   "metadata": {},
   "source": [
    "#### Build Process Files"
   ]
  },
  {
   "cell_type": "code",
   "execution_count": 37,
   "metadata": {},
   "outputs": [
    {
     "name": "stdout",
     "output_type": "stream",
     "text": [
      "C:\\Users\\sirve\\Documents\\GitRaptorQube\\RIF\\MyPhD\\jupyter\\Crawler-Chromosome\\000-RIF\\200-Operational-Management-Layer\\100-Crawler-Definitions\\400-Crawler-Process-Definitions\n",
      "(1, 2)\n"
     ]
    }
   ],
   "source": [
    "opsDir = '400-Crawler-Process-Definitions'\n",
    "opsDirName=os.path.join(rifDirName, '200-Operational-Management-Layer', '100-Crawler-Definitions', opsDir)\n",
    "print(opsDirName)\n",
    "\n",
    "\n",
    "sType='CrawlerProcessChromosome'\n",
    "\n",
    "sSql=\"select '%s' as sType, %s from %sData\" % (sType,sType,sType)\n",
    "\n",
    "sqlDf=pd.read_sql(sSql, conn)\n",
    "print(sqlDf.shape)\n",
    "\n",
    "for i in range(sqlDf.shape[0]):\n",
    "    opsFileName='%s.py' % sqlDf[sType][i]\n",
    "    opsTypeName=sqlDf['sType'][i]\n",
    "    \n",
    "    opsPyFileName=os.path.join(opsDirName,opsFileName)\n",
    "    #print(opsPyFileName)\n",
    "    \n",
    "    f = open(opsPyFileName,'w')\n",
    "    f.write('# Author: Andreas Francois Vermeulen')\n",
    "    f.write('\\n')\n",
    "    f.write('print(\"%s\")' % opsTypeName)\n",
    "    f.write('\\n')\n",
    "    f.write('print(\"%s\")' % opsFileName)\n",
    "    f.write('\\n')\n",
    "    f.close()"
   ]
  },
  {
   "cell_type": "markdown",
   "metadata": {},
   "source": [
    "#### Build Output Files"
   ]
  },
  {
   "cell_type": "code",
   "execution_count": 38,
   "metadata": {},
   "outputs": [
    {
     "name": "stdout",
     "output_type": "stream",
     "text": [
      "C:\\Users\\sirve\\Documents\\GitRaptorQube\\RIF\\MyPhD\\jupyter\\Crawler-Chromosome\\000-RIF\\200-Operational-Management-Layer\\100-Crawler-Definitions\\500-Crawler-Output-Definitions\n",
      "(1, 2)\n"
     ]
    }
   ],
   "source": [
    "opsDir = '500-Crawler-Output-Definitions'\n",
    "opsDirName=os.path.join(rifDirName, '200-Operational-Management-Layer', '100-Crawler-Definitions', opsDir)\n",
    "print(opsDirName)\n",
    "\n",
    "\n",
    "sType='CrawlerOutputChromosome'\n",
    "\n",
    "sSql=\"select '%s' as sType, %s from %sData\" % (sType,sType,sType)\n",
    "\n",
    "sqlDf=pd.read_sql(sSql, conn)\n",
    "print(sqlDf.shape)\n",
    "\n",
    "for i in range(sqlDf.shape[0]):\n",
    "    opsFileName='%s.py' % sqlDf[sType][i]\n",
    "    opsTypeName=sqlDf['sType'][i]\n",
    "    \n",
    "    opsPyFileName=os.path.join(opsDirName,opsFileName)\n",
    "    #print(opsPyFileName)\n",
    "    \n",
    "    f = open(opsPyFileName,'w')\n",
    "    f.write('# Author: Andreas Francois Vermeulen')\n",
    "    f.write('\\n')\n",
    "    f.write('print(\"%s\")' % opsTypeName)\n",
    "    f.write('\\n')\n",
    "    f.write('print(\"%s\")' % opsFileName)\n",
    "    f.write('\\n')\n",
    "    f.close()"
   ]
  },
  {
   "cell_type": "code",
   "execution_count": 39,
   "metadata": {},
   "outputs": [],
   "source": [
    "conn.close()"
   ]
  },
  {
   "cell_type": "code",
   "execution_count": 40,
   "metadata": {},
   "outputs": [
    {
     "data": {
      "application/javascript": [
       "IPython.OutputArea.auto_scroll_threshold = 9999;\n"
      ],
      "text/plain": [
       "<IPython.core.display.Javascript object>"
      ]
     },
     "metadata": {},
     "output_type": "display_data"
    }
   ],
   "source": [
    "%%javascript\n",
    "IPython.OutputArea.auto_scroll_threshold = 9999;"
   ]
  },
  {
   "cell_type": "code",
   "execution_count": 41,
   "metadata": {},
   "outputs": [
    {
     "name": "stdout",
     "output_type": "stream",
     "text": [
      "000-RIF\\200-Operational-Management-Layer\\100-Crawler-Definitions\\200-Crawler-Yoke-Definitions\\CCY-000000001.py\n",
      "000-RIF\\200-Operational-Management-Layer\\100-Crawler-Definitions\\200-Crawler-Yoke-Definitions\\CCY-000000002.py\n",
      "000-RIF\\200-Operational-Management-Layer\\100-Crawler-Definitions\\200-Crawler-Yoke-Definitions\\CCY-000000003.py\n",
      "000-RIF\\200-Operational-Management-Layer\\100-Crawler-Definitions\\200-Crawler-Yoke-Definitions\\CCY-000000004.py\n",
      "000-RIF\\200-Operational-Management-Layer\\100-Crawler-Definitions\\200-Crawler-Yoke-Definitions\\CCY-000000005.py\n",
      "000-RIF\\200-Operational-Management-Layer\\100-Crawler-Definitions\\200-Crawler-Yoke-Definitions\\CCY-000000006.py\n",
      "000-RIF\\200-Operational-Management-Layer\\100-Crawler-Definitions\\200-Crawler-Yoke-Definitions\\CCY-000000007.py\n",
      "000-RIF\\200-Operational-Management-Layer\\100-Crawler-Definitions\\200-Crawler-Yoke-Definitions\\CCY-000000008.py\n",
      "000-RIF\\200-Operational-Management-Layer\\100-Crawler-Definitions\\200-Crawler-Yoke-Definitions\\CCY-000000009.py\n",
      "000-RIF\\200-Operational-Management-Layer\\100-Crawler-Definitions\\200-Crawler-Yoke-Definitions\\CCY-000000010.py\n",
      "000-RIF\\200-Operational-Management-Layer\\100-Crawler-Definitions\\200-Crawler-Yoke-Definitions\\CCY-000000011.py\n",
      "000-RIF\\200-Operational-Management-Layer\\100-Crawler-Definitions\\200-Crawler-Yoke-Definitions\\CCY-000000012.py\n",
      "000-RIF\\200-Operational-Management-Layer\\100-Crawler-Definitions\\200-Crawler-Yoke-Definitions\\CCY-000000013.py\n",
      "000-RIF\\200-Operational-Management-Layer\\100-Crawler-Definitions\\200-Crawler-Yoke-Definitions\\CCY-000000014.py\n",
      "000-RIF\\200-Operational-Management-Layer\\100-Crawler-Definitions\\200-Crawler-Yoke-Definitions\\CCY-000000015.py\n",
      "000-RIF\\200-Operational-Management-Layer\\100-Crawler-Definitions\\200-Crawler-Yoke-Definitions\\CCY-000000016.py\n",
      "000-RIF\\200-Operational-Management-Layer\\100-Crawler-Definitions\\200-Crawler-Yoke-Definitions\\CCY-000000017.py\n",
      "000-RIF\\200-Operational-Management-Layer\\100-Crawler-Definitions\\200-Crawler-Yoke-Definitions\\CCY-000000018.py\n",
      "000-RIF\\200-Operational-Management-Layer\\100-Crawler-Definitions\\200-Crawler-Yoke-Definitions\\CCY-000000019.py\n",
      "000-RIF\\200-Operational-Management-Layer\\100-Crawler-Definitions\\200-Crawler-Yoke-Definitions\\CCY-000000020.py\n",
      "000-RIF\\200-Operational-Management-Layer\\100-Crawler-Definitions\\200-Crawler-Yoke-Definitions\\CCY-000000021.py\n",
      "000-RIF\\200-Operational-Management-Layer\\100-Crawler-Definitions\\200-Crawler-Yoke-Definitions\\CCY-000000022.py\n",
      "000-RIF\\200-Operational-Management-Layer\\100-Crawler-Definitions\\200-Crawler-Yoke-Definitions\\CCY-000000023.py\n",
      "000-RIF\\200-Operational-Management-Layer\\100-Crawler-Definitions\\200-Crawler-Yoke-Definitions\\CCY-000000024.py\n",
      "000-RIF\\200-Operational-Management-Layer\\100-Crawler-Definitions\\200-Crawler-Yoke-Definitions\\CCY-000000025.py\n",
      "000-RIF\\200-Operational-Management-Layer\\100-Crawler-Definitions\\200-Crawler-Yoke-Definitions\\CCY-000000026.py\n",
      "000-RIF\\200-Operational-Management-Layer\\100-Crawler-Definitions\\200-Crawler-Yoke-Definitions\\CCY-000000027.py\n",
      "000-RIF\\200-Operational-Management-Layer\\100-Crawler-Definitions\\200-Crawler-Yoke-Definitions\\CCY-000000028.py\n",
      "000-RIF\\200-Operational-Management-Layer\\100-Crawler-Definitions\\200-Crawler-Yoke-Definitions\\CMY-000000001.py\n",
      "000-RIF\\200-Operational-Management-Layer\\100-Crawler-Definitions\\200-Crawler-Yoke-Definitions\\CSY-000000001.py\n",
      "000-RIF\\200-Operational-Management-Layer\\100-Crawler-Definitions\\200-Crawler-Yoke-Definitions\\CSY-000000002.py\n",
      "000-RIF\\200-Operational-Management-Layer\\100-Crawler-Definitions\\200-Crawler-Yoke-Definitions\\CSY-000000003.py\n",
      "000-RIF\\200-Operational-Management-Layer\\100-Crawler-Definitions\\200-Crawler-Yoke-Definitions\\CSY-000000004.py\n",
      "000-RIF\\200-Operational-Management-Layer\\100-Crawler-Definitions\\200-Crawler-Yoke-Definitions\\CSY-000000005.py\n",
      "000-RIF\\200-Operational-Management-Layer\\100-Crawler-Definitions\\200-Crawler-Yoke-Definitions\\CSY-000000006.py\n",
      "000-RIF\\200-Operational-Management-Layer\\100-Crawler-Definitions\\200-Crawler-Yoke-Definitions\\CSY-000000007.py\n",
      "000-RIF\\200-Operational-Management-Layer\\100-Crawler-Definitions\\200-Crawler-Yoke-Definitions\\CSY-000000008.py\n",
      "000-RIF\\200-Operational-Management-Layer\\100-Crawler-Definitions\\200-Crawler-Yoke-Definitions\\CSY-000000009.py\n",
      "000-RIF\\200-Operational-Management-Layer\\100-Crawler-Definitions\\200-Crawler-Yoke-Definitions\\CSY-000000010.py\n",
      "000-RIF\\200-Operational-Management-Layer\\100-Crawler-Definitions\\200-Crawler-Yoke-Definitions\\CSY-000000011.py\n",
      "000-RIF\\200-Operational-Management-Layer\\100-Crawler-Definitions\\200-Crawler-Yoke-Definitions\\CSY-000000012.py\n",
      "000-RIF\\200-Operational-Management-Layer\\100-Crawler-Definitions\\200-Crawler-Yoke-Definitions\\CSY-000000013.py\n",
      "000-RIF\\200-Operational-Management-Layer\\100-Crawler-Definitions\\200-Crawler-Yoke-Definitions\\CSY-000000014.py\n",
      "000-RIF\\200-Operational-Management-Layer\\100-Crawler-Definitions\\200-Crawler-Yoke-Definitions\\CSY-000000015.py\n",
      "000-RIF\\200-Operational-Management-Layer\\100-Crawler-Definitions\\200-Crawler-Yoke-Definitions\\CSY-000000016.py\n",
      "000-RIF\\200-Operational-Management-Layer\\100-Crawler-Definitions\\200-Crawler-Yoke-Definitions\\CSY-000000017.py\n",
      "000-RIF\\200-Operational-Management-Layer\\100-Crawler-Definitions\\200-Crawler-Yoke-Definitions\\CSY-000000018.py\n",
      "000-RIF\\200-Operational-Management-Layer\\100-Crawler-Definitions\\200-Crawler-Yoke-Definitions\\CSY-000000019.py\n",
      "000-RIF\\200-Operational-Management-Layer\\100-Crawler-Definitions\\200-Crawler-Yoke-Definitions\\CSY-000000020.py\n",
      "000-RIF\\200-Operational-Management-Layer\\100-Crawler-Definitions\\200-Crawler-Yoke-Definitions\\CSY-000000021.py\n",
      "000-RIF\\200-Operational-Management-Layer\\100-Crawler-Definitions\\200-Crawler-Yoke-Definitions\\CSY-000000022.py\n",
      "000-RIF\\200-Operational-Management-Layer\\100-Crawler-Definitions\\200-Crawler-Yoke-Definitions\\CSY-000000023.py\n",
      "000-RIF\\200-Operational-Management-Layer\\100-Crawler-Definitions\\200-Crawler-Yoke-Definitions\\CSY-000000024.py\n",
      "000-RIF\\200-Operational-Management-Layer\\100-Crawler-Definitions\\200-Crawler-Yoke-Definitions\\CSY-000000025.py\n",
      "000-RIF\\200-Operational-Management-Layer\\100-Crawler-Definitions\\200-Crawler-Yoke-Definitions\\CSY-000000026.py\n",
      "000-RIF\\200-Operational-Management-Layer\\100-Crawler-Definitions\\200-Crawler-Yoke-Definitions\\CSY-000000027.py\n",
      "000-RIF\\200-Operational-Management-Layer\\100-Crawler-Definitions\\200-Crawler-Yoke-Definitions\\CSY-000000028.py\n",
      "000-RIF\\200-Operational-Management-Layer\\100-Crawler-Definitions\\300-Crawler-Input-Definitions\\IC-000001.py\n",
      "000-RIF\\200-Operational-Management-Layer\\100-Crawler-Definitions\\300-Crawler-Input-Definitions\\IC-000002.py\n",
      "000-RIF\\200-Operational-Management-Layer\\100-Crawler-Definitions\\300-Crawler-Input-Definitions\\IC-000003.py\n",
      "000-RIF\\200-Operational-Management-Layer\\100-Crawler-Definitions\\300-Crawler-Input-Definitions\\IC-000004.py\n",
      "000-RIF\\200-Operational-Management-Layer\\100-Crawler-Definitions\\300-Crawler-Input-Definitions\\IC-000005.py\n",
      "000-RIF\\200-Operational-Management-Layer\\100-Crawler-Definitions\\300-Crawler-Input-Definitions\\IC-000006.py\n",
      "000-RIF\\200-Operational-Management-Layer\\100-Crawler-Definitions\\300-Crawler-Input-Definitions\\IC-000007.py\n",
      "000-RIF\\200-Operational-Management-Layer\\100-Crawler-Definitions\\300-Crawler-Input-Definitions\\IC-000008.py\n",
      "000-RIF\\200-Operational-Management-Layer\\100-Crawler-Definitions\\300-Crawler-Input-Definitions\\IC-000009.py\n",
      "000-RIF\\200-Operational-Management-Layer\\100-Crawler-Definitions\\300-Crawler-Input-Definitions\\IC-000010.py\n",
      "000-RIF\\200-Operational-Management-Layer\\100-Crawler-Definitions\\300-Crawler-Input-Definitions\\IC-000011.py\n",
      "000-RIF\\200-Operational-Management-Layer\\100-Crawler-Definitions\\300-Crawler-Input-Definitions\\IC-000012.py\n",
      "000-RIF\\200-Operational-Management-Layer\\100-Crawler-Definitions\\300-Crawler-Input-Definitions\\IC-000013.py\n",
      "000-RIF\\200-Operational-Management-Layer\\100-Crawler-Definitions\\300-Crawler-Input-Definitions\\IC-000014.py\n",
      "000-RIF\\200-Operational-Management-Layer\\100-Crawler-Definitions\\300-Crawler-Input-Definitions\\IC-000015.py\n",
      "000-RIF\\200-Operational-Management-Layer\\100-Crawler-Definitions\\300-Crawler-Input-Definitions\\IC-000016.py\n",
      "000-RIF\\200-Operational-Management-Layer\\100-Crawler-Definitions\\300-Crawler-Input-Definitions\\IC-000017.py\n",
      "000-RIF\\200-Operational-Management-Layer\\100-Crawler-Definitions\\300-Crawler-Input-Definitions\\IC-000018.py\n",
      "000-RIF\\200-Operational-Management-Layer\\100-Crawler-Definitions\\300-Crawler-Input-Definitions\\IC-000019.py\n",
      "000-RIF\\200-Operational-Management-Layer\\100-Crawler-Definitions\\300-Crawler-Input-Definitions\\IC-000020.py\n",
      "000-RIF\\200-Operational-Management-Layer\\100-Crawler-Definitions\\300-Crawler-Input-Definitions\\IC-000021.py\n",
      "000-RIF\\200-Operational-Management-Layer\\100-Crawler-Definitions\\300-Crawler-Input-Definitions\\IC-000022.py\n",
      "000-RIF\\200-Operational-Management-Layer\\100-Crawler-Definitions\\300-Crawler-Input-Definitions\\IC-000023.py\n",
      "000-RIF\\200-Operational-Management-Layer\\100-Crawler-Definitions\\300-Crawler-Input-Definitions\\IC-000024.py\n",
      "000-RIF\\200-Operational-Management-Layer\\100-Crawler-Definitions\\300-Crawler-Input-Definitions\\IC-000025.py\n",
      "000-RIF\\200-Operational-Management-Layer\\100-Crawler-Definitions\\300-Crawler-Input-Definitions\\IC-000026.py\n",
      "000-RIF\\200-Operational-Management-Layer\\100-Crawler-Definitions\\300-Crawler-Input-Definitions\\IC-000027.py\n",
      "000-RIF\\200-Operational-Management-Layer\\100-Crawler-Definitions\\300-Crawler-Input-Definitions\\IC-000028.py\n",
      "000-RIF\\200-Operational-Management-Layer\\100-Crawler-Definitions\\400-Crawler-Process-Definitions\\PC-000001.py\n",
      "000-RIF\\200-Operational-Management-Layer\\100-Crawler-Definitions\\500-Crawler-Output-Definitions\\OC-000001.py\n"
     ]
    }
   ],
   "source": [
    "opsDirName=os.path.join(rifDirName, '200-Operational-Management-Layer', '100-Crawler-Definitions')\n",
    "\n",
    "for root, dirs, files in os.walk(opsDirName, topdown=False):\n",
    "    for name in files:\n",
    "        filename, file_extension = os.path.splitext(name)\n",
    "        if file_extension == '.py':\n",
    "            print(os.path.relpath(os.path.join(root, name)))"
   ]
  },
  {
   "cell_type": "code",
   "execution_count": 42,
   "metadata": {},
   "outputs": [
    {
     "name": "stdout",
     "output_type": "stream",
     "text": [
      "./000-RIF/200-Operational-Management-Layer/100-Crawler-Definitions/100-Crawler-Master-Service-Definitions/Crawler-Master-Service-Definitions.db\n",
      "(28, 8)\n",
      "Index(['index', 'CrawlerMasterYoke', 'CrawlerSlaveYoke', 'CrawlerName',\n",
      "       'CrawlerControlYoke', 'CrawlerInputChromosome',\n",
      "       'CrawlerProcessChromosome', 'CrawlerOutputChromosome'],\n",
      "      dtype='object')\n"
     ]
    },
    {
     "data": {
      "application/javascript": [
       "IPython.OutputArea.auto_scroll_threshold = 9999;\n"
      ],
      "text/plain": [
       "<IPython.core.display.Javascript object>"
      ]
     },
     "metadata": {},
     "output_type": "display_data"
    },
    {
     "name": "stdout",
     "output_type": "stream",
     "text": [
      "./results\\RAPTORQUBE-000001.jpg\n",
      "./results\\RAPTORQUBE-000002.jpg\n",
      "./results\\RAPTORQUBE-000003.jpg\n",
      "./results\\RAPTORQUBE-000004.jpg\n",
      "./results\\RAPTORQUBE-000005.jpg\n",
      "./results\\RAPTORQUBE-000006.jpg\n",
      "./results\\RAPTORQUBE-000007.jpg\n",
      "./results\\RAPTORQUBE-000008.jpg\n",
      "./results\\RAPTORQUBE-000009.jpg\n",
      "./results\\RAPTORQUBE-000010.jpg\n",
      "./results\\RAPTORQUBE-000011.jpg\n",
      "./results\\RAPTORQUBE-000012.jpg\n",
      "./results\\RAPTORQUBE-000013.jpg\n",
      "./results\\RAPTORQUBE-000014.jpg\n",
      "./results\\RAPTORQUBE-000015.jpg\n",
      "./results\\RAPTORQUBE-000016.jpg\n",
      "./results\\RAPTORQUBE-000017.jpg\n",
      "./results\\RAPTORQUBE-000018.jpg\n",
      "./results\\RAPTORQUBE-000019.jpg\n",
      "./results\\RAPTORQUBE-000020.jpg\n",
      "./results\\RAPTORQUBE-000021.jpg\n",
      "./results\\RAPTORQUBE-000022.jpg\n",
      "./results\\RAPTORQUBE-000023.jpg\n",
      "./results\\RAPTORQUBE-000024.jpg\n",
      "./results\\RAPTORQUBE-000025.jpg\n",
      "./results\\RAPTORQUBE-000026.jpg\n",
      "./results\\RAPTORQUBE-000027.jpg\n",
      "./results\\RAPTORQUBE-000028.jpg\n",
      "\n",
      "====================================================================================================\n",
      "Crawler set: 1\n",
      "====================================================================================================\n"
     ]
    },
    {
     "data": {
      "text/plain": [
       "<Figure size 1500x1500 with 1 Axes>"
      ]
     },
     "metadata": {},
     "output_type": "display_data"
    },
    {
     "name": "stdout",
     "output_type": "stream",
     "text": [
      "\n",
      "====================================================================================================\n",
      "Crawler set: 2\n",
      "====================================================================================================\n"
     ]
    },
    {
     "data": {
      "text/plain": [
       "<Figure size 1500x1500 with 1 Axes>"
      ]
     },
     "metadata": {},
     "output_type": "display_data"
    },
    {
     "name": "stdout",
     "output_type": "stream",
     "text": [
      "\n",
      "====================================================================================================\n",
      "Crawler set: 3\n",
      "====================================================================================================\n"
     ]
    },
    {
     "data": {
      "text/plain": [
       "<Figure size 1500x1500 with 1 Axes>"
      ]
     },
     "metadata": {},
     "output_type": "display_data"
    },
    {
     "name": "stdout",
     "output_type": "stream",
     "text": [
      "\n",
      "====================================================================================================\n",
      "Crawler set: 4\n",
      "====================================================================================================\n"
     ]
    },
    {
     "data": {
      "text/plain": [
       "<Figure size 1500x1500 with 1 Axes>"
      ]
     },
     "metadata": {},
     "output_type": "display_data"
    },
    {
     "name": "stdout",
     "output_type": "stream",
     "text": [
      "\n",
      "====================================================================================================\n",
      "Crawler set: 5\n",
      "====================================================================================================\n"
     ]
    },
    {
     "data": {
      "text/plain": [
       "<Figure size 1500x1500 with 1 Axes>"
      ]
     },
     "metadata": {},
     "output_type": "display_data"
    },
    {
     "name": "stdout",
     "output_type": "stream",
     "text": [
      "\n",
      "====================================================================================================\n",
      "Crawler set: 6\n",
      "====================================================================================================\n"
     ]
    },
    {
     "data": {
      "text/plain": [
       "<Figure size 1500x1500 with 1 Axes>"
      ]
     },
     "metadata": {},
     "output_type": "display_data"
    },
    {
     "name": "stdout",
     "output_type": "stream",
     "text": [
      "\n",
      "====================================================================================================\n",
      "Crawler set: 7\n",
      "====================================================================================================\n"
     ]
    },
    {
     "data": {
      "text/plain": [
       "<Figure size 1500x1500 with 1 Axes>"
      ]
     },
     "metadata": {},
     "output_type": "display_data"
    },
    {
     "name": "stdout",
     "output_type": "stream",
     "text": [
      "\n",
      "====================================================================================================\n",
      "Crawler set: 8\n",
      "====================================================================================================\n"
     ]
    },
    {
     "data": {
      "text/plain": [
       "<Figure size 1500x1500 with 1 Axes>"
      ]
     },
     "metadata": {},
     "output_type": "display_data"
    },
    {
     "name": "stdout",
     "output_type": "stream",
     "text": [
      "\n",
      "====================================================================================================\n",
      "Crawler set: 9\n",
      "====================================================================================================\n"
     ]
    },
    {
     "data": {
      "text/plain": [
       "<Figure size 1500x1500 with 1 Axes>"
      ]
     },
     "metadata": {},
     "output_type": "display_data"
    },
    {
     "name": "stdout",
     "output_type": "stream",
     "text": [
      "\n",
      "====================================================================================================\n",
      "Crawler set: 10\n",
      "====================================================================================================\n"
     ]
    },
    {
     "data": {
      "text/plain": [
       "<Figure size 1500x1500 with 1 Axes>"
      ]
     },
     "metadata": {},
     "output_type": "display_data"
    },
    {
     "name": "stdout",
     "output_type": "stream",
     "text": [
      "\n",
      "====================================================================================================\n",
      "Crawler set: 11\n",
      "====================================================================================================\n"
     ]
    },
    {
     "data": {
      "text/plain": [
       "<Figure size 1500x1500 with 1 Axes>"
      ]
     },
     "metadata": {},
     "output_type": "display_data"
    },
    {
     "name": "stdout",
     "output_type": "stream",
     "text": [
      "\n",
      "====================================================================================================\n",
      "Crawler set: 12\n",
      "====================================================================================================\n"
     ]
    },
    {
     "data": {
      "text/plain": [
       "<Figure size 1500x1500 with 1 Axes>"
      ]
     },
     "metadata": {},
     "output_type": "display_data"
    },
    {
     "name": "stdout",
     "output_type": "stream",
     "text": [
      "\n",
      "====================================================================================================\n",
      "Crawler set: 13\n",
      "====================================================================================================\n"
     ]
    },
    {
     "data": {
      "text/plain": [
       "<Figure size 1500x1500 with 1 Axes>"
      ]
     },
     "metadata": {},
     "output_type": "display_data"
    },
    {
     "name": "stdout",
     "output_type": "stream",
     "text": [
      "\n",
      "====================================================================================================\n",
      "Crawler set: 14\n",
      "====================================================================================================\n"
     ]
    },
    {
     "data": {
      "text/plain": [
       "<Figure size 1500x1500 with 1 Axes>"
      ]
     },
     "metadata": {},
     "output_type": "display_data"
    },
    {
     "name": "stdout",
     "output_type": "stream",
     "text": [
      "\n",
      "====================================================================================================\n",
      "Crawler set: 15\n",
      "====================================================================================================\n"
     ]
    },
    {
     "data": {
      "text/plain": [
       "<Figure size 1500x1500 with 1 Axes>"
      ]
     },
     "metadata": {},
     "output_type": "display_data"
    },
    {
     "name": "stdout",
     "output_type": "stream",
     "text": [
      "\n",
      "====================================================================================================\n",
      "Crawler set: 16\n",
      "====================================================================================================\n"
     ]
    },
    {
     "data": {
      "text/plain": [
       "<Figure size 1500x1500 with 1 Axes>"
      ]
     },
     "metadata": {},
     "output_type": "display_data"
    },
    {
     "name": "stdout",
     "output_type": "stream",
     "text": [
      "\n",
      "====================================================================================================\n",
      "Crawler set: 17\n",
      "====================================================================================================\n"
     ]
    },
    {
     "data": {
      "text/plain": [
       "<Figure size 1500x1500 with 1 Axes>"
      ]
     },
     "metadata": {},
     "output_type": "display_data"
    },
    {
     "name": "stdout",
     "output_type": "stream",
     "text": [
      "\n",
      "====================================================================================================\n",
      "Crawler set: 18\n",
      "====================================================================================================\n"
     ]
    },
    {
     "data": {
      "text/plain": [
       "<Figure size 1500x1500 with 1 Axes>"
      ]
     },
     "metadata": {},
     "output_type": "display_data"
    },
    {
     "name": "stdout",
     "output_type": "stream",
     "text": [
      "\n",
      "====================================================================================================\n",
      "Crawler set: 19\n",
      "====================================================================================================\n"
     ]
    },
    {
     "data": {
      "text/plain": [
       "<Figure size 1500x1500 with 1 Axes>"
      ]
     },
     "metadata": {},
     "output_type": "display_data"
    },
    {
     "name": "stdout",
     "output_type": "stream",
     "text": [
      "\n",
      "====================================================================================================\n",
      "Crawler set: 20\n",
      "====================================================================================================\n"
     ]
    },
    {
     "data": {
      "text/plain": [
       "<Figure size 1500x1500 with 1 Axes>"
      ]
     },
     "metadata": {},
     "output_type": "display_data"
    },
    {
     "name": "stdout",
     "output_type": "stream",
     "text": [
      "\n",
      "====================================================================================================\n",
      "Crawler set: 21\n",
      "====================================================================================================\n"
     ]
    },
    {
     "data": {
      "text/plain": [
       "<Figure size 1500x1500 with 1 Axes>"
      ]
     },
     "metadata": {},
     "output_type": "display_data"
    },
    {
     "name": "stdout",
     "output_type": "stream",
     "text": [
      "\n",
      "====================================================================================================\n",
      "Crawler set: 22\n",
      "====================================================================================================\n"
     ]
    },
    {
     "data": {
      "text/plain": [
       "<Figure size 1500x1500 with 1 Axes>"
      ]
     },
     "metadata": {},
     "output_type": "display_data"
    },
    {
     "name": "stdout",
     "output_type": "stream",
     "text": [
      "\n",
      "====================================================================================================\n",
      "Crawler set: 23\n",
      "====================================================================================================\n"
     ]
    },
    {
     "data": {
      "text/plain": [
       "<Figure size 1500x1500 with 1 Axes>"
      ]
     },
     "metadata": {},
     "output_type": "display_data"
    },
    {
     "name": "stdout",
     "output_type": "stream",
     "text": [
      "\n",
      "====================================================================================================\n",
      "Crawler set: 24\n",
      "====================================================================================================\n"
     ]
    },
    {
     "data": {
      "text/plain": [
       "<Figure size 1500x1500 with 1 Axes>"
      ]
     },
     "metadata": {},
     "output_type": "display_data"
    },
    {
     "name": "stdout",
     "output_type": "stream",
     "text": [
      "\n",
      "====================================================================================================\n",
      "Crawler set: 25\n",
      "====================================================================================================\n"
     ]
    },
    {
     "data": {
      "text/plain": [
       "<Figure size 1500x1500 with 1 Axes>"
      ]
     },
     "metadata": {},
     "output_type": "display_data"
    },
    {
     "name": "stdout",
     "output_type": "stream",
     "text": [
      "\n",
      "====================================================================================================\n",
      "Crawler set: 26\n",
      "====================================================================================================\n"
     ]
    },
    {
     "data": {
      "text/plain": [
       "<Figure size 1500x1500 with 1 Axes>"
      ]
     },
     "metadata": {},
     "output_type": "display_data"
    },
    {
     "name": "stdout",
     "output_type": "stream",
     "text": [
      "\n",
      "====================================================================================================\n",
      "Crawler set: 27\n",
      "====================================================================================================\n"
     ]
    },
    {
     "data": {
      "text/plain": [
       "<Figure size 1500x1500 with 1 Axes>"
      ]
     },
     "metadata": {},
     "output_type": "display_data"
    },
    {
     "name": "stdout",
     "output_type": "stream",
     "text": [
      "\n",
      "====================================================================================================\n",
      "Crawler set: 28\n",
      "====================================================================================================\n"
     ]
    },
    {
     "data": {
      "text/plain": [
       "<Figure size 1500x1500 with 1 Axes>"
      ]
     },
     "metadata": {},
     "output_type": "display_data"
    },
    {
     "name": "stdout",
     "output_type": "stream",
     "text": [
      "Done!\n"
     ]
    }
   ],
   "source": [
    "%run ./Crawler-Graph-Chromosome-0001.ipynb"
   ]
  },
  {
   "cell_type": "code",
   "execution_count": 43,
   "metadata": {},
   "outputs": [
    {
     "name": "stdout",
     "output_type": "stream",
     "text": [
      "Done!\n"
     ]
    }
   ],
   "source": [
    "print('Done!')"
   ]
  },
  {
   "cell_type": "code",
   "execution_count": null,
   "metadata": {},
   "outputs": [],
   "source": []
  }
 ],
 "metadata": {
  "kernelspec": {
   "display_name": "Python 3",
   "language": "python",
   "name": "python3"
  },
  "language_info": {
   "codemirror_mode": {
    "name": "ipython",
    "version": 3
   },
   "file_extension": ".py",
   "mimetype": "text/x-python",
   "name": "python",
   "nbconvert_exporter": "python",
   "pygments_lexer": "ipython3",
   "version": "3.7.3"
  }
 },
 "nbformat": 4,
 "nbformat_minor": 2
}
