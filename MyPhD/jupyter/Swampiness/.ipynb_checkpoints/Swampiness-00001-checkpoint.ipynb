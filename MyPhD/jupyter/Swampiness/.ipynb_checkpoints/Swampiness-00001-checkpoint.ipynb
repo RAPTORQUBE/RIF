{
 "cells": [
  {
   "cell_type": "markdown",
   "metadata": {},
   "source": [
    "![raptorQube](./images/raptorqube.jpg)"
   ]
  },
  {
   "cell_type": "markdown",
   "metadata": {},
   "source": [
    "# Andreas Francois Vermeulen"
   ]
  },
  {
   "cell_type": "markdown",
   "metadata": {},
   "source": [
    "![Vermeulen](./images/vermeulen.png)"
   ]
  },
  {
   "cell_type": "markdown",
   "metadata": {},
   "source": [
    "### Supervisors: Dr Juliana Kuster Filipe Bowles / Dr Vladimir Janjic - University of St Andrews"
   ]
  },
  {
   "cell_type": "markdown",
   "metadata": {},
   "source": [
    "![St Andrews](./images/standrews.jpg)"
   ]
  },
  {
   "cell_type": "markdown",
   "metadata": {},
   "source": [
    "![raptorQube](./images/raptorqube2.jpg)"
   ]
  },
  {
   "cell_type": "markdown",
   "metadata": {},
   "source": [
    "## Swampiness Coefficient"
   ]
  },
  {
   "cell_type": "markdown",
   "metadata": {},
   "source": [
    "### Data Lake Zones and RAPTOR engine"
   ]
  },
  {
   "cell_type": "markdown",
   "metadata": {},
   "source": [
    "![RIF Core](./images/RIF-Core.JPG)"
   ]
  },
  {
   "cell_type": "markdown",
   "metadata": {},
   "source": [
    "### Data Vault : Time-Person-Organisation-Location-Event"
   ]
  },
  {
   "cell_type": "markdown",
   "metadata": {},
   "source": [
    "![TPOLE](./images/TPOLE.JPG)"
   ]
  },
  {
   "cell_type": "markdown",
   "metadata": {},
   "source": [
    "# Example: Swampiness Coefficient Calculation"
   ]
  },
  {
   "cell_type": "code",
   "execution_count": 1,
   "metadata": {},
   "outputs": [],
   "source": [
    "import numpy as np\n",
    "import pandas as pd\n",
    "import itertools"
   ]
  },
  {
   "cell_type": "code",
   "execution_count": 2,
   "metadata": {},
   "outputs": [],
   "source": [
    "nrSet = 0       # 0,1,2,3\n",
    "nrSize = 1000000\n",
    "nrUser = 1000000\n",
    "nrValue = float(0.015)\n",
    "nrRecordBlock = 1000"
   ]
  },
  {
   "cell_type": "markdown",
   "metadata": {},
   "source": [
    "### Show Case Data Lake"
   ]
  },
  {
   "cell_type": "code",
   "execution_count": 3,
   "metadata": {},
   "outputs": [],
   "source": [
    "if nrSet == 0:\n",
    "    nrRecords = 100 * nrSize\n",
    "    nrRecordswithProvenance = nrRecords * 1.00 # 100%\n",
    "    nrRecordsValid  = nrRecords * 1.00         # 100%\n",
    "\n",
    "    ProcessFitness = 1.00                      # 100%\n",
    "    \n",
    "    \n",
    "    ValidProcess = 1.00                        # 100%\n",
    "\n",
    "    businessValue = float(nrValue / nrRecordBlock)\n",
    "    nrUsers = nrUser"
   ]
  },
  {
   "cell_type": "markdown",
   "metadata": {},
   "source": [
    "### Good Data Lake"
   ]
  },
  {
   "cell_type": "code",
   "execution_count": 4,
   "metadata": {},
   "outputs": [],
   "source": [
    "if nrSet == 1:\n",
    "    nrRecords = 100 * nrSize\n",
    "    nrRecordswithProvenance = nrRecords * 0.99999 # 99.999%\n",
    "    nrRecordsValid  = nrRecords * 0.99999         # 99.999%\n",
    "\n",
    "    ProcessFitness = 0.99999                      # 99.999%\n",
    "    ValidProcess = 1.00                        # 100%\n",
    "\n",
    "    businessValue = float(nrValue / nrRecordBlock)\n",
    "    nrUsers = nrUser"
   ]
  },
  {
   "cell_type": "markdown",
   "metadata": {},
   "source": [
    "### Average Data Lake"
   ]
  },
  {
   "cell_type": "code",
   "execution_count": 5,
   "metadata": {},
   "outputs": [],
   "source": [
    "if nrSet == 2:\n",
    "    nrRecords = 100 * nrSize\n",
    "    nrRecordswithProvenance = nrRecords * 0.95 # 95%\n",
    "    nrRecordsValid  = nrRecords * 0.85         # 85%\n",
    "\n",
    "    ProcessFitness = 0.98                      # 98%\n",
    "    \n",
    "    ValidProcess = 0.95                        # 95%\n",
    "\n",
    "    businessValue = float(nrValue / nrRecordBlock)\n",
    "    nrUsers = nrUser"
   ]
  },
  {
   "cell_type": "markdown",
   "metadata": {},
   "source": [
    "### Bad Data Lake"
   ]
  },
  {
   "cell_type": "code",
   "execution_count": 6,
   "metadata": {},
   "outputs": [],
   "source": [
    "if nrSet == 3:\n",
    "    nrRecords = 100 * nrSize\n",
    "    nrRecordswithProvenance = nrRecords * 0.33 # 33%\n",
    "    nrRecordsValid  = nrRecords * 0.33         # 33%\n",
    "\n",
    "    ProcessFitness = 0.33                      # 33%\n",
    "    \n",
    "    ValidProcess = 0.33                        # 33%\n",
    "\n",
    "    businessValue = float(nrValue / nrRecordBlock)\n",
    "    nrUsers = nrUser"
   ]
  },
  {
   "cell_type": "markdown",
   "metadata": {},
   "source": [
    "### Alpha Weight"
   ]
  },
  {
   "cell_type": "code",
   "execution_count": 7,
   "metadata": {},
   "outputs": [],
   "source": [
    "alphaOne   = float(1/nrRecords)\n",
    "alphaTwo   = float(1.0)\n",
    "alphaThree = float(1.0)\n",
    "alphaFour  = float(1.0)\n",
    "alphaFive  = float(1/nrRecords)"
   ]
  },
  {
   "cell_type": "markdown",
   "metadata": {},
   "source": [
    "# epsilon 1 : Coefficient of Variety"
   ]
  },
  {
   "cell_type": "code",
   "execution_count": 8,
   "metadata": {},
   "outputs": [
    {
     "name": "stdout",
     "output_type": "stream",
     "text": [
      "   nrDataItems  complexityFactor\n",
      "0   20000000.0               1.0\n",
      "1   20000000.0               2.0\n",
      "2   20000000.0               3.0\n",
      "3   20000000.0               4.0\n",
      "4   20000000.0               5.0\n"
     ]
    }
   ],
   "source": [
    "nrRecordsInSection = nrRecords / 5\n",
    "\n",
    "DataItemsComplexityData = pd.DataFrame(\n",
    "    data=np.array([\n",
    "        [nrRecordsInSection, 1],\n",
    "        [nrRecordsInSection, 2],\n",
    "        [nrRecordsInSection, 3],\n",
    "        [nrRecordsInSection, 4],\n",
    "        [nrRecordsInSection, 5]\n",
    "    ]\n",
    "    ),\n",
    "    columns=['nrDataItems','complexityFactor'],\n",
    "    dtype=np.float64\n",
    ")\n",
    "\n",
    "print(DataItemsComplexityData)"
   ]
  },
  {
   "cell_type": "code",
   "execution_count": 9,
   "metadata": {},
   "outputs": [],
   "source": [
    "DataItemsComplexityData['sigma'] = DataItemsComplexityData.apply(lambda row: row['nrDataItems'] * row['complexityFactor'], \n",
    "                                                                 axis=1)"
   ]
  },
  {
   "cell_type": "code",
   "execution_count": 10,
   "metadata": {},
   "outputs": [
    {
     "name": "stdout",
     "output_type": "stream",
     "text": [
      "   nrDataItems  complexityFactor        sigma\n",
      "0   20000000.0               1.0   20000000.0\n",
      "1   20000000.0               2.0   40000000.0\n",
      "2   20000000.0               3.0   60000000.0\n",
      "3   20000000.0               4.0   80000000.0\n",
      "4   20000000.0               5.0  100000000.0\n"
     ]
    }
   ],
   "source": [
    "print(DataItemsComplexityData)"
   ]
  },
  {
   "cell_type": "code",
   "execution_count": 11,
   "metadata": {},
   "outputs": [
    {
     "name": "stdout",
     "output_type": "stream",
     "text": [
      "epsilon(1) =   300000000.000000000\n"
     ]
    }
   ],
   "source": [
    "sigmaDF=pd.DataFrame(DataItemsComplexityData['sigma'])\n",
    "epsilonOne = float(sigmaDF.sum(axis=0))\n",
    "print('epsilon(1) = %21.9f' % epsilonOne)"
   ]
  },
  {
   "cell_type": "markdown",
   "metadata": {},
   "source": [
    "# epsilon 2: Coefficient of Veracity"
   ]
  },
  {
   "cell_type": "code",
   "execution_count": 12,
   "metadata": {},
   "outputs": [
    {
     "name": "stdout",
     "output_type": "stream",
     "text": [
      "epsilon(2) =           1.000000000\n"
     ]
    }
   ],
   "source": [
    "if nrRecordswithProvenance == 0:\n",
    "    epsilonTwo = nrRecords\n",
    "else:\n",
    "    epsilonTwo = float(nrRecords/nrRecordswithProvenance)\n",
    "    \n",
    "print('epsilon(2) = %21.9f' % epsilonTwo)"
   ]
  },
  {
   "cell_type": "markdown",
   "metadata": {},
   "source": [
    "# epsilon 3:  Coefficient of Validity"
   ]
  },
  {
   "cell_type": "code",
   "execution_count": 13,
   "metadata": {},
   "outputs": [
    {
     "name": "stdout",
     "output_type": "stream",
     "text": [
      "epsilon(3) =           1.000000000\n"
     ]
    }
   ],
   "source": [
    "if nrRecordsValid == 0:\n",
    "    epsilonThree = nrRecords\n",
    "else:\n",
    "    epsilonThree = float(nrRecords/nrRecordsValid)\n",
    "        \n",
    "print('epsilon(3) = %21.9f' % epsilonThree)"
   ]
  },
  {
   "cell_type": "markdown",
   "metadata": {},
   "source": [
    "# epsilon 4:  Coefficient of Variability"
   ]
  },
  {
   "cell_type": "markdown",
   "metadata": {},
   "source": [
    "![Data Vault](./images/the_data_vault.png)"
   ]
  },
  {
   "cell_type": "code",
   "execution_count": 14,
   "metadata": {},
   "outputs": [
    {
     "name": "stdout",
     "output_type": "stream",
     "text": [
      "\n",
      "Hub\n",
      "====================\n",
      "Hub: Time\n",
      "Hub: Person\n",
      "Hub: Organisation\n",
      "Hub: Location\n",
      "Hub: Event\n",
      "5\n",
      "\n",
      "Link\n",
      "====================\n",
      "Link: Time-Time\n",
      "Link: Time-Person\n",
      "Link: Time-Organisation\n",
      "Link: Time-Location\n",
      "Link: Time-Event\n",
      "Link: Person-Person\n",
      "Link: Person-Organisation\n",
      "Link: Person-Location\n",
      "Link: Person-Event\n",
      "Link: Organisation-Organisation\n",
      "Link: Organisation-Location\n",
      "Link: Organisation-Event\n",
      "Link: Location-Location\n",
      "Link: Location-Event\n",
      "Link: Event-Event\n",
      "15\n",
      "\n",
      "Satellite\n",
      "====================\n",
      "Satellite: Time-Alpha\n",
      "Satellite: Time-Beta\n",
      "Satellite: Time-Charlie\n",
      "Satellite: Time-Delta\n",
      "Satellite: Time-Echo\n",
      "Satellite: Person-Alpha\n",
      "Satellite: Person-Beta\n",
      "Satellite: Person-Charlie\n",
      "Satellite: Person-Delta\n",
      "Satellite: Person-Echo\n",
      "Satellite: Organisation-Alpha\n",
      "Satellite: Organisation-Beta\n",
      "Satellite: Organisation-Charlie\n",
      "Satellite: Organisation-Delta\n",
      "Satellite: Organisation-Echo\n",
      "Satellite: Location-Alpha\n",
      "Satellite: Location-Beta\n",
      "Satellite: Location-Charlie\n",
      "Satellite: Location-Delta\n",
      "Satellite: Location-Echo\n",
      "Satellite: Event-Alpha\n",
      "Satellite: Event-Beta\n",
      "Satellite: Event-Charlie\n",
      "Satellite: Event-Delta\n",
      "Satellite: Event-Echo\n",
      "25\n",
      "nrProcesses: 45\n",
      "nrValidProcesses: 45\n"
     ]
    }
   ],
   "source": [
    "tpole=['Time','Person','Organisation','Location','Event']\n",
    "\n",
    "print('\\nHub\\n%s' % ('='*20))\n",
    "hubs = np.array(tuple(itertools.combinations(tpole, 1)))\n",
    "for i in range(hubs.shape[0]):\n",
    "    print('Hub: %s' % ('-'.join(hubs[i])))\n",
    "\n",
    "nrProcessesHub = hubs.shape[0]\n",
    "print(nrProcessesHub)\n",
    "\n",
    "print('\\nLink\\n%s' % ('='*20))\n",
    "links=np.array(tuple(itertools.combinations_with_replacement(tpole, 2)))\n",
    "for i in range(links.shape[0]):\n",
    "    print('Link: %s' % ('-'.join(links[i])))\n",
    "\n",
    "nrProcessesLink = links.shape[0]\n",
    "print(nrProcessesLink)\n",
    "    \n",
    "print('\\nSatellite\\n%s' % ('='*20))\n",
    "satType = ['Alpha','Beta','Charlie','Delta','Echo']\n",
    "\n",
    "satellites=np.array(tuple(itertools.product(tpole,satType)))\n",
    "for i in range(satellites.shape[0]):\n",
    "    print('Satellite: %s' % ('-'.join(satellites[i])))\n",
    "\n",
    "nrProcessesSatellite = satellites.shape[0]\n",
    "print(nrProcessesSatellite)\n",
    "\n",
    "nrProcesses = nrProcessesHub + nrProcessesLink + nrProcessesSatellite\n",
    "print('nrProcesses: %0d' % nrProcesses)\n",
    "\n",
    "nrValidProcesses = nrProcesses * ValidProcess\n",
    "print('nrValidProcesses: %0d' % nrValidProcesses)"
   ]
  },
  {
   "cell_type": "code",
   "execution_count": 15,
   "metadata": {},
   "outputs": [
    {
     "name": "stdout",
     "output_type": "stream",
     "text": [
      "epsilon(4) =           1.000000000\n"
     ]
    }
   ],
   "source": [
    "totalProcessFitness = nrValidProcesses * ProcessFitness\n",
    "\n",
    "averageProcessFitness = totalProcessFitness / nrProcesses\n",
    "\n",
    "epsilonFour = float((nrProcesses/nrValidProcesses) * averageProcessFitness)\n",
    "        \n",
    "print('epsilon(4) = %21.9f' % epsilonFour)"
   ]
  },
  {
   "cell_type": "markdown",
   "metadata": {},
   "source": [
    "# epsilon 5:  Coefficient of Value"
   ]
  },
  {
   "cell_type": "code",
   "execution_count": 16,
   "metadata": {},
   "outputs": [
    {
     "name": "stdout",
     "output_type": "stream",
     "text": [
      "epsilon(5) =           0.000000000\n"
     ]
    }
   ],
   "source": [
    "epsilonFive = float((nrRecords - nrRecordsValid) * businessValue * nrUsers)\n",
    "        \n",
    "print('epsilon(5) = %21.9f' % epsilonFive)"
   ]
  },
  {
   "cell_type": "markdown",
   "metadata": {},
   "source": [
    "# Coefficient of Swampiness SC"
   ]
  },
  {
   "cell_type": "code",
   "execution_count": 17,
   "metadata": {},
   "outputs": [
    {
     "name": "stdout",
     "output_type": "stream",
     "text": [
      "epsilon(1) =           300000000.000000000 - alpha(1) = 0.000000010 =>     3.000000000 (Variety - Multi-Formats)\n",
      "epsilon(2) =                   1.000000000 - alpha(2) = 1.000000000 =>     1.000000000 (Veracity - Trust Source of Data)\n",
      "epsilon(3) =                   1.000000000 - alpha(3) = 1.000000000 =>     1.000000000 (Validity - Data correctness)\n",
      "epsilon(4) =                   1.000000000 - alpha(4) = 1.000000000 =>     1.000000000 (Variability - Ease of Processing)\n",
      "epsilon(5) =                   0.000000000 - alpha(5) = 0.000000010 =>     0.000000000 (Value - Business Value Lost)\n",
      "\n",
      "Set: (S-0000) User: (U-001000000) Value: (£ 0.01) => Coefficient of Swampiness (SC) =           6.000000000\n"
     ]
    }
   ],
   "source": [
    "print('epsilon(1) = %29.9f - alpha(1) = %3.9f => %15.9f (Variety - Multi-Formats)' % (epsilonOne, alphaOne,(epsilonOne * alphaOne)))\n",
    "print('epsilon(2) = %29.9f - alpha(2) = %3.9f => %15.9f (Veracity - Trust Source of Data)' % (epsilonTwo, alphaTwo, (epsilonTwo * alphaTwo)))\n",
    "print('epsilon(3) = %29.9f - alpha(3) = %3.9f => %15.9f (Validity - Data correctness)' % (epsilonThree, alphaThree, (epsilonThree * alphaThree)))\n",
    "print('epsilon(4) = %29.9f - alpha(4) = %3.9f => %15.9f (Variability - Ease of Processing)' % (epsilonFour, alphaFour, (epsilonFour * alphaFour)))\n",
    "print('epsilon(5) = %29.9f - alpha(5) = %3.9f => %15.9f (Value - Business Value Lost)' % (epsilonFive, alphaFive, (epsilonFive * alphaFive)))\n",
    "\n",
    "\n",
    "SC = (epsilonOne * alphaOne) + (epsilonTwo * alphaTwo) + (epsilonThree * alphaThree) + (epsilonFour * alphaFour) + (epsilonFive * alphaFive)\n",
    "\n",
    "print('\\nSet: (S-%04d) User: (U-%09d) Value: (£ %0.2f) => Coefficient of Swampiness (SC) = %21.9f' % (nrSet, nrUser, nrValue, SC))"
   ]
  },
  {
   "cell_type": "code",
   "execution_count": 18,
   "metadata": {},
   "outputs": [
    {
     "name": "stdout",
     "output_type": "stream",
     "text": [
      "\n",
      "Business Insights Value\n",
      "==================================================\n",
      "> Expected = £    1,500,000,000.00\n",
      "+ Gain     = £    1,500,000,000.00\n",
      "          =========================\n",
      "- Lost     = £                0.00\n",
      "==================================================\n",
      "\n",
      "Business Value per 1,000 record: £0.000015\n",
      "\n",
      "User(s): 1,000,000\n",
      "\n",
      "Coefficient of Swampiness (SC) =     6.000000000\n"
     ]
    }
   ],
   "source": [
    "businessInsightsValueExpected = nrRecords * businessValue * nrUsers\n",
    "businessInsightsValueGain = nrRecordsValid * businessValue * nrUsers\n",
    "businessInsightsValueLost = businessInsightsValueExpected - businessInsightsValueGain\n",
    "\n",
    "print('\\nBusiness Insights Value')\n",
    "print('='*50)\n",
    "print('> Expected = £{:20,.2f}'.format(businessInsightsValueExpected))\n",
    "print('+ Gain     = £{:20,.2f}'.format(businessInsightsValueGain))\n",
    "print('%s%s' % (' '*10,'='*25))\n",
    "print('- Lost     = £{:20,.2f}'.format(businessInsightsValueLost))\n",
    "print('='*50)\n",
    "\n",
    "\n",
    "print('\\nBusiness Value per {:0,d} record: £{:0,.6f}'.format(nrRecordBlock, businessValue))\n",
    "print('\\nUser(s): {:0,d}'.format(nrUsers))\n",
    "\n",
    "print('\\nCoefficient of Swampiness (SC) = {:15.9f}'.format(SC))"
   ]
  },
  {
   "cell_type": "code",
   "execution_count": 19,
   "metadata": {},
   "outputs": [
    {
     "name": "stdout",
     "output_type": "stream",
     "text": [
      "R 0:     6.000000000 > £                0.00\n",
      "R 1:     6.001510000 > £           15,000.00\n",
      "R 2:     8.459102167 > £      225,000,000.00\n",
      "R 3:    20.496666667 > £    1,050,000,000.00\n"
     ]
    }
   ],
   "source": [
    "print('R 0: {:15.9f} > £{:20,.2f}'.format(6.0,0.00))\n",
    "print('R 1: {:15.9f} > £{:20,.2f}'.format(6.00151,15000.00))\n",
    "print('R 2: {:15.9f} > £{:20,.2f}'.format(8.459102167, 225000000.00))\n",
    "print('R 3: {:15.9f} > £{:20,.2f}'.format(20.496666667, 1050000000.00))"
   ]
  },
  {
   "cell_type": "code",
   "execution_count": 20,
   "metadata": {},
   "outputs": [
    {
     "name": "stdout",
     "output_type": "stream",
     "text": [
      "Done!\n"
     ]
    }
   ],
   "source": [
    "print('Done!')"
   ]
  },
  {
   "cell_type": "code",
   "execution_count": null,
   "metadata": {},
   "outputs": [],
   "source": []
  }
 ],
 "metadata": {
  "kernelspec": {
   "display_name": "Python 3",
   "language": "python",
   "name": "python3"
  },
  "language_info": {
   "codemirror_mode": {
    "name": "ipython",
    "version": 3
   },
   "file_extension": ".py",
   "mimetype": "text/x-python",
   "name": "python",
   "nbconvert_exporter": "python",
   "pygments_lexer": "ipython3",
   "version": "3.7.3"
  }
 },
 "nbformat": 4,
 "nbformat_minor": 2
}
